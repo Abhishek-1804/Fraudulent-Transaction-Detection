{
  "nbformat": 4,
  "nbformat_minor": 0,
  "metadata": {
    "accelerator": "GPU",
    "colab": {
      "name": "Fraud detection.ipynb",
      "provenance": [],
      "collapsed_sections": [],
      "include_colab_link": true
    },
    "kernelspec": {
      "display_name": "Python 3",
      "language": "python",
      "name": "python3"
    },
    "language_info": {
      "codemirror_mode": {
        "name": "ipython",
        "version": 3
      },
      "file_extension": ".py",
      "mimetype": "text/x-python",
      "name": "python",
      "nbconvert_exporter": "python",
      "pygments_lexer": "ipython3",
      "version": "3.8.3"
    }
  },
  "cells": [
    {
      "cell_type": "markdown",
      "metadata": {
        "id": "view-in-github",
        "colab_type": "text"
      },
      "source": [
        "<a href=\"https://colab.research.google.com/github/abhidp55/Fraudulent-Transaction-Detection/blob/main/Fraud_detection.ipynb\" target=\"_parent\"><img src=\"https://colab.research.google.com/assets/colab-badge.svg\" alt=\"Open In Colab\"/></a>"
      ]
    },
    {
      "cell_type": "markdown",
      "metadata": {
        "id": "4a1O4Ramc4qD"
      },
      "source": [
        "This Jupyter Notebook is a comprehensive analysis of the dataset 'transactions.txt' and application of machine learning models for the task of boolean binary classification (isFraud)\n",
        "\n",
        "The objective is to develop a predictive machine learning model to classify new datapoints as fraudulent or not"
      ]
    },
    {
      "cell_type": "markdown",
      "metadata": {
        "id": "oJNR7o4OZuDV"
      },
      "source": [
        "# Loading The Dataset into a Pandas DataFrame "
      ]
    },
    {
      "cell_type": "code",
      "metadata": {
        "colab": {
          "base_uri": "https://localhost:8080/"
        },
        "id": "6Nwf5W96F7zA",
        "outputId": "1e26b257-788a-4947-a650-d0e7a2570047"
      },
      "source": [
        "# transactions.zip is a repo in Google Drive\n",
        "# This cell mounts GDrive onto this Jupyter Notebook\n",
        "\n",
        "from google.colab import drive\n",
        "drive.mount('/content/gdrive/', force_remount=True)"
      ],
      "execution_count": 1,
      "outputs": [
        {
          "output_type": "stream",
          "text": [
            "Mounted at /content/gdrive/\n"
          ],
          "name": "stdout"
        }
      ]
    },
    {
      "cell_type": "code",
      "metadata": {
        "colab": {
          "base_uri": "https://localhost:8080/"
        },
        "id": "Hicp68FcF_JZ",
        "outputId": "638bbf40-a4e7-4e67-c8d9-2fc1be3ae031"
      },
      "source": [
        "!unzip \"/content/gdrive/MyDrive/Colab Notebooks/Git_ML/internship/transactions.zip\""
      ],
      "execution_count": 2,
      "outputs": [
        {
          "output_type": "stream",
          "text": [
            "Archive:  /content/gdrive/MyDrive/Colab Notebooks/Git_ML/internship/transactions.zip\n",
            "replace transactions.txt? [y]es, [n]o, [A]ll, [N]one, [r]ename: n\n"
          ],
          "name": "stdout"
        }
      ]
    },
    {
      "cell_type": "code",
      "metadata": {
        "id": "cq-JmuvPZuDX"
      },
      "source": [
        "# Importing the necessary libraries\n",
        "\n",
        "import pandas as pd\n",
        "import numpy as np\n",
        "import seaborn as sns\n",
        "import matplotlib.pyplot as plt\n",
        "%matplotlib inline"
      ],
      "execution_count": 3,
      "outputs": []
    },
    {
      "cell_type": "code",
      "metadata": {
        "id": "9HMjOLweZuDY"
      },
      "source": [
        "# Loading the dataset\n",
        "\n",
        "df = pd.read_json('transactions.txt', lines=True)"
      ],
      "execution_count": 4,
      "outputs": []
    },
    {
      "cell_type": "markdown",
      "metadata": {
        "id": "2kFQwcfeZuDZ"
      },
      "source": [
        "# Looking at the dataset and making some decisions before proceeding to exploratory data analysis"
      ]
    },
    {
      "cell_type": "code",
      "metadata": {
        "colab": {
          "base_uri": "https://localhost:8080/",
          "height": 1000
        },
        "id": "T9lkG_80ZuDZ",
        "outputId": "e147a634-824a-4c0b-a696-73432c7e39cc"
      },
      "source": [
        "# Observing values of the first 10 rows (always a good idea to manually look at the data first)\n",
        "\n",
        "df.head(10).transpose()"
      ],
      "execution_count": 5,
      "outputs": [
        {
          "output_type": "execute_result",
          "data": {
            "text/html": [
              "<div>\n",
              "<style scoped>\n",
              "    .dataframe tbody tr th:only-of-type {\n",
              "        vertical-align: middle;\n",
              "    }\n",
              "\n",
              "    .dataframe tbody tr th {\n",
              "        vertical-align: top;\n",
              "    }\n",
              "\n",
              "    .dataframe thead th {\n",
              "        text-align: right;\n",
              "    }\n",
              "</style>\n",
              "<table border=\"1\" class=\"dataframe\">\n",
              "  <thead>\n",
              "    <tr style=\"text-align: right;\">\n",
              "      <th></th>\n",
              "      <th>0</th>\n",
              "      <th>1</th>\n",
              "      <th>2</th>\n",
              "      <th>3</th>\n",
              "      <th>4</th>\n",
              "      <th>5</th>\n",
              "      <th>6</th>\n",
              "      <th>7</th>\n",
              "      <th>8</th>\n",
              "      <th>9</th>\n",
              "    </tr>\n",
              "  </thead>\n",
              "  <tbody>\n",
              "    <tr>\n",
              "      <th>accountNumber</th>\n",
              "      <td>737265056</td>\n",
              "      <td>737265056</td>\n",
              "      <td>737265056</td>\n",
              "      <td>737265056</td>\n",
              "      <td>830329091</td>\n",
              "      <td>830329091</td>\n",
              "      <td>830329091</td>\n",
              "      <td>830329091</td>\n",
              "      <td>830329091</td>\n",
              "      <td>830329091</td>\n",
              "    </tr>\n",
              "    <tr>\n",
              "      <th>customerId</th>\n",
              "      <td>737265056</td>\n",
              "      <td>737265056</td>\n",
              "      <td>737265056</td>\n",
              "      <td>737265056</td>\n",
              "      <td>830329091</td>\n",
              "      <td>830329091</td>\n",
              "      <td>830329091</td>\n",
              "      <td>830329091</td>\n",
              "      <td>830329091</td>\n",
              "      <td>830329091</td>\n",
              "    </tr>\n",
              "    <tr>\n",
              "      <th>creditLimit</th>\n",
              "      <td>5000</td>\n",
              "      <td>5000</td>\n",
              "      <td>5000</td>\n",
              "      <td>5000</td>\n",
              "      <td>5000</td>\n",
              "      <td>5000</td>\n",
              "      <td>5000</td>\n",
              "      <td>5000</td>\n",
              "      <td>5000</td>\n",
              "      <td>5000</td>\n",
              "    </tr>\n",
              "    <tr>\n",
              "      <th>availableMoney</th>\n",
              "      <td>5000</td>\n",
              "      <td>5000</td>\n",
              "      <td>5000</td>\n",
              "      <td>5000</td>\n",
              "      <td>5000</td>\n",
              "      <td>5000</td>\n",
              "      <td>5000</td>\n",
              "      <td>5000</td>\n",
              "      <td>4990.63</td>\n",
              "      <td>5000</td>\n",
              "    </tr>\n",
              "    <tr>\n",
              "      <th>transactionDateTime</th>\n",
              "      <td>2016-08-13T14:27:32</td>\n",
              "      <td>2016-10-11T05:05:54</td>\n",
              "      <td>2016-11-08T09:18:39</td>\n",
              "      <td>2016-12-10T02:14:50</td>\n",
              "      <td>2016-03-24T21:04:46</td>\n",
              "      <td>2016-04-19T16:24:27</td>\n",
              "      <td>2016-05-21T14:50:35</td>\n",
              "      <td>2016-06-03T00:31:21</td>\n",
              "      <td>2016-06-10T01:21:46</td>\n",
              "      <td>2016-07-11T10:47:16</td>\n",
              "    </tr>\n",
              "    <tr>\n",
              "      <th>transactionAmount</th>\n",
              "      <td>98.55</td>\n",
              "      <td>74.51</td>\n",
              "      <td>7.47</td>\n",
              "      <td>7.47</td>\n",
              "      <td>71.18</td>\n",
              "      <td>30.76</td>\n",
              "      <td>57.28</td>\n",
              "      <td>9.37</td>\n",
              "      <td>523.67</td>\n",
              "      <td>164.37</td>\n",
              "    </tr>\n",
              "    <tr>\n",
              "      <th>merchantName</th>\n",
              "      <td>Uber</td>\n",
              "      <td>AMC #191138</td>\n",
              "      <td>Play Store</td>\n",
              "      <td>Play Store</td>\n",
              "      <td>Tim Hortons #947751</td>\n",
              "      <td>In-N-Out #422833</td>\n",
              "      <td>Krispy Kreme #685312</td>\n",
              "      <td>Shake Shack #968081</td>\n",
              "      <td>Burger King #486122</td>\n",
              "      <td>Five Guys #510989</td>\n",
              "    </tr>\n",
              "    <tr>\n",
              "      <th>acqCountry</th>\n",
              "      <td>US</td>\n",
              "      <td>US</td>\n",
              "      <td>US</td>\n",
              "      <td>US</td>\n",
              "      <td>US</td>\n",
              "      <td>US</td>\n",
              "      <td>US</td>\n",
              "      <td>US</td>\n",
              "      <td></td>\n",
              "      <td>US</td>\n",
              "    </tr>\n",
              "    <tr>\n",
              "      <th>merchantCountryCode</th>\n",
              "      <td>US</td>\n",
              "      <td>US</td>\n",
              "      <td>US</td>\n",
              "      <td>US</td>\n",
              "      <td>US</td>\n",
              "      <td>US</td>\n",
              "      <td>US</td>\n",
              "      <td>US</td>\n",
              "      <td>US</td>\n",
              "      <td>US</td>\n",
              "    </tr>\n",
              "    <tr>\n",
              "      <th>posEntryMode</th>\n",
              "      <td>02</td>\n",
              "      <td>09</td>\n",
              "      <td>09</td>\n",
              "      <td>09</td>\n",
              "      <td>02</td>\n",
              "      <td>02</td>\n",
              "      <td>02</td>\n",
              "      <td>05</td>\n",
              "      <td>02</td>\n",
              "      <td>05</td>\n",
              "    </tr>\n",
              "    <tr>\n",
              "      <th>posConditionCode</th>\n",
              "      <td>01</td>\n",
              "      <td>01</td>\n",
              "      <td>01</td>\n",
              "      <td>01</td>\n",
              "      <td>01</td>\n",
              "      <td>01</td>\n",
              "      <td>01</td>\n",
              "      <td>01</td>\n",
              "      <td>01</td>\n",
              "      <td>08</td>\n",
              "    </tr>\n",
              "    <tr>\n",
              "      <th>merchantCategoryCode</th>\n",
              "      <td>rideshare</td>\n",
              "      <td>entertainment</td>\n",
              "      <td>mobileapps</td>\n",
              "      <td>mobileapps</td>\n",
              "      <td>fastfood</td>\n",
              "      <td>fastfood</td>\n",
              "      <td>fastfood</td>\n",
              "      <td>fastfood</td>\n",
              "      <td>fastfood</td>\n",
              "      <td>fastfood</td>\n",
              "    </tr>\n",
              "    <tr>\n",
              "      <th>currentExpDate</th>\n",
              "      <td>06/2023</td>\n",
              "      <td>02/2024</td>\n",
              "      <td>08/2025</td>\n",
              "      <td>08/2025</td>\n",
              "      <td>10/2029</td>\n",
              "      <td>01/2020</td>\n",
              "      <td>05/2020</td>\n",
              "      <td>01/2021</td>\n",
              "      <td>08/2032</td>\n",
              "      <td>04/2020</td>\n",
              "    </tr>\n",
              "    <tr>\n",
              "      <th>accountOpenDate</th>\n",
              "      <td>2015-03-14</td>\n",
              "      <td>2015-03-14</td>\n",
              "      <td>2015-03-14</td>\n",
              "      <td>2015-03-14</td>\n",
              "      <td>2015-08-06</td>\n",
              "      <td>2015-08-06</td>\n",
              "      <td>2015-08-06</td>\n",
              "      <td>2015-08-06</td>\n",
              "      <td>2015-08-06</td>\n",
              "      <td>2015-08-06</td>\n",
              "    </tr>\n",
              "    <tr>\n",
              "      <th>dateOfLastAddressChange</th>\n",
              "      <td>2015-03-14</td>\n",
              "      <td>2015-03-14</td>\n",
              "      <td>2015-03-14</td>\n",
              "      <td>2015-03-14</td>\n",
              "      <td>2015-08-06</td>\n",
              "      <td>2015-08-06</td>\n",
              "      <td>2015-08-06</td>\n",
              "      <td>2015-08-06</td>\n",
              "      <td>2015-08-06</td>\n",
              "      <td>2015-08-06</td>\n",
              "    </tr>\n",
              "    <tr>\n",
              "      <th>cardCVV</th>\n",
              "      <td>414</td>\n",
              "      <td>486</td>\n",
              "      <td>486</td>\n",
              "      <td>486</td>\n",
              "      <td>885</td>\n",
              "      <td>885</td>\n",
              "      <td>885</td>\n",
              "      <td>885</td>\n",
              "      <td>885</td>\n",
              "      <td>885</td>\n",
              "    </tr>\n",
              "    <tr>\n",
              "      <th>enteredCVV</th>\n",
              "      <td>414</td>\n",
              "      <td>486</td>\n",
              "      <td>486</td>\n",
              "      <td>486</td>\n",
              "      <td>885</td>\n",
              "      <td>885</td>\n",
              "      <td>885</td>\n",
              "      <td>885</td>\n",
              "      <td>885</td>\n",
              "      <td>885</td>\n",
              "    </tr>\n",
              "    <tr>\n",
              "      <th>cardLast4Digits</th>\n",
              "      <td>1803</td>\n",
              "      <td>767</td>\n",
              "      <td>767</td>\n",
              "      <td>767</td>\n",
              "      <td>3143</td>\n",
              "      <td>3143</td>\n",
              "      <td>3143</td>\n",
              "      <td>3143</td>\n",
              "      <td>3143</td>\n",
              "      <td>3143</td>\n",
              "    </tr>\n",
              "    <tr>\n",
              "      <th>transactionType</th>\n",
              "      <td>PURCHASE</td>\n",
              "      <td>PURCHASE</td>\n",
              "      <td>PURCHASE</td>\n",
              "      <td>PURCHASE</td>\n",
              "      <td>PURCHASE</td>\n",
              "      <td>PURCHASE</td>\n",
              "      <td>PURCHASE</td>\n",
              "      <td>PURCHASE</td>\n",
              "      <td>PURCHASE</td>\n",
              "      <td>PURCHASE</td>\n",
              "    </tr>\n",
              "    <tr>\n",
              "      <th>echoBuffer</th>\n",
              "      <td></td>\n",
              "      <td></td>\n",
              "      <td></td>\n",
              "      <td></td>\n",
              "      <td></td>\n",
              "      <td></td>\n",
              "      <td></td>\n",
              "      <td></td>\n",
              "      <td></td>\n",
              "      <td></td>\n",
              "    </tr>\n",
              "    <tr>\n",
              "      <th>currentBalance</th>\n",
              "      <td>0</td>\n",
              "      <td>0</td>\n",
              "      <td>0</td>\n",
              "      <td>0</td>\n",
              "      <td>0</td>\n",
              "      <td>0</td>\n",
              "      <td>0</td>\n",
              "      <td>0</td>\n",
              "      <td>9.37</td>\n",
              "      <td>0</td>\n",
              "    </tr>\n",
              "    <tr>\n",
              "      <th>merchantCity</th>\n",
              "      <td></td>\n",
              "      <td></td>\n",
              "      <td></td>\n",
              "      <td></td>\n",
              "      <td></td>\n",
              "      <td></td>\n",
              "      <td></td>\n",
              "      <td></td>\n",
              "      <td></td>\n",
              "      <td></td>\n",
              "    </tr>\n",
              "    <tr>\n",
              "      <th>merchantState</th>\n",
              "      <td></td>\n",
              "      <td></td>\n",
              "      <td></td>\n",
              "      <td></td>\n",
              "      <td></td>\n",
              "      <td></td>\n",
              "      <td></td>\n",
              "      <td></td>\n",
              "      <td></td>\n",
              "      <td></td>\n",
              "    </tr>\n",
              "    <tr>\n",
              "      <th>merchantZip</th>\n",
              "      <td></td>\n",
              "      <td></td>\n",
              "      <td></td>\n",
              "      <td></td>\n",
              "      <td></td>\n",
              "      <td></td>\n",
              "      <td></td>\n",
              "      <td></td>\n",
              "      <td></td>\n",
              "      <td></td>\n",
              "    </tr>\n",
              "    <tr>\n",
              "      <th>cardPresent</th>\n",
              "      <td>False</td>\n",
              "      <td>True</td>\n",
              "      <td>False</td>\n",
              "      <td>False</td>\n",
              "      <td>True</td>\n",
              "      <td>True</td>\n",
              "      <td>True</td>\n",
              "      <td>True</td>\n",
              "      <td>True</td>\n",
              "      <td>True</td>\n",
              "    </tr>\n",
              "    <tr>\n",
              "      <th>posOnPremises</th>\n",
              "      <td></td>\n",
              "      <td></td>\n",
              "      <td></td>\n",
              "      <td></td>\n",
              "      <td></td>\n",
              "      <td></td>\n",
              "      <td></td>\n",
              "      <td></td>\n",
              "      <td></td>\n",
              "      <td></td>\n",
              "    </tr>\n",
              "    <tr>\n",
              "      <th>recurringAuthInd</th>\n",
              "      <td></td>\n",
              "      <td></td>\n",
              "      <td></td>\n",
              "      <td></td>\n",
              "      <td></td>\n",
              "      <td></td>\n",
              "      <td></td>\n",
              "      <td></td>\n",
              "      <td></td>\n",
              "      <td></td>\n",
              "    </tr>\n",
              "    <tr>\n",
              "      <th>expirationDateKeyInMatch</th>\n",
              "      <td>False</td>\n",
              "      <td>False</td>\n",
              "      <td>False</td>\n",
              "      <td>False</td>\n",
              "      <td>False</td>\n",
              "      <td>False</td>\n",
              "      <td>False</td>\n",
              "      <td>False</td>\n",
              "      <td>False</td>\n",
              "      <td>False</td>\n",
              "    </tr>\n",
              "    <tr>\n",
              "      <th>isFraud</th>\n",
              "      <td>False</td>\n",
              "      <td>False</td>\n",
              "      <td>False</td>\n",
              "      <td>False</td>\n",
              "      <td>False</td>\n",
              "      <td>False</td>\n",
              "      <td>False</td>\n",
              "      <td>False</td>\n",
              "      <td>False</td>\n",
              "      <td>False</td>\n",
              "    </tr>\n",
              "  </tbody>\n",
              "</table>\n",
              "</div>"
            ],
            "text/plain": [
              "                                            0  ...                    9\n",
              "accountNumber                       737265056  ...            830329091\n",
              "customerId                          737265056  ...            830329091\n",
              "creditLimit                              5000  ...                 5000\n",
              "availableMoney                           5000  ...                 5000\n",
              "transactionDateTime       2016-08-13T14:27:32  ...  2016-07-11T10:47:16\n",
              "transactionAmount                       98.55  ...               164.37\n",
              "merchantName                             Uber  ...    Five Guys #510989\n",
              "acqCountry                                 US  ...                   US\n",
              "merchantCountryCode                        US  ...                   US\n",
              "posEntryMode                               02  ...                   05\n",
              "posConditionCode                           01  ...                   08\n",
              "merchantCategoryCode                rideshare  ...             fastfood\n",
              "currentExpDate                        06/2023  ...              04/2020\n",
              "accountOpenDate                    2015-03-14  ...           2015-08-06\n",
              "dateOfLastAddressChange            2015-03-14  ...           2015-08-06\n",
              "cardCVV                                   414  ...                  885\n",
              "enteredCVV                                414  ...                  885\n",
              "cardLast4Digits                          1803  ...                 3143\n",
              "transactionType                      PURCHASE  ...             PURCHASE\n",
              "echoBuffer                                     ...                     \n",
              "currentBalance                              0  ...                    0\n",
              "merchantCity                                   ...                     \n",
              "merchantState                                  ...                     \n",
              "merchantZip                                    ...                     \n",
              "cardPresent                             False  ...                 True\n",
              "posOnPremises                                  ...                     \n",
              "recurringAuthInd                               ...                     \n",
              "expirationDateKeyInMatch                False  ...                False\n",
              "isFraud                                 False  ...                False\n",
              "\n",
              "[29 rows x 10 columns]"
            ]
          },
          "metadata": {
            "tags": []
          },
          "execution_count": 5
        }
      ]
    },
    {
      "cell_type": "markdown",
      "metadata": {
        "id": "n4aCXWlRIOgQ"
      },
      "source": [
        "It looks like some of the columns are blank, and there's a collection of various datatypes:\n",
        "String, float, datetime, categorical, int, boolean, object"
      ]
    },
    {
      "cell_type": "code",
      "metadata": {
        "colab": {
          "base_uri": "https://localhost:8080/"
        },
        "id": "Sm4UNYNSZuDa",
        "outputId": "7650058c-ce48-4edc-aa6e-a08fa4c5ebcc"
      },
      "source": [
        "# Useful to check out the datatypes for each feature\n",
        "\n",
        "df.info()"
      ],
      "execution_count": 6,
      "outputs": [
        {
          "output_type": "stream",
          "text": [
            "<class 'pandas.core.frame.DataFrame'>\n",
            "RangeIndex: 786363 entries, 0 to 786362\n",
            "Data columns (total 29 columns):\n",
            " #   Column                    Non-Null Count   Dtype  \n",
            "---  ------                    --------------   -----  \n",
            " 0   accountNumber             786363 non-null  int64  \n",
            " 1   customerId                786363 non-null  int64  \n",
            " 2   creditLimit               786363 non-null  int64  \n",
            " 3   availableMoney            786363 non-null  float64\n",
            " 4   transactionDateTime       786363 non-null  object \n",
            " 5   transactionAmount         786363 non-null  float64\n",
            " 6   merchantName              786363 non-null  object \n",
            " 7   acqCountry                786363 non-null  object \n",
            " 8   merchantCountryCode       786363 non-null  object \n",
            " 9   posEntryMode              786363 non-null  object \n",
            " 10  posConditionCode          786363 non-null  object \n",
            " 11  merchantCategoryCode      786363 non-null  object \n",
            " 12  currentExpDate            786363 non-null  object \n",
            " 13  accountOpenDate           786363 non-null  object \n",
            " 14  dateOfLastAddressChange   786363 non-null  object \n",
            " 15  cardCVV                   786363 non-null  int64  \n",
            " 16  enteredCVV                786363 non-null  int64  \n",
            " 17  cardLast4Digits           786363 non-null  int64  \n",
            " 18  transactionType           786363 non-null  object \n",
            " 19  echoBuffer                786363 non-null  object \n",
            " 20  currentBalance            786363 non-null  float64\n",
            " 21  merchantCity              786363 non-null  object \n",
            " 22  merchantState             786363 non-null  object \n",
            " 23  merchantZip               786363 non-null  object \n",
            " 24  cardPresent               786363 non-null  bool   \n",
            " 25  posOnPremises             786363 non-null  object \n",
            " 26  recurringAuthInd          786363 non-null  object \n",
            " 27  expirationDateKeyInMatch  786363 non-null  bool   \n",
            " 28  isFraud                   786363 non-null  bool   \n",
            "dtypes: bool(3), float64(3), int64(6), object(17)\n",
            "memory usage: 158.2+ MB\n"
          ],
          "name": "stdout"
        }
      ]
    },
    {
      "cell_type": "code",
      "metadata": {
        "colab": {
          "base_uri": "https://localhost:8080/"
        },
        "id": "bcNl-lPXZuDa",
        "outputId": "aa2a7de6-c806-433b-ae52-e2989f2a6e6c"
      },
      "source": [
        "# Useful to check out the number of Null values for each feature\n",
        "\n",
        "df.isnull().sum()"
      ],
      "execution_count": 7,
      "outputs": [
        {
          "output_type": "execute_result",
          "data": {
            "text/plain": [
              "accountNumber               0\n",
              "customerId                  0\n",
              "creditLimit                 0\n",
              "availableMoney              0\n",
              "transactionDateTime         0\n",
              "transactionAmount           0\n",
              "merchantName                0\n",
              "acqCountry                  0\n",
              "merchantCountryCode         0\n",
              "posEntryMode                0\n",
              "posConditionCode            0\n",
              "merchantCategoryCode        0\n",
              "currentExpDate              0\n",
              "accountOpenDate             0\n",
              "dateOfLastAddressChange     0\n",
              "cardCVV                     0\n",
              "enteredCVV                  0\n",
              "cardLast4Digits             0\n",
              "transactionType             0\n",
              "echoBuffer                  0\n",
              "currentBalance              0\n",
              "merchantCity                0\n",
              "merchantState               0\n",
              "merchantZip                 0\n",
              "cardPresent                 0\n",
              "posOnPremises               0\n",
              "recurringAuthInd            0\n",
              "expirationDateKeyInMatch    0\n",
              "isFraud                     0\n",
              "dtype: int64"
            ]
          },
          "metadata": {
            "tags": []
          },
          "execution_count": 7
        }
      ]
    },
    {
      "cell_type": "code",
      "metadata": {
        "colab": {
          "base_uri": "https://localhost:8080/",
          "height": 300
        },
        "id": "C6tadLmdZuDb",
        "outputId": "03e73da4-9123-4b31-d986-0f2fccc66ff3"
      },
      "source": [
        "# Useful to check out the distribution of all the continuous valued featured of the dataset\n",
        "\n",
        "df.describe()"
      ],
      "execution_count": 8,
      "outputs": [
        {
          "output_type": "execute_result",
          "data": {
            "text/html": [
              "<div>\n",
              "<style scoped>\n",
              "    .dataframe tbody tr th:only-of-type {\n",
              "        vertical-align: middle;\n",
              "    }\n",
              "\n",
              "    .dataframe tbody tr th {\n",
              "        vertical-align: top;\n",
              "    }\n",
              "\n",
              "    .dataframe thead th {\n",
              "        text-align: right;\n",
              "    }\n",
              "</style>\n",
              "<table border=\"1\" class=\"dataframe\">\n",
              "  <thead>\n",
              "    <tr style=\"text-align: right;\">\n",
              "      <th></th>\n",
              "      <th>accountNumber</th>\n",
              "      <th>customerId</th>\n",
              "      <th>creditLimit</th>\n",
              "      <th>availableMoney</th>\n",
              "      <th>transactionAmount</th>\n",
              "      <th>cardCVV</th>\n",
              "      <th>enteredCVV</th>\n",
              "      <th>cardLast4Digits</th>\n",
              "      <th>currentBalance</th>\n",
              "    </tr>\n",
              "  </thead>\n",
              "  <tbody>\n",
              "    <tr>\n",
              "      <th>count</th>\n",
              "      <td>7.863630e+05</td>\n",
              "      <td>7.863630e+05</td>\n",
              "      <td>786363.000000</td>\n",
              "      <td>786363.000000</td>\n",
              "      <td>786363.000000</td>\n",
              "      <td>786363.000000</td>\n",
              "      <td>786363.000000</td>\n",
              "      <td>786363.000000</td>\n",
              "      <td>786363.000000</td>\n",
              "    </tr>\n",
              "    <tr>\n",
              "      <th>mean</th>\n",
              "      <td>5.372326e+08</td>\n",
              "      <td>5.372326e+08</td>\n",
              "      <td>10759.464459</td>\n",
              "      <td>6250.725369</td>\n",
              "      <td>136.985791</td>\n",
              "      <td>544.467338</td>\n",
              "      <td>544.183857</td>\n",
              "      <td>4757.417799</td>\n",
              "      <td>4508.739089</td>\n",
              "    </tr>\n",
              "    <tr>\n",
              "      <th>std</th>\n",
              "      <td>2.554211e+08</td>\n",
              "      <td>2.554211e+08</td>\n",
              "      <td>11636.174890</td>\n",
              "      <td>8880.783989</td>\n",
              "      <td>147.725569</td>\n",
              "      <td>261.524220</td>\n",
              "      <td>261.551254</td>\n",
              "      <td>2996.583810</td>\n",
              "      <td>6457.442068</td>\n",
              "    </tr>\n",
              "    <tr>\n",
              "      <th>min</th>\n",
              "      <td>1.000881e+08</td>\n",
              "      <td>1.000881e+08</td>\n",
              "      <td>250.000000</td>\n",
              "      <td>-1005.630000</td>\n",
              "      <td>0.000000</td>\n",
              "      <td>100.000000</td>\n",
              "      <td>0.000000</td>\n",
              "      <td>0.000000</td>\n",
              "      <td>0.000000</td>\n",
              "    </tr>\n",
              "    <tr>\n",
              "      <th>25%</th>\n",
              "      <td>3.301333e+08</td>\n",
              "      <td>3.301333e+08</td>\n",
              "      <td>5000.000000</td>\n",
              "      <td>1077.420000</td>\n",
              "      <td>33.650000</td>\n",
              "      <td>310.000000</td>\n",
              "      <td>310.000000</td>\n",
              "      <td>2178.000000</td>\n",
              "      <td>689.910000</td>\n",
              "    </tr>\n",
              "    <tr>\n",
              "      <th>50%</th>\n",
              "      <td>5.074561e+08</td>\n",
              "      <td>5.074561e+08</td>\n",
              "      <td>7500.000000</td>\n",
              "      <td>3184.860000</td>\n",
              "      <td>87.900000</td>\n",
              "      <td>535.000000</td>\n",
              "      <td>535.000000</td>\n",
              "      <td>4733.000000</td>\n",
              "      <td>2451.760000</td>\n",
              "    </tr>\n",
              "    <tr>\n",
              "      <th>75%</th>\n",
              "      <td>7.676200e+08</td>\n",
              "      <td>7.676200e+08</td>\n",
              "      <td>15000.000000</td>\n",
              "      <td>7500.000000</td>\n",
              "      <td>191.480000</td>\n",
              "      <td>785.000000</td>\n",
              "      <td>785.000000</td>\n",
              "      <td>7338.000000</td>\n",
              "      <td>5291.095000</td>\n",
              "    </tr>\n",
              "    <tr>\n",
              "      <th>max</th>\n",
              "      <td>9.993896e+08</td>\n",
              "      <td>9.993896e+08</td>\n",
              "      <td>50000.000000</td>\n",
              "      <td>50000.000000</td>\n",
              "      <td>2011.540000</td>\n",
              "      <td>998.000000</td>\n",
              "      <td>998.000000</td>\n",
              "      <td>9998.000000</td>\n",
              "      <td>47498.810000</td>\n",
              "    </tr>\n",
              "  </tbody>\n",
              "</table>\n",
              "</div>"
            ],
            "text/plain": [
              "       accountNumber    customerId  ...  cardLast4Digits  currentBalance\n",
              "count   7.863630e+05  7.863630e+05  ...    786363.000000   786363.000000\n",
              "mean    5.372326e+08  5.372326e+08  ...      4757.417799     4508.739089\n",
              "std     2.554211e+08  2.554211e+08  ...      2996.583810     6457.442068\n",
              "min     1.000881e+08  1.000881e+08  ...         0.000000        0.000000\n",
              "25%     3.301333e+08  3.301333e+08  ...      2178.000000      689.910000\n",
              "50%     5.074561e+08  5.074561e+08  ...      4733.000000     2451.760000\n",
              "75%     7.676200e+08  7.676200e+08  ...      7338.000000     5291.095000\n",
              "max     9.993896e+08  9.993896e+08  ...      9998.000000    47498.810000\n",
              "\n",
              "[8 rows x 9 columns]"
            ]
          },
          "metadata": {
            "tags": []
          },
          "execution_count": 8
        }
      ]
    },
    {
      "cell_type": "code",
      "metadata": {
        "colab": {
          "base_uri": "https://localhost:8080/"
        },
        "id": "DLoIUgQqZuDb",
        "outputId": "3e0c2355-61aa-4498-96d9-3c8d97e9de54"
      },
      "source": [
        "# Total number of records and features\n",
        "\n",
        "print(\"Number of records: {}, number of fields: {}\\n\".format(df.shape[0], df.shape[1]))"
      ],
      "execution_count": 9,
      "outputs": [
        {
          "output_type": "stream",
          "text": [
            "Number of records: 786363, number of fields: 29\n",
            "\n"
          ],
          "name": "stdout"
        }
      ]
    },
    {
      "cell_type": "code",
      "metadata": {
        "colab": {
          "base_uri": "https://localhost:8080/"
        },
        "id": "zDhNj7C1ZuDc",
        "outputId": "f54e4738-a6fb-40a6-bd08-566250d51fe9"
      },
      "source": [
        "# Distributions of the categories of the various categorical features\n",
        "\n",
        "print('acqCountry: \\n', df['acqCountry'].value_counts())\n",
        "print('\\n')\n",
        "print('merchantCountryCode:\\n', df['merchantCountryCode'].value_counts())\n",
        "print('\\n')\n",
        "print('cardPresent:\\n', df['cardPresent'].value_counts())\n",
        "print('\\n')\n",
        "print('creditLimit:\\n', df['creditLimit'].unique())\n",
        "print('\\n')\n",
        "print('expirationDateKeyInMatch:\\n', df['expirationDateKeyInMatch'].value_counts())\n",
        "print('\\n')\n",
        "print('merchantCategoryCode:', df['merchantCategoryCode'].unique())\n",
        "print('\\n')\n",
        "print('transactionType:\\n', df['transactionType'].value_counts())\n",
        "print('\\n')\n",
        "print('posEntryMode:', df['posEntryMode'].unique())\n",
        "print('\\n')\n",
        "print('posConditionCode:', df['posConditionCode'].unique())\n",
        "print('\\n')\n",
        "print('isFraud:\\n', df['isFraud'].value_counts())\n"
      ],
      "execution_count": 10,
      "outputs": [
        {
          "output_type": "stream",
          "text": [
            "acqCountry: \n",
            " US     774709\n",
            "         4562\n",
            "MEX      3130\n",
            "CAN      2424\n",
            "PR       1538\n",
            "Name: acqCountry, dtype: int64\n",
            "\n",
            "\n",
            "merchantCountryCode:\n",
            " US     778511\n",
            "MEX      3143\n",
            "CAN      2426\n",
            "PR       1559\n",
            "          724\n",
            "Name: merchantCountryCode, dtype: int64\n",
            "\n",
            "\n",
            "cardPresent:\n",
            " False    433495\n",
            "True     352868\n",
            "Name: cardPresent, dtype: int64\n",
            "\n",
            "\n",
            "creditLimit:\n",
            " [ 5000  2500 50000 15000 10000   250   500  1000  7500 20000]\n",
            "\n",
            "\n",
            "expirationDateKeyInMatch:\n",
            " False    785320\n",
            "True       1043\n",
            "Name: expirationDateKeyInMatch, dtype: int64\n",
            "\n",
            "\n",
            "merchantCategoryCode: ['rideshare' 'entertainment' 'mobileapps' 'fastfood' 'food_delivery'\n",
            " 'auto' 'online_retail' 'gym' 'health' 'personal care' 'food' 'fuel'\n",
            " 'online_subscriptions' 'online_gifts' 'hotels' 'airline' 'furniture'\n",
            " 'subscriptions' 'cable/phone']\n",
            "\n",
            "\n",
            "transactionType:\n",
            " PURCHASE                745193\n",
            "REVERSAL                 20303\n",
            "ADDRESS_VERIFICATION     20169\n",
            "                           698\n",
            "Name: transactionType, dtype: int64\n",
            "\n",
            "\n",
            "posEntryMode: ['02' '09' '05' '80' '90' '']\n",
            "\n",
            "\n",
            "posConditionCode: ['01' '08' '99' '']\n",
            "\n",
            "\n",
            "isFraud:\n",
            " False    773946\n",
            "True      12417\n",
            "Name: isFraud, dtype: int64\n"
          ],
          "name": "stdout"
        }
      ]
    },
    {
      "cell_type": "code",
      "metadata": {
        "id": "hzyONpGEZuDc"
      },
      "source": [
        "# Some of the features are not useful for our models, so it's a good idea to drop them completely\n",
        "\n",
        "df = df.drop(['echoBuffer', 'merchantCity', 'merchantState',\n",
        "                  'merchantZip', 'posOnPremises', 'recurringAuthInd','accountNumber','customerId','merchantName'], axis=1)"
      ],
      "execution_count": 11,
      "outputs": []
    },
    {
      "cell_type": "markdown",
      "metadata": {
        "id": "LUilOY5KZuDd"
      },
      "source": [
        "# Exploratory Data Analysis"
      ]
    },
    {
      "cell_type": "code",
      "metadata": {
        "colab": {
          "base_uri": "https://localhost:8080/",
          "height": 383
        },
        "id": "PGbFAt0mZuDd",
        "outputId": "1aec46bd-b74b-4a16-d286-ffcf5cd7c429"
      },
      "source": [
        "# Correlation matrix is a good idea to figure out the correlation between the independent features and the dependent (target = isFraud) feature\n",
        "\n",
        "df.corr().drop('isFraud',axis=1)"
      ],
      "execution_count": 12,
      "outputs": [
        {
          "output_type": "execute_result",
          "data": {
            "text/html": [
              "<div>\n",
              "<style scoped>\n",
              "    .dataframe tbody tr th:only-of-type {\n",
              "        vertical-align: middle;\n",
              "    }\n",
              "\n",
              "    .dataframe tbody tr th {\n",
              "        vertical-align: top;\n",
              "    }\n",
              "\n",
              "    .dataframe thead th {\n",
              "        text-align: right;\n",
              "    }\n",
              "</style>\n",
              "<table border=\"1\" class=\"dataframe\">\n",
              "  <thead>\n",
              "    <tr style=\"text-align: right;\">\n",
              "      <th></th>\n",
              "      <th>creditLimit</th>\n",
              "      <th>availableMoney</th>\n",
              "      <th>transactionAmount</th>\n",
              "      <th>cardCVV</th>\n",
              "      <th>enteredCVV</th>\n",
              "      <th>cardLast4Digits</th>\n",
              "      <th>currentBalance</th>\n",
              "      <th>cardPresent</th>\n",
              "      <th>expirationDateKeyInMatch</th>\n",
              "    </tr>\n",
              "  </thead>\n",
              "  <tbody>\n",
              "    <tr>\n",
              "      <th>creditLimit</th>\n",
              "      <td>1.000000</td>\n",
              "      <td>0.834977</td>\n",
              "      <td>0.005581</td>\n",
              "      <td>0.051006</td>\n",
              "      <td>0.051088</td>\n",
              "      <td>0.125611</td>\n",
              "      <td>0.653652</td>\n",
              "      <td>-0.003929</td>\n",
              "      <td>0.002391</td>\n",
              "    </tr>\n",
              "    <tr>\n",
              "      <th>availableMoney</th>\n",
              "      <td>0.834977</td>\n",
              "      <td>1.000000</td>\n",
              "      <td>-0.010070</td>\n",
              "      <td>0.016253</td>\n",
              "      <td>0.016323</td>\n",
              "      <td>0.073879</td>\n",
              "      <td>0.129332</td>\n",
              "      <td>0.002508</td>\n",
              "      <td>0.004067</td>\n",
              "    </tr>\n",
              "    <tr>\n",
              "      <th>transactionAmount</th>\n",
              "      <td>0.005581</td>\n",
              "      <td>-0.010070</td>\n",
              "      <td>1.000000</td>\n",
              "      <td>-0.000233</td>\n",
              "      <td>-0.000141</td>\n",
              "      <td>-0.001513</td>\n",
              "      <td>0.023905</td>\n",
              "      <td>0.037361</td>\n",
              "      <td>0.001751</td>\n",
              "    </tr>\n",
              "    <tr>\n",
              "      <th>cardCVV</th>\n",
              "      <td>0.051006</td>\n",
              "      <td>0.016253</td>\n",
              "      <td>-0.000233</td>\n",
              "      <td>1.000000</td>\n",
              "      <td>0.996008</td>\n",
              "      <td>-0.011608</td>\n",
              "      <td>0.069559</td>\n",
              "      <td>-0.045319</td>\n",
              "      <td>-0.000416</td>\n",
              "    </tr>\n",
              "    <tr>\n",
              "      <th>enteredCVV</th>\n",
              "      <td>0.051088</td>\n",
              "      <td>0.016323</td>\n",
              "      <td>-0.000141</td>\n",
              "      <td>0.996008</td>\n",
              "      <td>1.000000</td>\n",
              "      <td>-0.011485</td>\n",
              "      <td>0.069610</td>\n",
              "      <td>-0.045113</td>\n",
              "      <td>-0.000200</td>\n",
              "    </tr>\n",
              "    <tr>\n",
              "      <th>cardLast4Digits</th>\n",
              "      <td>0.125611</td>\n",
              "      <td>0.073879</td>\n",
              "      <td>-0.001513</td>\n",
              "      <td>-0.011608</td>\n",
              "      <td>-0.011485</td>\n",
              "      <td>1.000000</td>\n",
              "      <td>0.124745</td>\n",
              "      <td>0.040726</td>\n",
              "      <td>0.002087</td>\n",
              "    </tr>\n",
              "    <tr>\n",
              "      <th>currentBalance</th>\n",
              "      <td>0.653652</td>\n",
              "      <td>0.129332</td>\n",
              "      <td>0.023905</td>\n",
              "      <td>0.069559</td>\n",
              "      <td>0.069610</td>\n",
              "      <td>0.124745</td>\n",
              "      <td>1.000000</td>\n",
              "      <td>-0.010529</td>\n",
              "      <td>-0.001285</td>\n",
              "    </tr>\n",
              "    <tr>\n",
              "      <th>cardPresent</th>\n",
              "      <td>-0.003929</td>\n",
              "      <td>0.002508</td>\n",
              "      <td>0.037361</td>\n",
              "      <td>-0.045319</td>\n",
              "      <td>-0.045113</td>\n",
              "      <td>0.040726</td>\n",
              "      <td>-0.010529</td>\n",
              "      <td>1.000000</td>\n",
              "      <td>0.040393</td>\n",
              "    </tr>\n",
              "    <tr>\n",
              "      <th>expirationDateKeyInMatch</th>\n",
              "      <td>0.002391</td>\n",
              "      <td>0.004067</td>\n",
              "      <td>0.001751</td>\n",
              "      <td>-0.000416</td>\n",
              "      <td>-0.000200</td>\n",
              "      <td>0.002087</td>\n",
              "      <td>-0.001285</td>\n",
              "      <td>0.040393</td>\n",
              "      <td>1.000000</td>\n",
              "    </tr>\n",
              "    <tr>\n",
              "      <th>isFraud</th>\n",
              "      <td>0.003108</td>\n",
              "      <td>-0.001538</td>\n",
              "      <td>0.075651</td>\n",
              "      <td>0.008652</td>\n",
              "      <td>0.008655</td>\n",
              "      <td>0.000886</td>\n",
              "      <td>0.007715</td>\n",
              "      <td>-0.043418</td>\n",
              "      <td>-0.000972</td>\n",
              "    </tr>\n",
              "  </tbody>\n",
              "</table>\n",
              "</div>"
            ],
            "text/plain": [
              "                          creditLimit  ...  expirationDateKeyInMatch\n",
              "creditLimit                  1.000000  ...                  0.002391\n",
              "availableMoney               0.834977  ...                  0.004067\n",
              "transactionAmount            0.005581  ...                  0.001751\n",
              "cardCVV                      0.051006  ...                 -0.000416\n",
              "enteredCVV                   0.051088  ...                 -0.000200\n",
              "cardLast4Digits              0.125611  ...                  0.002087\n",
              "currentBalance               0.653652  ...                 -0.001285\n",
              "cardPresent                 -0.003929  ...                  0.040393\n",
              "expirationDateKeyInMatch     0.002391  ...                  1.000000\n",
              "isFraud                      0.003108  ...                 -0.000972\n",
              "\n",
              "[10 rows x 9 columns]"
            ]
          },
          "metadata": {
            "tags": []
          },
          "execution_count": 12
        }
      ]
    },
    {
      "cell_type": "code",
      "metadata": {
        "colab": {
          "base_uri": "https://localhost:8080/",
          "height": 627
        },
        "id": "L4cr4pL_ZuDd",
        "outputId": "b3909cf5-bb4a-4be9-f291-f28431df1ff5"
      },
      "source": [
        "# Drawing a heatmap to visualize the correlation\n",
        "\n",
        "plt.figure(figsize=(12,8))\n",
        "sns.heatmap(df.corr(), cmap='coolwarm')"
      ],
      "execution_count": 13,
      "outputs": [
        {
          "output_type": "execute_result",
          "data": {
            "text/plain": [
              "<matplotlib.axes._subplots.AxesSubplot at 0x7fde4e9116d0>"
            ]
          },
          "metadata": {
            "tags": []
          },
          "execution_count": 13
        },
        {
          "output_type": "display_data",
          "data": {
            "image/png": "[encoded data removed]",
            "text/plain": [
              "<Figure size 864x576 with 2 Axes>"
            ]
          },
          "metadata": {
            "tags": [],
            "needs_background": "light"
          }
        }
      ]
    },
    {
      "cell_type": "code",
      "metadata": {
        "colab": {
          "base_uri": "https://localhost:8080/",
          "height": 352
        },
        "id": "rSf59tILZuDe",
        "outputId": "65120814-1de3-4229-e6f0-9785995278c1"
      },
      "source": [
        "# Distribution of the target\n",
        "\n",
        "sns.countplot(df['isFraud'])"
      ],
      "execution_count": 14,
      "outputs": [
        {
          "output_type": "stream",
          "text": [
            "/usr/local/lib/python3.7/dist-packages/seaborn/_decorators.py:43: FutureWarning: Pass the following variable as a keyword arg: x. From version 0.12, the only valid positional argument will be `data`, and passing other arguments without an explicit keyword will result in an error or misinterpretation.\n",
            "  FutureWarning\n"
          ],
          "name": "stderr"
        },
        {
          "output_type": "execute_result",
          "data": {
            "text/plain": [
              "<matplotlib.axes._subplots.AxesSubplot at 0x7fde4e8c8f50>"
            ]
          },
          "metadata": {
            "tags": []
          },
          "execution_count": 14
        },
        {
          "output_type": "display_data",
          "data": {
            "image/png": "[encoded data removed]",
            "text/plain": [
              "<Figure size 432x288 with 1 Axes>"
            ]
          },
          "metadata": {
            "tags": [],
            "needs_background": "light"
          }
        }
      ]
    },
    {
      "cell_type": "markdown",
      "metadata": {
        "id": "zAz3DAuDJG-6"
      },
      "source": [
        "It looks like the dataset is heavily skewed (imbalanced classes) and some technique needs to be applied, such as oversampling, to balance the distribution before proceeding to modeling"
      ]
    },
    {
      "cell_type": "code",
      "metadata": {
        "colab": {
          "base_uri": "https://localhost:8080/",
          "height": 297
        },
        "id": "p193yhk7ZuDe",
        "outputId": "56af2e1a-05d4-49b5-ee7b-690c01c068a0"
      },
      "source": [
        "# Transaction amount histogram\n",
        "\n",
        "transaction_amount = df['transactionAmount']\n",
        "trans_data = transaction_amount[transaction_amount <= 800]\n",
        "trans_data.hist(bins=10)\n",
        "plt.tight_layout()\n",
        "plt.show()"
      ],
      "execution_count": 15,
      "outputs": [
        {
          "output_type": "display_data",
          "data": {
            "image/png": "[encoded data removed]",
            "text/plain": [
              "<Figure size 432x288 with 1 Axes>"
            ]
          },
          "metadata": {
            "tags": [],
            "needs_background": "light"
          }
        }
      ]
    },
    {
      "cell_type": "code",
      "metadata": {
        "colab": {
          "base_uri": "https://localhost:8080/",
          "height": 297
        },
        "id": "tEHpYKvlZuDe",
        "outputId": "66bd37f5-e278-4a9f-ab14-3682e1cd157b"
      },
      "source": [
        "# Credit history histogram\n",
        "\n",
        "credit_data = df['creditLimit']\n",
        "credit_data.hist(bins=100)\n",
        "plt.tight_layout()\n",
        "plt.show()"
      ],
      "execution_count": 16,
      "outputs": [
        {
          "output_type": "display_data",
          "data": {
            "image/png": "[encoded data removed]",
            "text/plain": [
              "<Figure size 432x288 with 1 Axes>"
            ]
          },
          "metadata": {
            "tags": [],
            "needs_background": "light"
          }
        }
      ]
    },
    {
      "cell_type": "code",
      "metadata": {
        "colab": {
          "base_uri": "https://localhost:8080/",
          "height": 297
        },
        "id": "Fti1xbqEZuDf",
        "outputId": "19c431d0-edd0-4b04-e858-0dcd0afe158b"
      },
      "source": [
        "# Merchant Category Code distribution using a pie chart\n",
        "\n",
        "merch = df.groupby('merchantCategoryCode').size()\n",
        "merch.plot(kind='pie')\n",
        "plt.tight_layout()\n",
        "plt.show()"
      ],
      "execution_count": 17,
      "outputs": [
        {
          "output_type": "display_data",
          "data": {
            "image/png": "[encoded data removed]",
            "text/plain": [
              "<Figure size 432x288 with 1 Axes>"
            ]
          },
          "metadata": {
            "tags": []
          }
        }
      ]
    },
    {
      "cell_type": "code",
      "metadata": {
        "colab": {
          "base_uri": "https://localhost:8080/",
          "height": 297
        },
        "id": "ysqOFs8ZZuDf",
        "outputId": "94826ec4-c1de-4731-9899-87eabb113f9c"
      },
      "source": [
        "# Distribition\n",
        "\n",
        "from collections import Counter\n",
        "transaction_time = df['transactionDateTime']\n",
        "trans_counter = Counter()\n",
        "for i in transaction_time.values:\n",
        "    month = i.split('-')[1]\n",
        "    trans_counter[month] += 1\n",
        "trans = pd.DataFrame.from_dict(trans_counter, orient='index').reset_index()\n",
        "trans.plot(legend=False, xticks=None)\n",
        "plt.tight_layout()\n",
        "plt.show()"
      ],
      "execution_count": 18,
      "outputs": [
        {
          "output_type": "display_data",
          "data": {
            "image/png": "[encoded data removed]",
            "text/plain": [
              "<Figure size 432x288 with 1 Axes>"
            ]
          },
          "metadata": {
            "tags": [],
            "needs_background": "light"
          }
        }
      ]
    },
    {
      "cell_type": "markdown",
      "metadata": {
        "id": "FcB999ODZuDf"
      },
      "source": [
        "\n",
        "\n",
        "\n",
        "\n",
        "# Next Step - Data Cleaning"
      ]
    },
    {
      "cell_type": "markdown",
      "metadata": {
        "id": "0XZA1-ikZuDf"
      },
      "source": [
        "## Some of the columns are objects which need to be converted to pandas datetime data type"
      ]
    },
    {
      "cell_type": "code",
      "metadata": {
        "id": "_rZ89FgUZuDf"
      },
      "source": [
        "df['transactionDateTime'] = pd.to_datetime(df['transactionDateTime'])\n",
        "df['currentExpDate'] = pd.to_datetime(df['currentExpDate'])\n",
        "df['accountOpenDate'] = pd.to_datetime(df['accountOpenDate'])\n",
        "df['dateOfLastAddressChange'] = pd.to_datetime(df['dateOfLastAddressChange'])"
      ],
      "execution_count": 19,
      "outputs": []
    },
    {
      "cell_type": "code",
      "metadata": {
        "colab": {
          "base_uri": "https://localhost:8080/",
          "height": 226
        },
        "id": "fNCUXt2TZuDg",
        "outputId": "aee526a8-c342-4975-838e-004397bdc14a"
      },
      "source": [
        "df.head()"
      ],
      "execution_count": 20,
      "outputs": [
        {
          "output_type": "execute_result",
          "data": {
            "text/html": [
              "<div>\n",
              "<style scoped>\n",
              "    .dataframe tbody tr th:only-of-type {\n",
              "        vertical-align: middle;\n",
              "    }\n",
              "\n",
              "    .dataframe tbody tr th {\n",
              "        vertical-align: top;\n",
              "    }\n",
              "\n",
              "    .dataframe thead th {\n",
              "        text-align: right;\n",
              "    }\n",
              "</style>\n",
              "<table border=\"1\" class=\"dataframe\">\n",
              "  <thead>\n",
              "    <tr style=\"text-align: right;\">\n",
              "      <th></th>\n",
              "      <th>creditLimit</th>\n",
              "      <th>availableMoney</th>\n",
              "      <th>transactionDateTime</th>\n",
              "      <th>transactionAmount</th>\n",
              "      <th>acqCountry</th>\n",
              "      <th>merchantCountryCode</th>\n",
              "      <th>posEntryMode</th>\n",
              "      <th>posConditionCode</th>\n",
              "      <th>merchantCategoryCode</th>\n",
              "      <th>currentExpDate</th>\n",
              "      <th>accountOpenDate</th>\n",
              "      <th>dateOfLastAddressChange</th>\n",
              "      <th>cardCVV</th>\n",
              "      <th>enteredCVV</th>\n",
              "      <th>cardLast4Digits</th>\n",
              "      <th>transactionType</th>\n",
              "      <th>currentBalance</th>\n",
              "      <th>cardPresent</th>\n",
              "      <th>expirationDateKeyInMatch</th>\n",
              "      <th>isFraud</th>\n",
              "    </tr>\n",
              "  </thead>\n",
              "  <tbody>\n",
              "    <tr>\n",
              "      <th>0</th>\n",
              "      <td>5000</td>\n",
              "      <td>5000.0</td>\n",
              "      <td>2016-08-13 14:27:32</td>\n",
              "      <td>98.55</td>\n",
              "      <td>US</td>\n",
              "      <td>US</td>\n",
              "      <td>02</td>\n",
              "      <td>01</td>\n",
              "      <td>rideshare</td>\n",
              "      <td>2023-06-01</td>\n",
              "      <td>2015-03-14</td>\n",
              "      <td>2015-03-14</td>\n",
              "      <td>414</td>\n",
              "      <td>414</td>\n",
              "      <td>1803</td>\n",
              "      <td>PURCHASE</td>\n",
              "      <td>0.0</td>\n",
              "      <td>False</td>\n",
              "      <td>False</td>\n",
              "      <td>False</td>\n",
              "    </tr>\n",
              "    <tr>\n",
              "      <th>1</th>\n",
              "      <td>5000</td>\n",
              "      <td>5000.0</td>\n",
              "      <td>2016-10-11 05:05:54</td>\n",
              "      <td>74.51</td>\n",
              "      <td>US</td>\n",
              "      <td>US</td>\n",
              "      <td>09</td>\n",
              "      <td>01</td>\n",
              "      <td>entertainment</td>\n",
              "      <td>2024-02-01</td>\n",
              "      <td>2015-03-14</td>\n",
              "      <td>2015-03-14</td>\n",
              "      <td>486</td>\n",
              "      <td>486</td>\n",
              "      <td>767</td>\n",
              "      <td>PURCHASE</td>\n",
              "      <td>0.0</td>\n",
              "      <td>True</td>\n",
              "      <td>False</td>\n",
              "      <td>False</td>\n",
              "    </tr>\n",
              "    <tr>\n",
              "      <th>2</th>\n",
              "      <td>5000</td>\n",
              "      <td>5000.0</td>\n",
              "      <td>2016-11-08 09:18:39</td>\n",
              "      <td>7.47</td>\n",
              "      <td>US</td>\n",
              "      <td>US</td>\n",
              "      <td>09</td>\n",
              "      <td>01</td>\n",
              "      <td>mobileapps</td>\n",
              "      <td>2025-08-01</td>\n",
              "      <td>2015-03-14</td>\n",
              "      <td>2015-03-14</td>\n",
              "      <td>486</td>\n",
              "      <td>486</td>\n",
              "      <td>767</td>\n",
              "      <td>PURCHASE</td>\n",
              "      <td>0.0</td>\n",
              "      <td>False</td>\n",
              "      <td>False</td>\n",
              "      <td>False</td>\n",
              "    </tr>\n",
              "    <tr>\n",
              "      <th>3</th>\n",
              "      <td>5000</td>\n",
              "      <td>5000.0</td>\n",
              "      <td>2016-12-10 02:14:50</td>\n",
              "      <td>7.47</td>\n",
              "      <td>US</td>\n",
              "      <td>US</td>\n",
              "      <td>09</td>\n",
              "      <td>01</td>\n",
              "      <td>mobileapps</td>\n",
              "      <td>2025-08-01</td>\n",
              "      <td>2015-03-14</td>\n",
              "      <td>2015-03-14</td>\n",
              "      <td>486</td>\n",
              "      <td>486</td>\n",
              "      <td>767</td>\n",
              "      <td>PURCHASE</td>\n",
              "      <td>0.0</td>\n",
              "      <td>False</td>\n",
              "      <td>False</td>\n",
              "      <td>False</td>\n",
              "    </tr>\n",
              "    <tr>\n",
              "      <th>4</th>\n",
              "      <td>5000</td>\n",
              "      <td>5000.0</td>\n",
              "      <td>2016-03-24 21:04:46</td>\n",
              "      <td>71.18</td>\n",
              "      <td>US</td>\n",
              "      <td>US</td>\n",
              "      <td>02</td>\n",
              "      <td>01</td>\n",
              "      <td>fastfood</td>\n",
              "      <td>2029-10-01</td>\n",
              "      <td>2015-08-06</td>\n",
              "      <td>2015-08-06</td>\n",
              "      <td>885</td>\n",
              "      <td>885</td>\n",
              "      <td>3143</td>\n",
              "      <td>PURCHASE</td>\n",
              "      <td>0.0</td>\n",
              "      <td>True</td>\n",
              "      <td>False</td>\n",
              "      <td>False</td>\n",
              "    </tr>\n",
              "  </tbody>\n",
              "</table>\n",
              "</div>"
            ],
            "text/plain": [
              "   creditLimit  availableMoney  ... expirationDateKeyInMatch  isFraud\n",
              "0         5000          5000.0  ...                    False    False\n",
              "1         5000          5000.0  ...                    False    False\n",
              "2         5000          5000.0  ...                    False    False\n",
              "3         5000          5000.0  ...                    False    False\n",
              "4         5000          5000.0  ...                    False    False\n",
              "\n",
              "[5 rows x 20 columns]"
            ]
          },
          "metadata": {
            "tags": []
          },
          "execution_count": 20
        }
      ]
    },
    {
      "cell_type": "markdown",
      "metadata": {
        "id": "lFqE2C-dJ9ig"
      },
      "source": [
        "## Feature Engineering - hypothesis is that there may be a stronger relationship between the target and the columns in year, month format"
      ]
    },
    {
      "cell_type": "code",
      "metadata": {
        "id": "ttYAAbuMZuDg"
      },
      "source": [
        "df['transactionDateTime_year'] = pd.DatetimeIndex(df['transactionDateTime']).year\n",
        "df['transactionDateTime_month'] = pd.DatetimeIndex(df['transactionDateTime']).month\n",
        "\n",
        "df['currentExpDate_year'] = pd.DatetimeIndex(df['currentExpDate']).year\n",
        "df['currentExpDate_month'] = pd.DatetimeIndex(df['currentExpDate']).month\n",
        "\n",
        "df['accountOpenDate_year'] = pd.DatetimeIndex(df['accountOpenDate']).year\n",
        "df['accountOpenDate_month'] = pd.DatetimeIndex(df['accountOpenDate']).month\n",
        "\n",
        "df['dateOfLastAddressChange_year'] = pd.DatetimeIndex(df['dateOfLastAddressChange']).year\n",
        "df['dateOfLastAddressChange_month'] = pd.DatetimeIndex(df['dateOfLastAddressChange']).month"
      ],
      "execution_count": 21,
      "outputs": []
    },
    {
      "cell_type": "code",
      "metadata": {
        "colab": {
          "base_uri": "https://localhost:8080/"
        },
        "id": "g-SqBhVYZuDg",
        "outputId": "bccabcb8-5907-44f1-b260-83b11b346719"
      },
      "source": [
        "data_raw = df[['availableMoney', 'currentBalance', 'transactionAmount', 'creditLimit','transactionDateTime_year'\n",
        "              ,'transactionDateTime_month','currentExpDate_year','currentExpDate_month','accountOpenDate_year'\n",
        "              ,'accountOpenDate_month','dateOfLastAddressChange_year','dateOfLastAddressChange_month']]\n",
        "\n",
        "data_raw['cvvMatch'] = df['enteredCVV'] == df['cardCVV']"
      ],
      "execution_count": 22,
      "outputs": [
        {
          "output_type": "stream",
          "text": [
            "/usr/local/lib/python3.7/dist-packages/ipykernel_launcher.py:5: SettingWithCopyWarning: \n",
            "A value is trying to be set on a copy of a slice from a DataFrame.\n",
            "Try using .loc[row_indexer,col_indexer] = value instead\n",
            "\n",
            "See the caveats in the documentation: https://pandas.pydata.org/pandas-docs/stable/user_guide/indexing.html#returning-a-view-versus-a-copy\n",
            "  \"\"\"\n"
          ],
          "name": "stderr"
        }
      ]
    },
    {
      "cell_type": "markdown",
      "metadata": {
        "id": "KpKDYwSuZuDh"
      },
      "source": [
        "## One Hot Encoding Categorical Data"
      ]
    },
    {
      "cell_type": "code",
      "metadata": {
        "colab": {
          "base_uri": "https://localhost:8080/"
        },
        "id": "imFY3y8rZuDh",
        "outputId": "7809a5cd-a78e-4d0a-9efc-7b745b8c0f0b"
      },
      "source": [
        "new_expirationDateKeyInMatch = pd.get_dummies(df['expirationDateKeyInMatch'], drop_first=True)\n",
        "new_cardPresent = pd.get_dummies(df['cardPresent'],drop_first=True)\n",
        "new_posConditionCode = pd.get_dummies(df['posConditionCode'],drop_first=True)\n",
        "new_posEntryMode = pd.get_dummies(df['posEntryMode'],drop_first=True)\n",
        "new_transactionType = pd.get_dummies(df['transactionType'],drop_first=True)\n",
        "new_merchantCategoryCode = pd.get_dummies(df['merchantCategoryCode'],drop_first=True)\n",
        "new_merchantCountryCode = pd.get_dummies(df['merchantCountryCode'],drop_first=True)\n",
        "is_fraud = df['isFraud'].apply(int)\n",
        "data_raw['cvvMatch'] = data_raw['cvvMatch'].apply(int)"
      ],
      "execution_count": 23,
      "outputs": [
        {
          "output_type": "stream",
          "text": [
            "/usr/local/lib/python3.7/dist-packages/ipykernel_launcher.py:9: SettingWithCopyWarning: \n",
            "A value is trying to be set on a copy of a slice from a DataFrame.\n",
            "Try using .loc[row_indexer,col_indexer] = value instead\n",
            "\n",
            "See the caveats in the documentation: https://pandas.pydata.org/pandas-docs/stable/user_guide/indexing.html#returning-a-view-versus-a-copy\n",
            "  if __name__ == '__main__':\n"
          ],
          "name": "stderr"
        }
      ]
    },
    {
      "cell_type": "code",
      "metadata": {
        "id": "YykNRsSXZuDh"
      },
      "source": [
        "data_raw = pd.concat([data_raw, new_expirationDateKeyInMatch, new_cardPresent, new_posConditionCode,\n",
        "                          new_merchantCategoryCode,new_merchantCountryCode, new_posEntryMode, new_transactionType, is_fraud], axis=1)"
      ],
      "execution_count": 24,
      "outputs": []
    },
    {
      "cell_type": "code",
      "metadata": {
        "colab": {
          "base_uri": "https://localhost:8080/",
          "height": 243
        },
        "id": "pe6Mz2ttZuDh",
        "outputId": "b29e2210-9c34-468d-ba61-0e27ef5032d2"
      },
      "source": [
        "data_raw.head()"
      ],
      "execution_count": 25,
      "outputs": [
        {
          "output_type": "execute_result",
          "data": {
            "text/html": [
              "<div>\n",
              "<style scoped>\n",
              "    .dataframe tbody tr th:only-of-type {\n",
              "        vertical-align: middle;\n",
              "    }\n",
              "\n",
              "    .dataframe tbody tr th {\n",
              "        vertical-align: top;\n",
              "    }\n",
              "\n",
              "    .dataframe thead th {\n",
              "        text-align: right;\n",
              "    }\n",
              "</style>\n",
              "<table border=\"1\" class=\"dataframe\">\n",
              "  <thead>\n",
              "    <tr style=\"text-align: right;\">\n",
              "      <th></th>\n",
              "      <th>availableMoney</th>\n",
              "      <th>currentBalance</th>\n",
              "      <th>transactionAmount</th>\n",
              "      <th>creditLimit</th>\n",
              "      <th>transactionDateTime_year</th>\n",
              "      <th>transactionDateTime_month</th>\n",
              "      <th>currentExpDate_year</th>\n",
              "      <th>currentExpDate_month</th>\n",
              "      <th>accountOpenDate_year</th>\n",
              "      <th>accountOpenDate_month</th>\n",
              "      <th>dateOfLastAddressChange_year</th>\n",
              "      <th>dateOfLastAddressChange_month</th>\n",
              "      <th>cvvMatch</th>\n",
              "      <th>True</th>\n",
              "      <th>True</th>\n",
              "      <th>01</th>\n",
              "      <th>08</th>\n",
              "      <th>99</th>\n",
              "      <th>auto</th>\n",
              "      <th>cable/phone</th>\n",
              "      <th>entertainment</th>\n",
              "      <th>fastfood</th>\n",
              "      <th>food</th>\n",
              "      <th>food_delivery</th>\n",
              "      <th>fuel</th>\n",
              "      <th>furniture</th>\n",
              "      <th>gym</th>\n",
              "      <th>health</th>\n",
              "      <th>hotels</th>\n",
              "      <th>mobileapps</th>\n",
              "      <th>online_gifts</th>\n",
              "      <th>online_retail</th>\n",
              "      <th>online_subscriptions</th>\n",
              "      <th>personal care</th>\n",
              "      <th>rideshare</th>\n",
              "      <th>subscriptions</th>\n",
              "      <th>CAN</th>\n",
              "      <th>MEX</th>\n",
              "      <th>PR</th>\n",
              "      <th>US</th>\n",
              "      <th>02</th>\n",
              "      <th>05</th>\n",
              "      <th>09</th>\n",
              "      <th>80</th>\n",
              "      <th>90</th>\n",
              "      <th>ADDRESS_VERIFICATION</th>\n",
              "      <th>PURCHASE</th>\n",
              "      <th>REVERSAL</th>\n",
              "      <th>isFraud</th>\n",
              "    </tr>\n",
              "  </thead>\n",
              "  <tbody>\n",
              "    <tr>\n",
              "      <th>0</th>\n",
              "      <td>5000.0</td>\n",
              "      <td>0.0</td>\n",
              "      <td>98.55</td>\n",
              "      <td>5000</td>\n",
              "      <td>2016</td>\n",
              "      <td>8</td>\n",
              "      <td>2023</td>\n",
              "      <td>6</td>\n",
              "      <td>2015</td>\n",
              "      <td>3</td>\n",
              "      <td>2015</td>\n",
              "      <td>3</td>\n",
              "      <td>1</td>\n",
              "      <td>0</td>\n",
              "      <td>0</td>\n",
              "      <td>1</td>\n",
              "      <td>0</td>\n",
              "      <td>0</td>\n",
              "      <td>0</td>\n",
              "      <td>0</td>\n",
              "      <td>0</td>\n",
              "      <td>0</td>\n",
              "      <td>0</td>\n",
              "      <td>0</td>\n",
              "      <td>0</td>\n",
              "      <td>0</td>\n",
              "      <td>0</td>\n",
              "      <td>0</td>\n",
              "      <td>0</td>\n",
              "      <td>0</td>\n",
              "      <td>0</td>\n",
              "      <td>0</td>\n",
              "      <td>0</td>\n",
              "      <td>0</td>\n",
              "      <td>1</td>\n",
              "      <td>0</td>\n",
              "      <td>0</td>\n",
              "      <td>0</td>\n",
              "      <td>0</td>\n",
              "      <td>1</td>\n",
              "      <td>1</td>\n",
              "      <td>0</td>\n",
              "      <td>0</td>\n",
              "      <td>0</td>\n",
              "      <td>0</td>\n",
              "      <td>0</td>\n",
              "      <td>1</td>\n",
              "      <td>0</td>\n",
              "      <td>0</td>\n",
              "    </tr>\n",
              "    <tr>\n",
              "      <th>1</th>\n",
              "      <td>5000.0</td>\n",
              "      <td>0.0</td>\n",
              "      <td>74.51</td>\n",
              "      <td>5000</td>\n",
              "      <td>2016</td>\n",
              "      <td>10</td>\n",
              "      <td>2024</td>\n",
              "      <td>2</td>\n",
              "      <td>2015</td>\n",
              "      <td>3</td>\n",
              "      <td>2015</td>\n",
              "      <td>3</td>\n",
              "      <td>1</td>\n",
              "      <td>0</td>\n",
              "      <td>1</td>\n",
              "      <td>1</td>\n",
              "      <td>0</td>\n",
              "      <td>0</td>\n",
              "      <td>0</td>\n",
              "      <td>0</td>\n",
              "      <td>1</td>\n",
              "      <td>0</td>\n",
              "      <td>0</td>\n",
              "      <td>0</td>\n",
              "      <td>0</td>\n",
              "      <td>0</td>\n",
              "      <td>0</td>\n",
              "      <td>0</td>\n",
              "      <td>0</td>\n",
              "      <td>0</td>\n",
              "      <td>0</td>\n",
              "      <td>0</td>\n",
              "      <td>0</td>\n",
              "      <td>0</td>\n",
              "      <td>0</td>\n",
              "      <td>0</td>\n",
              "      <td>0</td>\n",
              "      <td>0</td>\n",
              "      <td>0</td>\n",
              "      <td>1</td>\n",
              "      <td>0</td>\n",
              "      <td>0</td>\n",
              "      <td>1</td>\n",
              "      <td>0</td>\n",
              "      <td>0</td>\n",
              "      <td>0</td>\n",
              "      <td>1</td>\n",
              "      <td>0</td>\n",
              "      <td>0</td>\n",
              "    </tr>\n",
              "    <tr>\n",
              "      <th>2</th>\n",
              "      <td>5000.0</td>\n",
              "      <td>0.0</td>\n",
              "      <td>7.47</td>\n",
              "      <td>5000</td>\n",
              "      <td>2016</td>\n",
              "      <td>11</td>\n",
              "      <td>2025</td>\n",
              "      <td>8</td>\n",
              "      <td>2015</td>\n",
              "      <td>3</td>\n",
              "      <td>2015</td>\n",
              "      <td>3</td>\n",
              "      <td>1</td>\n",
              "      <td>0</td>\n",
              "      <td>0</td>\n",
              "      <td>1</td>\n",
              "      <td>0</td>\n",
              "      <td>0</td>\n",
              "      <td>0</td>\n",
              "      <td>0</td>\n",
              "      <td>0</td>\n",
              "      <td>0</td>\n",
              "      <td>0</td>\n",
              "      <td>0</td>\n",
              "      <td>0</td>\n",
              "      <td>0</td>\n",
              "      <td>0</td>\n",
              "      <td>0</td>\n",
              "      <td>0</td>\n",
              "      <td>1</td>\n",
              "      <td>0</td>\n",
              "      <td>0</td>\n",
              "      <td>0</td>\n",
              "      <td>0</td>\n",
              "      <td>0</td>\n",
              "      <td>0</td>\n",
              "      <td>0</td>\n",
              "      <td>0</td>\n",
              "      <td>0</td>\n",
              "      <td>1</td>\n",
              "      <td>0</td>\n",
              "      <td>0</td>\n",
              "      <td>1</td>\n",
              "      <td>0</td>\n",
              "      <td>0</td>\n",
              "      <td>0</td>\n",
              "      <td>1</td>\n",
              "      <td>0</td>\n",
              "      <td>0</td>\n",
              "    </tr>\n",
              "    <tr>\n",
              "      <th>3</th>\n",
              "      <td>5000.0</td>\n",
              "      <td>0.0</td>\n",
              "      <td>7.47</td>\n",
              "      <td>5000</td>\n",
              "      <td>2016</td>\n",
              "      <td>12</td>\n",
              "      <td>2025</td>\n",
              "      <td>8</td>\n",
              "      <td>2015</td>\n",
              "      <td>3</td>\n",
              "      <td>2015</td>\n",
              "      <td>3</td>\n",
              "      <td>1</td>\n",
              "      <td>0</td>\n",
              "      <td>0</td>\n",
              "      <td>1</td>\n",
              "      <td>0</td>\n",
              "      <td>0</td>\n",
              "      <td>0</td>\n",
              "      <td>0</td>\n",
              "      <td>0</td>\n",
              "      <td>0</td>\n",
              "      <td>0</td>\n",
              "      <td>0</td>\n",
              "      <td>0</td>\n",
              "      <td>0</td>\n",
              "      <td>0</td>\n",
              "      <td>0</td>\n",
              "      <td>0</td>\n",
              "      <td>1</td>\n",
              "      <td>0</td>\n",
              "      <td>0</td>\n",
              "      <td>0</td>\n",
              "      <td>0</td>\n",
              "      <td>0</td>\n",
              "      <td>0</td>\n",
              "      <td>0</td>\n",
              "      <td>0</td>\n",
              "      <td>0</td>\n",
              "      <td>1</td>\n",
              "      <td>0</td>\n",
              "      <td>0</td>\n",
              "      <td>1</td>\n",
              "      <td>0</td>\n",
              "      <td>0</td>\n",
              "      <td>0</td>\n",
              "      <td>1</td>\n",
              "      <td>0</td>\n",
              "      <td>0</td>\n",
              "    </tr>\n",
              "    <tr>\n",
              "      <th>4</th>\n",
              "      <td>5000.0</td>\n",
              "      <td>0.0</td>\n",
              "      <td>71.18</td>\n",
              "      <td>5000</td>\n",
              "      <td>2016</td>\n",
              "      <td>3</td>\n",
              "      <td>2029</td>\n",
              "      <td>10</td>\n",
              "      <td>2015</td>\n",
              "      <td>8</td>\n",
              "      <td>2015</td>\n",
              "      <td>8</td>\n",
              "      <td>1</td>\n",
              "      <td>0</td>\n",
              "      <td>1</td>\n",
              "      <td>1</td>\n",
              "      <td>0</td>\n",
              "      <td>0</td>\n",
              "      <td>0</td>\n",
              "      <td>0</td>\n",
              "      <td>0</td>\n",
              "      <td>1</td>\n",
              "      <td>0</td>\n",
              "      <td>0</td>\n",
              "      <td>0</td>\n",
              "      <td>0</td>\n",
              "      <td>0</td>\n",
              "      <td>0</td>\n",
              "      <td>0</td>\n",
              "      <td>0</td>\n",
              "      <td>0</td>\n",
              "      <td>0</td>\n",
              "      <td>0</td>\n",
              "      <td>0</td>\n",
              "      <td>0</td>\n",
              "      <td>0</td>\n",
              "      <td>0</td>\n",
              "      <td>0</td>\n",
              "      <td>0</td>\n",
              "      <td>1</td>\n",
              "      <td>1</td>\n",
              "      <td>0</td>\n",
              "      <td>0</td>\n",
              "      <td>0</td>\n",
              "      <td>0</td>\n",
              "      <td>0</td>\n",
              "      <td>1</td>\n",
              "      <td>0</td>\n",
              "      <td>0</td>\n",
              "    </tr>\n",
              "  </tbody>\n",
              "</table>\n",
              "</div>"
            ],
            "text/plain": [
              "   availableMoney  currentBalance  ...  REVERSAL  isFraud\n",
              "0          5000.0             0.0  ...         0        0\n",
              "1          5000.0             0.0  ...         0        0\n",
              "2          5000.0             0.0  ...         0        0\n",
              "3          5000.0             0.0  ...         0        0\n",
              "4          5000.0             0.0  ...         0        0\n",
              "\n",
              "[5 rows x 49 columns]"
            ]
          },
          "metadata": {
            "tags": []
          },
          "execution_count": 25
        }
      ]
    },
    {
      "cell_type": "code",
      "metadata": {
        "colab": {
          "base_uri": "https://localhost:8080/"
        },
        "id": "ZfV8GdPpZuDi",
        "outputId": "89967719-5e32-44d2-b027-60e684e22b7c"
      },
      "source": [
        "data_raw.info()"
      ],
      "execution_count": 26,
      "outputs": [
        {
          "output_type": "stream",
          "text": [
            "<class 'pandas.core.frame.DataFrame'>\n",
            "RangeIndex: 786363 entries, 0 to 786362\n",
            "Data columns (total 49 columns):\n",
            " #   Column                         Non-Null Count   Dtype  \n",
            "---  ------                         --------------   -----  \n",
            " 0   availableMoney                 786363 non-null  float64\n",
            " 1   currentBalance                 786363 non-null  float64\n",
            " 2   transactionAmount              786363 non-null  float64\n",
            " 3   creditLimit                    786363 non-null  int64  \n",
            " 4   transactionDateTime_year       786363 non-null  int64  \n",
            " 5   transactionDateTime_month      786363 non-null  int64  \n",
            " 6   currentExpDate_year            786363 non-null  int64  \n",
            " 7   currentExpDate_month           786363 non-null  int64  \n",
            " 8   accountOpenDate_year           786363 non-null  int64  \n",
            " 9   accountOpenDate_month          786363 non-null  int64  \n",
            " 10  dateOfLastAddressChange_year   786363 non-null  int64  \n",
            " 11  dateOfLastAddressChange_month  786363 non-null  int64  \n",
            " 12  cvvMatch                       786363 non-null  int64  \n",
            " 13  True                           786363 non-null  uint8  \n",
            " 14  True                           786363 non-null  uint8  \n",
            " 15  01                             786363 non-null  uint8  \n",
            " 16  08                             786363 non-null  uint8  \n",
            " 17  99                             786363 non-null  uint8  \n",
            " 18  auto                           786363 non-null  uint8  \n",
            " 19  cable/phone                    786363 non-null  uint8  \n",
            " 20  entertainment                  786363 non-null  uint8  \n",
            " 21  fastfood                       786363 non-null  uint8  \n",
            " 22  food                           786363 non-null  uint8  \n",
            " 23  food_delivery                  786363 non-null  uint8  \n",
            " 24  fuel                           786363 non-null  uint8  \n",
            " 25  furniture                      786363 non-null  uint8  \n",
            " 26  gym                            786363 non-null  uint8  \n",
            " 27  health                         786363 non-null  uint8  \n",
            " 28  hotels                         786363 non-null  uint8  \n",
            " 29  mobileapps                     786363 non-null  uint8  \n",
            " 30  online_gifts                   786363 non-null  uint8  \n",
            " 31  online_retail                  786363 non-null  uint8  \n",
            " 32  online_subscriptions           786363 non-null  uint8  \n",
            " 33  personal care                  786363 non-null  uint8  \n",
            " 34  rideshare                      786363 non-null  uint8  \n",
            " 35  subscriptions                  786363 non-null  uint8  \n",
            " 36  CAN                            786363 non-null  uint8  \n",
            " 37  MEX                            786363 non-null  uint8  \n",
            " 38  PR                             786363 non-null  uint8  \n",
            " 39  US                             786363 non-null  uint8  \n",
            " 40  02                             786363 non-null  uint8  \n",
            " 41  05                             786363 non-null  uint8  \n",
            " 42  09                             786363 non-null  uint8  \n",
            " 43  80                             786363 non-null  uint8  \n",
            " 44  90                             786363 non-null  uint8  \n",
            " 45  ADDRESS_VERIFICATION           786363 non-null  uint8  \n",
            " 46  PURCHASE                       786363 non-null  uint8  \n",
            " 47  REVERSAL                       786363 non-null  uint8  \n",
            " 48  isFraud                        786363 non-null  int64  \n",
            "dtypes: float64(3), int64(11), uint8(35)\n",
            "memory usage: 110.2 MB\n"
          ],
          "name": "stdout"
        }
      ]
    },
    {
      "cell_type": "markdown",
      "metadata": {
        "id": "oLD0G95GZuDi"
      },
      "source": [
        "# Train Val Test Split"
      ]
    },
    {
      "cell_type": "markdown",
      "metadata": {
        "id": "RI2zhQRPK6L6"
      },
      "source": [
        "The dataset is split into training, validation and testing (75:15:10 ratio)\n",
        "\n",
        "The training subset is used for training Machine Learning models\n",
        "The validation subset is used for hyperparameter tuning the ML models\n",
        "\n",
        "The testing subset is evaluated on in the very end to ensure that no bias has been added to the models while tuning using the validation subset (since the tuning we may do for increasing performance would work well on validation subset but may end up decreasing generalization)"
      ]
    },
    {
      "cell_type": "code",
      "metadata": {
        "id": "o4NK9DsDKv_E"
      },
      "source": [
        "X = data_raw.drop('isFraud', axis=1)\n",
        "y = data_raw['isFraud']"
      ],
      "execution_count": 27,
      "outputs": []
    },
    {
      "cell_type": "code",
      "metadata": {
        "id": "LI0gSZXziTBP"
      },
      "source": [
        "from sklearn.model_selection import train_test_split\n",
        "import time"
      ],
      "execution_count": 28,
      "outputs": []
    },
    {
      "cell_type": "code",
      "metadata": {
        "id": "yx9uuOjmK0sW"
      },
      "source": [
        "train_ratio = 0.75\n",
        "validation_ratio = 0.15\n",
        "test_ratio = 0.10\n",
        "\n",
        "# train is now 75% of the entire data set\n",
        "X_train, X_test, y_train, y_test = train_test_split(X, y, test_size = 1 - train_ratio)\n",
        "\n",
        "# test is now 10% of the initial data set\n",
        "# validation is now 15% of the initial data set\n",
        "X_val, X_test, y_val, y_test = train_test_split(X_test, y_test, test_size=test_ratio/(test_ratio + validation_ratio))"
      ],
      "execution_count": 29,
      "outputs": []
    },
    {
      "cell_type": "code",
      "metadata": {
        "colab": {
          "base_uri": "https://localhost:8080/",
          "height": 243
        },
        "id": "EPgWukmCK1t_",
        "outputId": "b048e53b-f7e9-4891-a8ab-ae0a6990e028"
      },
      "source": [
        "new_df = pd.concat([X_train, y_train],\n",
        "                   axis=1)\n",
        "new_df.head()"
      ],
      "execution_count": 30,
      "outputs": [
        {
          "output_type": "execute_result",
          "data": {
            "text/html": [
              "<div>\n",
              "<style scoped>\n",
              "    .dataframe tbody tr th:only-of-type {\n",
              "        vertical-align: middle;\n",
              "    }\n",
              "\n",
              "    .dataframe tbody tr th {\n",
              "        vertical-align: top;\n",
              "    }\n",
              "\n",
              "    .dataframe thead th {\n",
              "        text-align: right;\n",
              "    }\n",
              "</style>\n",
              "<table border=\"1\" class=\"dataframe\">\n",
              "  <thead>\n",
              "    <tr style=\"text-align: right;\">\n",
              "      <th></th>\n",
              "      <th>availableMoney</th>\n",
              "      <th>currentBalance</th>\n",
              "      <th>transactionAmount</th>\n",
              "      <th>creditLimit</th>\n",
              "      <th>transactionDateTime_year</th>\n",
              "      <th>transactionDateTime_month</th>\n",
              "      <th>currentExpDate_year</th>\n",
              "      <th>currentExpDate_month</th>\n",
              "      <th>accountOpenDate_year</th>\n",
              "      <th>accountOpenDate_month</th>\n",
              "      <th>dateOfLastAddressChange_year</th>\n",
              "      <th>dateOfLastAddressChange_month</th>\n",
              "      <th>cvvMatch</th>\n",
              "      <th>True</th>\n",
              "      <th>True</th>\n",
              "      <th>01</th>\n",
              "      <th>08</th>\n",
              "      <th>99</th>\n",
              "      <th>auto</th>\n",
              "      <th>cable/phone</th>\n",
              "      <th>entertainment</th>\n",
              "      <th>fastfood</th>\n",
              "      <th>food</th>\n",
              "      <th>food_delivery</th>\n",
              "      <th>fuel</th>\n",
              "      <th>furniture</th>\n",
              "      <th>gym</th>\n",
              "      <th>health</th>\n",
              "      <th>hotels</th>\n",
              "      <th>mobileapps</th>\n",
              "      <th>online_gifts</th>\n",
              "      <th>online_retail</th>\n",
              "      <th>online_subscriptions</th>\n",
              "      <th>personal care</th>\n",
              "      <th>rideshare</th>\n",
              "      <th>subscriptions</th>\n",
              "      <th>CAN</th>\n",
              "      <th>MEX</th>\n",
              "      <th>PR</th>\n",
              "      <th>US</th>\n",
              "      <th>02</th>\n",
              "      <th>05</th>\n",
              "      <th>09</th>\n",
              "      <th>80</th>\n",
              "      <th>90</th>\n",
              "      <th>ADDRESS_VERIFICATION</th>\n",
              "      <th>PURCHASE</th>\n",
              "      <th>REVERSAL</th>\n",
              "      <th>isFraud</th>\n",
              "    </tr>\n",
              "  </thead>\n",
              "  <tbody>\n",
              "    <tr>\n",
              "      <th>25426</th>\n",
              "      <td>1907.28</td>\n",
              "      <td>592.72</td>\n",
              "      <td>309.01</td>\n",
              "      <td>2500</td>\n",
              "      <td>2016</td>\n",
              "      <td>8</td>\n",
              "      <td>2028</td>\n",
              "      <td>5</td>\n",
              "      <td>2014</td>\n",
              "      <td>6</td>\n",
              "      <td>2014</td>\n",
              "      <td>6</td>\n",
              "      <td>1</td>\n",
              "      <td>0</td>\n",
              "      <td>1</td>\n",
              "      <td>1</td>\n",
              "      <td>0</td>\n",
              "      <td>0</td>\n",
              "      <td>1</td>\n",
              "      <td>0</td>\n",
              "      <td>0</td>\n",
              "      <td>0</td>\n",
              "      <td>0</td>\n",
              "      <td>0</td>\n",
              "      <td>0</td>\n",
              "      <td>0</td>\n",
              "      <td>0</td>\n",
              "      <td>0</td>\n",
              "      <td>0</td>\n",
              "      <td>0</td>\n",
              "      <td>0</td>\n",
              "      <td>0</td>\n",
              "      <td>0</td>\n",
              "      <td>0</td>\n",
              "      <td>0</td>\n",
              "      <td>0</td>\n",
              "      <td>0</td>\n",
              "      <td>0</td>\n",
              "      <td>0</td>\n",
              "      <td>1</td>\n",
              "      <td>0</td>\n",
              "      <td>0</td>\n",
              "      <td>1</td>\n",
              "      <td>0</td>\n",
              "      <td>0</td>\n",
              "      <td>0</td>\n",
              "      <td>1</td>\n",
              "      <td>0</td>\n",
              "      <td>0</td>\n",
              "    </tr>\n",
              "    <tr>\n",
              "      <th>27917</th>\n",
              "      <td>5290.17</td>\n",
              "      <td>9709.83</td>\n",
              "      <td>93.15</td>\n",
              "      <td>15000</td>\n",
              "      <td>2016</td>\n",
              "      <td>3</td>\n",
              "      <td>2030</td>\n",
              "      <td>9</td>\n",
              "      <td>2012</td>\n",
              "      <td>1</td>\n",
              "      <td>2012</td>\n",
              "      <td>1</td>\n",
              "      <td>1</td>\n",
              "      <td>0</td>\n",
              "      <td>1</td>\n",
              "      <td>1</td>\n",
              "      <td>0</td>\n",
              "      <td>0</td>\n",
              "      <td>1</td>\n",
              "      <td>0</td>\n",
              "      <td>0</td>\n",
              "      <td>0</td>\n",
              "      <td>0</td>\n",
              "      <td>0</td>\n",
              "      <td>0</td>\n",
              "      <td>0</td>\n",
              "      <td>0</td>\n",
              "      <td>0</td>\n",
              "      <td>0</td>\n",
              "      <td>0</td>\n",
              "      <td>0</td>\n",
              "      <td>0</td>\n",
              "      <td>0</td>\n",
              "      <td>0</td>\n",
              "      <td>0</td>\n",
              "      <td>0</td>\n",
              "      <td>0</td>\n",
              "      <td>0</td>\n",
              "      <td>0</td>\n",
              "      <td>1</td>\n",
              "      <td>0</td>\n",
              "      <td>1</td>\n",
              "      <td>0</td>\n",
              "      <td>0</td>\n",
              "      <td>0</td>\n",
              "      <td>0</td>\n",
              "      <td>1</td>\n",
              "      <td>0</td>\n",
              "      <td>0</td>\n",
              "    </tr>\n",
              "    <tr>\n",
              "      <th>677714</th>\n",
              "      <td>48311.51</td>\n",
              "      <td>1688.49</td>\n",
              "      <td>124.98</td>\n",
              "      <td>50000</td>\n",
              "      <td>2016</td>\n",
              "      <td>6</td>\n",
              "      <td>2033</td>\n",
              "      <td>2</td>\n",
              "      <td>2015</td>\n",
              "      <td>10</td>\n",
              "      <td>2016</td>\n",
              "      <td>5</td>\n",
              "      <td>1</td>\n",
              "      <td>0</td>\n",
              "      <td>0</td>\n",
              "      <td>0</td>\n",
              "      <td>1</td>\n",
              "      <td>0</td>\n",
              "      <td>0</td>\n",
              "      <td>0</td>\n",
              "      <td>0</td>\n",
              "      <td>0</td>\n",
              "      <td>0</td>\n",
              "      <td>0</td>\n",
              "      <td>0</td>\n",
              "      <td>0</td>\n",
              "      <td>0</td>\n",
              "      <td>0</td>\n",
              "      <td>0</td>\n",
              "      <td>0</td>\n",
              "      <td>0</td>\n",
              "      <td>0</td>\n",
              "      <td>0</td>\n",
              "      <td>0</td>\n",
              "      <td>1</td>\n",
              "      <td>0</td>\n",
              "      <td>0</td>\n",
              "      <td>0</td>\n",
              "      <td>0</td>\n",
              "      <td>1</td>\n",
              "      <td>0</td>\n",
              "      <td>1</td>\n",
              "      <td>0</td>\n",
              "      <td>0</td>\n",
              "      <td>0</td>\n",
              "      <td>0</td>\n",
              "      <td>1</td>\n",
              "      <td>0</td>\n",
              "      <td>0</td>\n",
              "    </tr>\n",
              "    <tr>\n",
              "      <th>357440</th>\n",
              "      <td>250.00</td>\n",
              "      <td>0.00</td>\n",
              "      <td>135.45</td>\n",
              "      <td>250</td>\n",
              "      <td>2016</td>\n",
              "      <td>12</td>\n",
              "      <td>2031</td>\n",
              "      <td>1</td>\n",
              "      <td>2009</td>\n",
              "      <td>7</td>\n",
              "      <td>2016</td>\n",
              "      <td>11</td>\n",
              "      <td>1</td>\n",
              "      <td>0</td>\n",
              "      <td>1</td>\n",
              "      <td>1</td>\n",
              "      <td>0</td>\n",
              "      <td>0</td>\n",
              "      <td>0</td>\n",
              "      <td>0</td>\n",
              "      <td>0</td>\n",
              "      <td>0</td>\n",
              "      <td>1</td>\n",
              "      <td>0</td>\n",
              "      <td>0</td>\n",
              "      <td>0</td>\n",
              "      <td>0</td>\n",
              "      <td>0</td>\n",
              "      <td>0</td>\n",
              "      <td>0</td>\n",
              "      <td>0</td>\n",
              "      <td>0</td>\n",
              "      <td>0</td>\n",
              "      <td>0</td>\n",
              "      <td>0</td>\n",
              "      <td>0</td>\n",
              "      <td>0</td>\n",
              "      <td>0</td>\n",
              "      <td>0</td>\n",
              "      <td>1</td>\n",
              "      <td>0</td>\n",
              "      <td>1</td>\n",
              "      <td>0</td>\n",
              "      <td>0</td>\n",
              "      <td>0</td>\n",
              "      <td>0</td>\n",
              "      <td>1</td>\n",
              "      <td>0</td>\n",
              "      <td>0</td>\n",
              "    </tr>\n",
              "    <tr>\n",
              "      <th>57072</th>\n",
              "      <td>1230.17</td>\n",
              "      <td>3769.83</td>\n",
              "      <td>306.82</td>\n",
              "      <td>5000</td>\n",
              "      <td>2016</td>\n",
              "      <td>10</td>\n",
              "      <td>2020</td>\n",
              "      <td>7</td>\n",
              "      <td>2014</td>\n",
              "      <td>10</td>\n",
              "      <td>2016</td>\n",
              "      <td>9</td>\n",
              "      <td>1</td>\n",
              "      <td>0</td>\n",
              "      <td>1</td>\n",
              "      <td>1</td>\n",
              "      <td>0</td>\n",
              "      <td>0</td>\n",
              "      <td>0</td>\n",
              "      <td>0</td>\n",
              "      <td>0</td>\n",
              "      <td>1</td>\n",
              "      <td>0</td>\n",
              "      <td>0</td>\n",
              "      <td>0</td>\n",
              "      <td>0</td>\n",
              "      <td>0</td>\n",
              "      <td>0</td>\n",
              "      <td>0</td>\n",
              "      <td>0</td>\n",
              "      <td>0</td>\n",
              "      <td>0</td>\n",
              "      <td>0</td>\n",
              "      <td>0</td>\n",
              "      <td>0</td>\n",
              "      <td>0</td>\n",
              "      <td>0</td>\n",
              "      <td>0</td>\n",
              "      <td>0</td>\n",
              "      <td>1</td>\n",
              "      <td>0</td>\n",
              "      <td>1</td>\n",
              "      <td>0</td>\n",
              "      <td>0</td>\n",
              "      <td>0</td>\n",
              "      <td>0</td>\n",
              "      <td>1</td>\n",
              "      <td>0</td>\n",
              "      <td>0</td>\n",
              "    </tr>\n",
              "  </tbody>\n",
              "</table>\n",
              "</div>"
            ],
            "text/plain": [
              "        availableMoney  currentBalance  ...  REVERSAL  isFraud\n",
              "25426          1907.28          592.72  ...         0        0\n",
              "27917          5290.17         9709.83  ...         0        0\n",
              "677714        48311.51         1688.49  ...         0        0\n",
              "357440          250.00            0.00  ...         0        0\n",
              "57072          1230.17         3769.83  ...         0        0\n",
              "\n",
              "[5 rows x 49 columns]"
            ]
          },
          "metadata": {
            "tags": []
          },
          "execution_count": 30
        }
      ]
    },
    {
      "cell_type": "markdown",
      "metadata": {
        "id": "IlfjRrCePDAa"
      },
      "source": [
        "##Due to class imbalance, we use oversampling of the minority class (isFraud = True)\n",
        "\n",
        "\n"
      ]
    },
    {
      "cell_type": "code",
      "metadata": {
        "colab": {
          "base_uri": "https://localhost:8080/",
          "height": 352
        },
        "id": "nlNmiqgAh8Dx",
        "outputId": "33b1f35e-58e9-46b0-bcd0-a3b5ad2e9c8e"
      },
      "source": [
        "max_size = new_df['isFraud'].value_counts().max()\n",
        "\n",
        "lst = [new_df]\n",
        "for class_index, group in new_df.groupby('isFraud'):\n",
        "    lst.append(group.sample(max_size-len(group), replace=True))\n",
        "frame_new = pd.concat(lst)\n",
        "sns.countplot(frame_new['isFraud'])"
      ],
      "execution_count": 31,
      "outputs": [
        {
          "output_type": "stream",
          "text": [
            "/usr/local/lib/python3.7/dist-packages/seaborn/_decorators.py:43: FutureWarning: Pass the following variable as a keyword arg: x. From version 0.12, the only valid positional argument will be `data`, and passing other arguments without an explicit keyword will result in an error or misinterpretation.\n",
            "  FutureWarning\n"
          ],
          "name": "stderr"
        },
        {
          "output_type": "execute_result",
          "data": {
            "text/plain": [
              "<matplotlib.axes._subplots.AxesSubplot at 0x7fde4e7b4990>"
            ]
          },
          "metadata": {
            "tags": []
          },
          "execution_count": 31
        },
        {
          "output_type": "display_data",
          "data": {
            "image/png": "[encoded data removed]",
            "text/plain": [
              "<Figure size 432x288 with 1 Axes>"
            ]
          },
          "metadata": {
            "tags": [],
            "needs_background": "light"
          }
        }
      ]
    },
    {
      "cell_type": "code",
      "metadata": {
        "id": "nXt0jonRM4fg"
      },
      "source": [
        "X_train = frame_new.drop('isFraud', axis=1)\n",
        "y_train = frame_new['isFraud']"
      ],
      "execution_count": 32,
      "outputs": []
    },
    {
      "cell_type": "markdown",
      "metadata": {
        "id": "nQipMopAZuDj"
      },
      "source": [
        "# Logistic Regression"
      ]
    },
    {
      "cell_type": "code",
      "metadata": {
        "id": "wLmAogcPZuDj"
      },
      "source": [
        "import sklearn\n",
        "from sklearn.linear_model import LogisticRegression\n",
        "from sklearn.svm import SVC\n",
        "from sklearn.naive_bayes import GaussianNB\n",
        "from sklearn.tree import DecisionTreeClassifier\n",
        "from sklearn.ensemble import RandomForestClassifier, GradientBoostingClassifier, BaggingClassifier\n",
        "from sklearn.neighbors import KNeighborsClassifier\n",
        "from sklearn.metrics import accuracy_score, confusion_matrix, classification_report, f1_score, roc_curve, roc_auc_score, precision_score, recall_score, precision_recall_curve"
      ],
      "execution_count": 33,
      "outputs": []
    },
    {
      "cell_type": "code",
      "metadata": {
        "colab": {
          "base_uri": "https://localhost:8080/"
        },
        "id": "oiC8JQxkZuDj",
        "outputId": "baf5b6f0-9f0d-4787-e599-466c7117b023"
      },
      "source": [
        "log = LogisticRegression()\n",
        "start_time = time.time()\n",
        "log.fit(X_train, y_train)\n",
        "total_time_training_log = time.time() - start_time\n",
        "start_time = time.time()\n",
        "y_pred = log.predict(X_val)\n",
        "total_time_inference_log = time.time() - start_time"
      ],
      "execution_count": 34,
      "outputs": [
        {
          "output_type": "stream",
          "text": [
            "/usr/local/lib/python3.7/dist-packages/sklearn/linear_model/_logistic.py:940: ConvergenceWarning: lbfgs failed to converge (status=1):\n",
            "STOP: TOTAL NO. of ITERATIONS REACHED LIMIT.\n",
            "\n",
            "Increase the number of iterations (max_iter) or scale the data as shown in:\n",
            "    https://scikit-learn.org/stable/modules/preprocessing.html\n",
            "Please also refer to the documentation for alternative solver options:\n",
            "    https://scikit-learn.org/stable/modules/linear_model.html#logistic-regression\n",
            "  extra_warning_msg=_LOGISTIC_SOLVER_CONVERGENCE_MSG)\n"
          ],
          "name": "stderr"
        }
      ]
    },
    {
      "cell_type": "code",
      "metadata": {
        "colab": {
          "base_uri": "https://localhost:8080/"
        },
        "id": "UI2Sx5YPPgH7",
        "outputId": "88071a5b-48d1-41d2-f48b-553772965aaa"
      },
      "source": [
        "print(f'Accuracy Score: {accuracy_score(y_val, y_pred)}')\n",
        "print('\\n')\n",
        "print(f'Confusion Matrix: \\n{confusion_matrix(y_val, y_pred)}')\n",
        "print('\\n')\n",
        "print(f'Area Under Curve: {roc_auc_score(y_val, y_pred)}')\n",
        "print('\\n')\n",
        "print(f'Recall score: {recall_score(y_val, y_pred)}')\n",
        "print('\\n')\n",
        "print(f'Precision score: {precision_score(y_val, y_pred)}')\n",
        "print('\\n')\n",
        "print(f'f1 score: {f1_score(y_val, y_pred)}')\n",
        "print('\\n')\n",
        "\n",
        "print(\"Total Time for training a Logistic Regression Classifier is\", total_time_training_log)\n",
        "print(\"Total Time for inference of a Logistic Regression Classifier is\", total_time_inference_log)\n",
        "\n",
        "acc_logreg = accuracy_score(y_val,y_pred)\n",
        "recall_logreg = recall_score(y_val,y_pred)\n",
        "precision_logreg = precision_score(y_val,y_pred)\n",
        "f1_logreg = f1_score(y_val,y_pred)"
      ],
      "execution_count": 35,
      "outputs": [
        {
          "output_type": "stream",
          "text": [
            "Accuracy Score: 0.6781541957034098\n",
            "\n",
            "\n",
            "Confusion Matrix: \n",
            "[[78775 37266]\n",
            " [  697  1216]]\n",
            "\n",
            "\n",
            "Area Under Curve: 0.6572528488711741\n",
            "\n",
            "\n",
            "Recall score: 0.6356508102456874\n",
            "\n",
            "\n",
            "Precision score: 0.031599189231328935\n",
            "\n",
            "\n",
            "f1 score: 0.06020547097413046\n",
            "\n",
            "\n",
            "Total Time for training a Logistic Regression Classifier is 23.751433849334717\n",
            "Total Time for inference of a Logistic Regression Classifier is 0.020318984985351562\n"
          ],
          "name": "stdout"
        }
      ]
    },
    {
      "cell_type": "code",
      "metadata": {
        "colab": {
          "base_uri": "https://localhost:8080/"
        },
        "id": "6_2s5Rwwccuh",
        "outputId": "b4b96e03-a912-4e89-dde8-157c076e986e"
      },
      "source": [
        "print(classification_report(y_val, y_pred, target_names=['Not Fraudulent', 'Fraudulent']))"
      ],
      "execution_count": 36,
      "outputs": [
        {
          "output_type": "stream",
          "text": [
            "                precision    recall  f1-score   support\n",
            "\n",
            "Not Fraudulent       0.99      0.68      0.81    116041\n",
            "    Fraudulent       0.03      0.64      0.06      1913\n",
            "\n",
            "      accuracy                           0.68    117954\n",
            "     macro avg       0.51      0.66      0.43    117954\n",
            "  weighted avg       0.98      0.68      0.79    117954\n",
            "\n"
          ],
          "name": "stdout"
        }
      ]
    },
    {
      "cell_type": "markdown",
      "metadata": {
        "id": "fvLL7zMJZuDj"
      },
      "source": [
        "# SVC (Takes Time to Run)"
      ]
    },
    {
      "cell_type": "code",
      "metadata": {
        "id": "QNzWkAD1ZuDk"
      },
      "source": [
        "# svc = SVC()\n",
        "# start_time = time.time()\n",
        "# svc.fit(X_train, y_train)\n",
        "# total_time_training_svc = time.time() - start_time\n",
        "# start_time = time.time()\n",
        "# y_pred = svc.predict(X_val)\n",
        "# total_time_inference_svc = time.time() - start_time\n",
        "# acc_svc = accuracy_score(y_val, y_pred)\n",
        "# print(confusion_matrix(y_val, y_pred))\n",
        "# print(\"Total Time for training a SVC is\", total_time_training_svc)\n",
        "# print(\"Total Time for inference of a SVC is\", total_time_inference_svc)"
      ],
      "execution_count": 37,
      "outputs": []
    },
    {
      "cell_type": "code",
      "metadata": {
        "id": "UfMvgwBnQl4P"
      },
      "source": [
        "# print(f'Accuracy Score: {accuracy_score(y_val, y_pred)}')\n",
        "# print(f'Confusion Matrix: \\n{confusion_matrix(y_val, y_pred)}')\n",
        "# print(f'Area Under Curve: {roc_auc_score(y_val, y_pred)}')\n",
        "# print(f'Recall score: {recall_score(y_val, y_pred)}')\n",
        "# print(f'Precision score: {precision_score(y_val, y_pred)}')\n",
        "# print(f'f1 score: {f1_score(y_val, y_pred)}')\n",
        "\n",
        "# recall_svc = recall_score(y_val, y_pred)\n",
        "# precision_svc = precision_score(y_val, y_pred)\n",
        "# f1_svc = f1_score(y_val, y_pred)\n"
      ],
      "execution_count": 38,
      "outputs": []
    },
    {
      "cell_type": "code",
      "metadata": {
        "id": "RHDdXdtrdC9w"
      },
      "source": [
        "# print(classification_report(y_val, y_pred, target_names=['Not Fraudulent', 'Fraudulent']))"
      ],
      "execution_count": 39,
      "outputs": []
    },
    {
      "cell_type": "markdown",
      "metadata": {
        "id": "PBnAolFUQmVr"
      },
      "source": [
        "# XGBoost (Boosting Decision Trees)"
      ]
    },
    {
      "cell_type": "code",
      "metadata": {
        "id": "X14EPjc1Qnit"
      },
      "source": [
        "start_time = time.time()\n",
        "clf = GradientBoostingClassifier(n_estimators=100, learning_rate=1.0, max_depth=2, random_state=0).fit(X_train, y_train)\n",
        "total_time_training_xgb = time.time() - start_time\n",
        "start_time = time.time()\n",
        "y_val = clf.predict(X_val)\n",
        "total_time_inference_xgb = time.time() - start_time"
      ],
      "execution_count": 40,
      "outputs": []
    },
    {
      "cell_type": "code",
      "metadata": {
        "colab": {
          "base_uri": "https://localhost:8080/"
        },
        "id": "YNzu5FZ_Qobc",
        "outputId": "42b1fc78-fdb4-4ddd-ad30-e46c9d297aaf"
      },
      "source": [
        "print(f'Accuracy Score: {accuracy_score(y_val, y_pred)}')\n",
        "print('\\n')\n",
        "print(f'Confusion Matrix: \\n{confusion_matrix(y_val, y_pred)}')\n",
        "print('\\n')\n",
        "print(f'Area Under Curve: {roc_auc_score(y_val, y_pred)}')\n",
        "print('\\n')\n",
        "print(f'Recall score: {recall_score(y_val, y_pred)}')\n",
        "print('\\n')\n",
        "print(f'Precision score: {precision_score(y_val, y_pred)}')\n",
        "print('\\n')\n",
        "print(f'f1 score: {f1_score(y_val, y_pred)}')\n",
        "print('\\n')\n",
        "\n",
        "print(\"Total Time for training a XGBoost is\", total_time_training_xgb)\n",
        "print(\"Total Time for inference of a XGBoost is\", total_time_inference_xgb)\n",
        "\n",
        "acc_xgb = accuracy_score(y_val, y_pred)\n",
        "recall_xgb = recall_score(y_val, y_pred)\n",
        "precision_xgb = precision_score(y_val, y_pred)\n",
        "f1_xgb = f1_score(y_val, y_pred)"
      ],
      "execution_count": 41,
      "outputs": [
        {
          "output_type": "stream",
          "text": [
            "Accuracy Score: 0.8010834732183733\n",
            "\n",
            "\n",
            "Confusion Matrix: \n",
            "[[70459 14450]\n",
            " [ 9013 24032]]\n",
            "\n",
            "\n",
            "Area Under Curve: 0.7785342618305089\n",
            "\n",
            "\n",
            "Recall score: 0.7272507187169012\n",
            "\n",
            "\n",
            "Precision score: 0.6244997661244218\n",
            "\n",
            "\n",
            "f1 score: 0.6719700253051295\n",
            "\n",
            "\n",
            "Total Time for training a XGBoost is 264.72651624679565\n",
            "Total Time for inference of a XGBoost is 0.2106461524963379\n"
          ],
          "name": "stdout"
        }
      ]
    },
    {
      "cell_type": "code",
      "metadata": {
        "colab": {
          "base_uri": "https://localhost:8080/"
        },
        "id": "8meELSBGcf6p",
        "outputId": "b312b667-2059-4b05-fcfc-d2b0b727972c"
      },
      "source": [
        "print(classification_report(y_val, y_pred, target_names=['Not Fraudulent', 'Fraudulent']))"
      ],
      "execution_count": 42,
      "outputs": [
        {
          "output_type": "stream",
          "text": [
            "                precision    recall  f1-score   support\n",
            "\n",
            "Not Fraudulent       0.89      0.83      0.86     84909\n",
            "    Fraudulent       0.62      0.73      0.67     33045\n",
            "\n",
            "      accuracy                           0.80    117954\n",
            "     macro avg       0.76      0.78      0.76    117954\n",
            "  weighted avg       0.81      0.80      0.81    117954\n",
            "\n"
          ],
          "name": "stdout"
        }
      ]
    },
    {
      "cell_type": "markdown",
      "metadata": {
        "id": "7ewy7GrxZuDk"
      },
      "source": [
        "# Decision Tree"
      ]
    },
    {
      "cell_type": "code",
      "metadata": {
        "id": "A3mqO15mZuDk"
      },
      "source": [
        "tree = DecisionTreeClassifier()\n",
        "start_time = time.time()\n",
        "tree.fit(X_train, y_train)\n",
        "total_time_training_tree = time.time() - start_time\n",
        "start_time = time.time()\n",
        "y_pred = tree.predict(X_val)\n",
        "total_time_inference_tree = time.time() - start_time"
      ],
      "execution_count": 43,
      "outputs": []
    },
    {
      "cell_type": "code",
      "metadata": {
        "colab": {
          "base_uri": "https://localhost:8080/"
        },
        "id": "OeMu26ocY4Ie",
        "outputId": "57bf7fe2-d183-4444-f600-7e2fcfc921b5"
      },
      "source": [
        "print(f'Accuracy Score: {accuracy_score(y_val, y_pred)}')\n",
        "print('\\n')\n",
        "print(f'Confusion Matrix: \\n{confusion_matrix(y_val, y_pred)}')\n",
        "print('\\n')\n",
        "print(f'Area Under Curve: {roc_auc_score(y_val, y_pred)}')\n",
        "print('\\n')\n",
        "print(f'Recall score: {recall_score(y_val, y_pred)}')\n",
        "print('\\n')\n",
        "print(f'Precision score: {precision_score(y_val, y_pred)}')\n",
        "print('\\n')\n",
        "print(f'f1 score: {f1_score(y_val, y_pred)}')\n",
        "print('\\n')\n",
        "\n",
        "\n",
        "print(\"Total Time for training a Decision Tree is\", total_time_training_tree)\n",
        "print(\"Total Time for inference of a Decision Tree is\", total_time_inference_tree)\n",
        "\n",
        "acc_tree = accuracy_score(y_val, y_pred)\n",
        "recall_tree = recall_score(y_val, y_pred)\n",
        "precision_tree = precision_score(y_val, y_pred)\n",
        "f1_tree = f1_score(y_val, y_pred)"
      ],
      "execution_count": 44,
      "outputs": [
        {
          "output_type": "stream",
          "text": [
            "Accuracy Score: 0.7245451616731946\n",
            "\n",
            "\n",
            "Confusion Matrix: \n",
            "[[84257   652]\n",
            " [31839  1206]]\n",
            "\n",
            "\n",
            "Area Under Curve: 0.5144084393103194\n",
            "\n",
            "\n",
            "Recall score: 0.03649568769859283\n",
            "\n",
            "\n",
            "Precision score: 0.6490850376749193\n",
            "\n",
            "\n",
            "f1 score: 0.06910580752370857\n",
            "\n",
            "\n",
            "Total Time for training a Decision Tree is 23.550332069396973\n",
            "Total Time for inference of a Decision Tree is 0.05797457695007324\n"
          ],
          "name": "stdout"
        }
      ]
    },
    {
      "cell_type": "code",
      "metadata": {
        "colab": {
          "base_uri": "https://localhost:8080/"
        },
        "id": "BQAzxKeDdMug",
        "outputId": "d6bcddcf-c4e6-498f-d0e9-885ed276a66e"
      },
      "source": [
        "print(classification_report(y_val, y_pred, target_names=['Not Fraudulent', 'Fraudulent']))"
      ],
      "execution_count": 45,
      "outputs": [
        {
          "output_type": "stream",
          "text": [
            "                precision    recall  f1-score   support\n",
            "\n",
            "Not Fraudulent       0.73      0.99      0.84     84909\n",
            "    Fraudulent       0.65      0.04      0.07     33045\n",
            "\n",
            "      accuracy                           0.72    117954\n",
            "     macro avg       0.69      0.51      0.45    117954\n",
            "  weighted avg       0.70      0.72      0.62    117954\n",
            "\n"
          ],
          "name": "stdout"
        }
      ]
    },
    {
      "cell_type": "markdown",
      "metadata": {
        "id": "Aa4r4vadZuDk"
      },
      "source": [
        "# Random Forest "
      ]
    },
    {
      "cell_type": "code",
      "metadata": {
        "id": "lxptP7ZPZuDk"
      },
      "source": [
        "rfc = RandomForestClassifier(n_estimators=75)\n",
        "start_time = time.time()\n",
        "rfc.fit(X_train, y_train)\n",
        "total_time_training_rfc = time.time() - start_time\n",
        "start_time = time.time()\n",
        "y_pred = rfc.predict(X_val)\n",
        "total_time_inference_rfc = time.time() - start_time"
      ],
      "execution_count": 46,
      "outputs": []
    },
    {
      "cell_type": "code",
      "metadata": {
        "colab": {
          "base_uri": "https://localhost:8080/"
        },
        "id": "O-JnT6C4ZA-E",
        "outputId": "529d6660-4559-49fd-89cb-bb5801adf939"
      },
      "source": [
        "print(f'Accuracy Score: {accuracy_score(y_val, y_pred)}')\n",
        "print('\\n')\n",
        "print(f'Confusion Matrix: \\n{confusion_matrix(y_val, y_pred)}')\n",
        "print('\\n')\n",
        "print(f'Area Under Curve: {roc_auc_score(y_val, y_pred)}')\n",
        "print('\\n')\n",
        "print(f'Recall score: {recall_score(y_val, y_pred)}')\n",
        "print('\\n')\n",
        "print(f'Precision score: {precision_score(y_val, y_pred)}')\n",
        "print('\\n')\n",
        "print(f'f1 score: {f1_score(y_val, y_pred)}')\n",
        "print('\\n')\n",
        "\n",
        "print(\"Total Time for training a Random Forest Classifier is\", total_time_training_rfc)\n",
        "print(\"Total Time for inference of a Random Forest Classifier is\", total_time_inference_rfc)\n",
        "\n",
        "acc_rfc = accuracy_score(y_val, y_pred)\n",
        "recall_rfc = recall_score(y_val, y_pred)\n",
        "precision_rfc = precision_score(y_val, y_pred)\n",
        "f1_rfc = f1_score(y_val, y_pred)"
      ],
      "execution_count": 47,
      "outputs": [
        {
          "output_type": "stream",
          "text": [
            "Accuracy Score: 0.7202892653068145\n",
            "\n",
            "\n",
            "Confusion Matrix: \n",
            "[[84902     7]\n",
            " [32986    59]]\n",
            "\n",
            "\n",
            "Area Under Curve: 0.5008515014448167\n",
            "\n",
            "\n",
            "Recall score: 0.0017854440913905281\n",
            "\n",
            "\n",
            "Precision score: 0.8939393939393939\n",
            "\n",
            "\n",
            "f1 score: 0.003563770348222645\n",
            "\n",
            "\n",
            "Total Time for training a Random Forest Classifier is 220.79191994667053\n",
            "Total Time for inference of a Random Forest Classifier is 2.915893077850342\n"
          ],
          "name": "stdout"
        }
      ]
    },
    {
      "cell_type": "code",
      "metadata": {
        "colab": {
          "base_uri": "https://localhost:8080/"
        },
        "id": "tqLwOzlwcRKZ",
        "outputId": "2823511d-951d-45cf-b65d-abe2eefe7c6e"
      },
      "source": [
        "print(classification_report(y_val, y_pred, target_names=['Not Fraudulent', 'Fraudulent']))"
      ],
      "execution_count": 48,
      "outputs": [
        {
          "output_type": "stream",
          "text": [
            "                precision    recall  f1-score   support\n",
            "\n",
            "Not Fraudulent       0.72      1.00      0.84     84909\n",
            "    Fraudulent       0.89      0.00      0.00     33045\n",
            "\n",
            "      accuracy                           0.72    117954\n",
            "     macro avg       0.81      0.50      0.42    117954\n",
            "  weighted avg       0.77      0.72      0.60    117954\n",
            "\n"
          ],
          "name": "stdout"
        }
      ]
    },
    {
      "cell_type": "markdown",
      "metadata": {
        "id": "eTCJTvvaa-We"
      },
      "source": [
        "# Bagging Decision Tree"
      ]
    },
    {
      "cell_type": "code",
      "metadata": {
        "id": "2dkq-vI3bAkB",
        "colab": {
          "base_uri": "https://localhost:8080/"
        },
        "outputId": "9e142878-fb06-449c-df1f-30b623f931fc"
      },
      "source": [
        "kfold = sklearn.model_selection.KFold(n_splits=10, random_state=7)\n",
        "cart = DecisionTreeClassifier()\n",
        "num_trees = 100\n",
        "model = BaggingClassifier(base_estimator=cart, n_estimators=num_trees, random_state=7)\n",
        "start_time = time.time()\n",
        "model.fit(X_train, y_train)\n",
        "total_time_training_bc = time.time() - start_time\n",
        "start_time = time.time()\n",
        "y_pred = model.predict(X_val)\n",
        "total_time_inference_bc = time.time() - start_time"
      ],
      "execution_count": 49,
      "outputs": [
        {
          "output_type": "stream",
          "text": [
            "/usr/local/lib/python3.7/dist-packages/sklearn/model_selection/_split.py:296: FutureWarning: Setting a random_state has no effect since shuffle is False. This will raise an error in 0.24. You should leave random_state to its default (None), or set shuffle=True.\n",
            "  FutureWarning\n"
          ],
          "name": "stderr"
        }
      ]
    },
    {
      "cell_type": "code",
      "metadata": {
        "id": "FXzBb8b8b7JQ",
        "colab": {
          "base_uri": "https://localhost:8080/"
        },
        "outputId": "2793dc95-1941-4ccb-a833-645b751d533f"
      },
      "source": [
        "print(f'Accuracy Score: {accuracy_score(y_val, y_pred)}')\n",
        "print('\\n')\n",
        "print(f'Confusion Matrix: \\n{confusion_matrix(y_val, y_pred)}')\n",
        "print('\\n')\n",
        "print(f'Area Under Curve: {roc_auc_score(y_val, y_pred)}')\n",
        "print('\\n')\n",
        "print(f'Recall score: {recall_score(y_val, y_pred)}')\n",
        "print('\\n')\n",
        "print(f'Precision score: {precision_score(y_val, y_pred)}')\n",
        "print('\\n')\n",
        "print(f'f1 score: {f1_score(y_val, y_pred)}')\n",
        "print('\\n')\n",
        "\n",
        "print(\"Total Time for training a Bagging Decision Tree is\", total_time_training_bc)\n",
        "print(\"Total Time for inference of a Bagging Decision Tree is\", total_time_inference_bc)\n",
        "\n",
        "acc_bc = accuracy_score(y_val, y_pred)\n",
        "recall_bc = recall_score(y_val, y_pred)\n",
        "precision_bc = precision_score(y_val, y_pred)\n",
        "f1_bc = f1_score(y_val, y_pred)\n"
      ],
      "execution_count": 50,
      "outputs": [
        {
          "output_type": "stream",
          "text": [
            "Accuracy Score: 0.7209929294470726\n",
            "\n",
            "\n",
            "Confusion Matrix: \n",
            "[[84859    50]\n",
            " [32860   185]]\n",
            "\n",
            "\n",
            "Area Under Curve: 0.5025047803307108\n",
            "\n",
            "\n",
            "Recall score: 0.005598426388258435\n",
            "\n",
            "\n",
            "Precision score: 0.7872340425531915\n",
            "\n",
            "\n",
            "f1 score: 0.01111778846153846\n",
            "\n",
            "\n",
            "Total Time for training a Bagging Decision Tree is 1268.3622832298279\n",
            "Total Time for inference of a Bagging Decision Tree is 5.144152402877808\n"
          ],
          "name": "stdout"
        }
      ]
    },
    {
      "cell_type": "code",
      "metadata": {
        "id": "DXR1okBwdTzq",
        "colab": {
          "base_uri": "https://localhost:8080/"
        },
        "outputId": "cacfbd79-570a-437b-e9a7-f0aea2feb062"
      },
      "source": [
        "print(classification_report(y_val, y_pred, target_names=['Not Fraudulent', 'Fraudulent']))"
      ],
      "execution_count": 51,
      "outputs": [
        {
          "output_type": "stream",
          "text": [
            "                precision    recall  f1-score   support\n",
            "\n",
            "Not Fraudulent       0.72      1.00      0.84     84909\n",
            "    Fraudulent       0.79      0.01      0.01     33045\n",
            "\n",
            "      accuracy                           0.72    117954\n",
            "     macro avg       0.75      0.50      0.42    117954\n",
            "  weighted avg       0.74      0.72      0.61    117954\n",
            "\n"
          ],
          "name": "stdout"
        }
      ]
    },
    {
      "cell_type": "markdown",
      "metadata": {
        "id": "SUEZeloLcBCz"
      },
      "source": [
        "# Naive Bayes"
      ]
    },
    {
      "cell_type": "code",
      "metadata": {
        "id": "fkaUT6NHcADL"
      },
      "source": [
        "clf = GaussianNB()\n",
        "start_time = time.time()\n",
        "clf = clf.fit(X_train, y_train)\n",
        "total_time_training_nb = time.time() - start_time\n",
        "start_time = time.time()\n",
        "y_pred = clf.predict(X_val)\n",
        "total_time_inference_nb = time.time() - start_time"
      ],
      "execution_count": 52,
      "outputs": []
    },
    {
      "cell_type": "code",
      "metadata": {
        "id": "zfk2X7r6cFJZ",
        "colab": {
          "base_uri": "https://localhost:8080/"
        },
        "outputId": "9d42e790-0e9e-4b42-ecd6-69ebde524b06"
      },
      "source": [
        "print(f'Accuracy Score: {accuracy_score(y_val, y_pred)}')\n",
        "print('\\n')\n",
        "print(f'Confusion Matrix: \\n{confusion_matrix(y_val, y_pred)}')\n",
        "print('\\n')\n",
        "print(f'Area Under Curve: {roc_auc_score(y_val, y_pred)}')\n",
        "print('\\n')\n",
        "print(f'Recall score: {recall_score(y_val, y_pred)}')\n",
        "print('\\n')\n",
        "print(f'Precision score: {precision_score(y_val, y_pred)}')\n",
        "print('\\n')\n",
        "print(f'f1 score: {f1_score(y_val, y_pred)}')\n",
        "print('\\n')\n",
        "\n",
        "print(\"Total Time for training a Naive Bayes Classifier is\", total_time_training_nb)\n",
        "print(\"Total Time for inference of a Naive Bayes Classifier is\", total_time_inference_nb)\n",
        "\n",
        "\n",
        "acc_nb = accuracy_score(y_val, y_pred)\n",
        "recall_nb = recall_score(y_val, y_pred)\n",
        "precision_nb = precision_score(y_val, y_pred)\n",
        "f1_nb = f1_score(y_val, y_pred)\n"
      ],
      "execution_count": 53,
      "outputs": [
        {
          "output_type": "stream",
          "text": [
            "Accuracy Score: 0.7538786306526273\n",
            "\n",
            "\n",
            "Confusion Matrix: \n",
            "[[61096 23813]\n",
            " [ 5218 27827]]\n",
            "\n",
            "\n",
            "Area Under Curve: 0.7808204615117389\n",
            "\n",
            "\n",
            "Recall score: 0.8420941140868513\n",
            "\n",
            "\n",
            "Precision score: 0.5388652207591015\n",
            "\n",
            "\n",
            "f1 score: 0.6571884040857294\n",
            "\n",
            "\n",
            "Total Time for training a Naive Bayes Classifier is 0.8318507671356201\n",
            "Total Time for inference of a Naive Bayes Classifier is 0.07086348533630371\n"
          ],
          "name": "stdout"
        }
      ]
    },
    {
      "cell_type": "code",
      "metadata": {
        "id": "jpz5gTpWdaNa",
        "colab": {
          "base_uri": "https://localhost:8080/"
        },
        "outputId": "8536e19a-6705-47cc-8906-88eb587249cb"
      },
      "source": [
        "print(classification_report(y_val, y_pred, target_names=['Not Fraudulent', 'Fraudulent']))"
      ],
      "execution_count": 54,
      "outputs": [
        {
          "output_type": "stream",
          "text": [
            "                precision    recall  f1-score   support\n",
            "\n",
            "Not Fraudulent       0.92      0.72      0.81     84909\n",
            "    Fraudulent       0.54      0.84      0.66     33045\n",
            "\n",
            "      accuracy                           0.75    117954\n",
            "     macro avg       0.73      0.78      0.73    117954\n",
            "  weighted avg       0.81      0.75      0.77    117954\n",
            "\n"
          ],
          "name": "stdout"
        }
      ]
    },
    {
      "cell_type": "markdown",
      "metadata": {
        "id": "G8Ote_lbZuDl"
      },
      "source": [
        "# K-Nearest Neighbors"
      ]
    },
    {
      "cell_type": "code",
      "metadata": {
        "id": "gG4o3VrrZuDl"
      },
      "source": [
        "knn = KNeighborsClassifier(n_neighbors=2)\n",
        "start_time = time.time()\n",
        "knn.fit(X_train, y_train)\n",
        "total_time_training_knn = time.time() - start_time\n",
        "start_time = time.time()\n",
        "y_pred = knn.predict(X_val)\n",
        "total_time_inference_knn = time.time() - start_time"
      ],
      "execution_count": 55,
      "outputs": []
    },
    {
      "cell_type": "code",
      "metadata": {
        "id": "oAzlpz3aZGyv",
        "colab": {
          "base_uri": "https://localhost:8080/"
        },
        "outputId": "7c31f662-5a50-412a-e460-96959c1d778f"
      },
      "source": [
        "print(f'Accuracy Score: {accuracy_score(y_val, y_pred)}')\n",
        "print('\\n')\n",
        "print(f'Confusion Matrix: \\n{confusion_matrix(y_val, y_pred)}')\n",
        "print('\\n')\n",
        "print(f'Area Under Curve: {roc_auc_score(y_val, y_pred)}')\n",
        "print('\\n')\n",
        "print(f'Recall score: {recall_score(y_val, y_pred)}')\n",
        "print('\\n')\n",
        "print(f'Precision score: {precision_score(y_val, y_pred)}')\n",
        "print('\\n')\n",
        "print(f'f1 score: {f1_score(y_val, y_pred)}')\n",
        "print('\\n')\n",
        "\n",
        "print(\"Total Time for training a KNN is\", total_time_training_knn)\n",
        "print(\"Total Time for inference of a KNN is\", total_time_inference_knn)\n",
        "\n",
        "acc_knn = accuracy_score(y_val, y_pred)\n",
        "recall_knn = recall_score(y_val, y_pred)\n",
        "precision_knn = precision_score(y_val, y_pred)\n",
        "f1_knn = f1_score(y_val, y_pred)"
      ],
      "execution_count": 56,
      "outputs": [
        {
          "output_type": "stream",
          "text": [
            "Accuracy Score: 0.7174661308645743\n",
            "\n",
            "\n",
            "Confusion Matrix: \n",
            "[[83851  1058]\n",
            " [32268   777]]\n",
            "\n",
            "\n",
            "Area Under Curve: 0.5055264960254077\n",
            "\n",
            "\n",
            "Recall score: 0.02351339083068543\n",
            "\n",
            "\n",
            "Precision score: 0.42343324250681197\n",
            "\n",
            "\n",
            "f1 score: 0.04455275229357798\n",
            "\n",
            "\n",
            "Total Time for training a KNN is 90.53871321678162\n",
            "Total Time for inference of a KNN is 10.353709697723389\n"
          ],
          "name": "stdout"
        }
      ]
    },
    {
      "cell_type": "code",
      "metadata": {
        "id": "OH9Y1EdhddoH",
        "colab": {
          "base_uri": "https://localhost:8080/"
        },
        "outputId": "2536db48-d2a0-40b4-8bfe-4350564ba11b"
      },
      "source": [
        "print(classification_report(y_val, y_pred, target_names=['Not Fraudulent', 'Fraudulent']))"
      ],
      "execution_count": 57,
      "outputs": [
        {
          "output_type": "stream",
          "text": [
            "                precision    recall  f1-score   support\n",
            "\n",
            "Not Fraudulent       0.72      0.99      0.83     84909\n",
            "    Fraudulent       0.42      0.02      0.04     33045\n",
            "\n",
            "      accuracy                           0.72    117954\n",
            "     macro avg       0.57      0.51      0.44    117954\n",
            "  weighted avg       0.64      0.72      0.61    117954\n",
            "\n"
          ],
          "name": "stdout"
        }
      ]
    },
    {
      "cell_type": "markdown",
      "metadata": {
        "id": "J9osUXaOZuDl"
      },
      "source": [
        "##Elbow Method\n"
      ]
    },
    {
      "cell_type": "code",
      "metadata": {
        "id": "dIYvtTXcZuDl",
        "colab": {
          "base_uri": "https://localhost:8080/",
          "height": 283
        },
        "outputId": "880face6-3f62-471c-c110-494fa989ebe5"
      },
      "source": [
        "error_rate = []\n",
        "range_knn = range(1,10)\n",
        "for i in range_knn:\n",
        "    classifier = KNeighborsClassifier(n_neighbors=i)\n",
        "    classifier.fit(X_train, y_train)\n",
        "    pred_i = classifier.predict(X_val)\n",
        "    error_rate.append(np.mean(pred_i != y_val))\n",
        "plt.plot(range_knn, error_rate)"
      ],
      "execution_count": 58,
      "outputs": [
        {
          "output_type": "execute_result",
          "data": {
            "text/plain": [
              "[<matplotlib.lines.Line2D at 0x7fde4e67a4d0>]"
            ]
          },
          "metadata": {
            "tags": []
          },
          "execution_count": 58
        },
        {
          "output_type": "display_data",
          "data": {
            "image/png": "[encoded data removed]",
            "text/plain": [
              "<Figure size 432x288 with 1 Axes>"
            ]
          },
          "metadata": {
            "tags": [],
            "needs_background": "light"
          }
        }
      ]
    },
    {
      "cell_type": "markdown",
      "metadata": {
        "id": "GmjOSxj0eBIu"
      },
      "source": [
        "# Deep Learning"
      ]
    },
    {
      "cell_type": "code",
      "metadata": {
        "id": "hNSOVpopeDcH"
      },
      "source": [
        "import keras\n",
        "from keras.layers import Dense\n",
        "from keras.models import Sequential\n",
        "from keras.optimizers import SGD, Adam"
      ],
      "execution_count": 59,
      "outputs": []
    },
    {
      "cell_type": "code",
      "metadata": {
        "id": "Q9k6qqA1ekj-"
      },
      "source": [
        "y_train = np.reshape(y_train.values, (len(y_train), 1))"
      ],
      "execution_count": 60,
      "outputs": []
    },
    {
      "cell_type": "code",
      "metadata": {
        "id": "TQNyCE7ueubX"
      },
      "source": [
        "model = Sequential()\n",
        "model.add(Dense(64, input_shape=[X_train.shape[1]], activation='relu'))\n",
        "model.add(Dense(32, activation='relu'))\n",
        "model.add(Dense(1, activation='sigmoid'))\n",
        "model.compile(optimizer=Adam(learning_rate=0.0001), loss='binary_crossentropy', metrics=['accuracy'])"
      ],
      "execution_count": 61,
      "outputs": []
    },
    {
      "cell_type": "code",
      "metadata": {
        "id": "OgkrYPVjiIID",
        "colab": {
          "base_uri": "https://localhost:8080/"
        },
        "outputId": "3d0dd0dc-2ec6-4d8e-cf0c-8497afaaa2ff"
      },
      "source": [
        "model.summary()"
      ],
      "execution_count": 62,
      "outputs": [
        {
          "output_type": "stream",
          "text": [
            "Model: \"sequential\"\n",
            "_________________________________________________________________\n",
            "Layer (type)                 Output Shape              Param #   \n",
            "=================================================================\n",
            "dense (Dense)                (None, 64)                3136      \n",
            "_________________________________________________________________\n",
            "dense_1 (Dense)              (None, 32)                2080      \n",
            "_________________________________________________________________\n",
            "dense_2 (Dense)              (None, 1)                 33        \n",
            "=================================================================\n",
            "Total params: 5,249\n",
            "Trainable params: 5,249\n",
            "Non-trainable params: 0\n",
            "_________________________________________________________________\n"
          ],
          "name": "stdout"
        }
      ]
    },
    {
      "cell_type": "code",
      "metadata": {
        "id": "4000XVHPfBxb",
        "colab": {
          "base_uri": "https://localhost:8080/"
        },
        "outputId": "720b51ac-902a-441b-8562-f64896c4f2c3"
      },
      "source": [
        "number_of_iterations = 20\n",
        "batch_size = 512\n",
        "start_time = time.time()\n",
        "model.fit(X_train, y_train, batch_size=batch_size, epochs=number_of_iterations, verbose=2, validation_data=(X_val, y_val))\n",
        "total_time_training_dl = time.time() - start_time"
      ],
      "execution_count": 63,
      "outputs": [
        {
          "output_type": "stream",
          "text": [
            "Epoch 1/20\n",
            "2268/2268 - 18s - loss: 4.1259 - accuracy: 0.5593 - val_loss: 2.3762 - val_accuracy: 0.4328\n",
            "Epoch 2/20\n",
            "2268/2268 - 5s - loss: 1.2704 - accuracy: 0.5880 - val_loss: 1.9278 - val_accuracy: 0.4151\n",
            "Epoch 3/20\n",
            "2268/2268 - 5s - loss: 1.0626 - accuracy: 0.6032 - val_loss: 0.6437 - val_accuracy: 0.7042\n",
            "Epoch 4/20\n",
            "2268/2268 - 5s - loss: 0.9229 - accuracy: 0.6159 - val_loss: 0.5939 - val_accuracy: 0.7650\n",
            "Epoch 5/20\n",
            "2268/2268 - 5s - loss: 0.8805 - accuracy: 0.6231 - val_loss: 0.6545 - val_accuracy: 0.6964\n",
            "Epoch 6/20\n",
            "2268/2268 - 5s - loss: 0.8598 - accuracy: 0.6268 - val_loss: 0.4552 - val_accuracy: 0.7954\n",
            "Epoch 7/20\n",
            "2268/2268 - 5s - loss: 0.8337 - accuracy: 0.6299 - val_loss: 1.4791 - val_accuracy: 0.4195\n",
            "Epoch 8/20\n",
            "2268/2268 - 4s - loss: 0.8212 - accuracy: 0.6334 - val_loss: 0.5599 - val_accuracy: 0.7808\n",
            "Epoch 9/20\n",
            "2268/2268 - 4s - loss: 0.8466 - accuracy: 0.6308 - val_loss: 0.5042 - val_accuracy: 0.7592\n",
            "Epoch 10/20\n",
            "2268/2268 - 4s - loss: 0.8255 - accuracy: 0.6344 - val_loss: 0.8351 - val_accuracy: 0.5789\n",
            "Epoch 11/20\n",
            "2268/2268 - 4s - loss: 0.8148 - accuracy: 0.6350 - val_loss: 0.4375 - val_accuracy: 0.8086\n",
            "Epoch 12/20\n",
            "2268/2268 - 4s - loss: 0.8048 - accuracy: 0.6380 - val_loss: 0.7183 - val_accuracy: 0.6545\n",
            "Epoch 13/20\n",
            "2268/2268 - 4s - loss: 0.7770 - accuracy: 0.6404 - val_loss: 0.4487 - val_accuracy: 0.7960\n",
            "Epoch 14/20\n",
            "2268/2268 - 4s - loss: 0.8106 - accuracy: 0.6374 - val_loss: 0.5002 - val_accuracy: 0.7651\n",
            "Epoch 15/20\n",
            "2268/2268 - 4s - loss: 0.7956 - accuracy: 0.6394 - val_loss: 0.4473 - val_accuracy: 0.8077\n",
            "Epoch 16/20\n",
            "2268/2268 - 5s - loss: 0.8136 - accuracy: 0.6388 - val_loss: 0.4186 - val_accuracy: 0.8188\n",
            "Epoch 17/20\n",
            "2268/2268 - 5s - loss: 0.7984 - accuracy: 0.6404 - val_loss: 0.4313 - val_accuracy: 0.8112\n",
            "Epoch 18/20\n",
            "2268/2268 - 5s - loss: 0.7955 - accuracy: 0.6407 - val_loss: 1.2467 - val_accuracy: 0.5262\n",
            "Epoch 19/20\n",
            "2268/2268 - 5s - loss: 0.8009 - accuracy: 0.6409 - val_loss: 0.7060 - val_accuracy: 0.6922\n",
            "Epoch 20/20\n",
            "2268/2268 - 5s - loss: 0.8023 - accuracy: 0.6410 - val_loss: 0.5384 - val_accuracy: 0.7068\n"
          ],
          "name": "stdout"
        }
      ]
    },
    {
      "cell_type": "code",
      "metadata": {
        "id": "8J8wDCEKpRyB",
        "colab": {
          "base_uri": "https://localhost:8080/"
        },
        "outputId": "eaf7f0e2-e383-4794-8e55-32df00631010"
      },
      "source": [
        "start_time = time.time()\n",
        "y_pred_value = model.predict(X_val)\n",
        "total_time_inference_dl = time.time() - start_time\n",
        "y_pred = [0 if each > 0.5 else 1 for each in y_pred_value]\n",
        "print(f'Accuracy Score: {accuracy_score(y_val, y_pred)}')\n",
        "print('\\n')\n",
        "print(f'Confusion Matrix: \\n{confusion_matrix(y_val, y_pred)}')\n",
        "print('\\n')\n",
        "print(f'Area Under Curve: {roc_auc_score(y_val, y_pred)}')\n",
        "print('\\n')\n",
        "print(f'Recall score: {recall_score(y_val, y_pred)}')\n",
        "print('\\n')\n",
        "print(f'Precision score: {precision_score(y_val, y_pred)}')\n",
        "print('\\n')\n",
        "print(f'f1 score: {f1_score(y_val, y_pred)}')\n",
        "print('\\n')\n",
        "print(classification_report(y_val, y_pred, target_names=['Not Fraudulent', 'Fraudulent']))\n",
        "print('\\n')\n",
        "\n",
        "print(\"Total Time for training a Deep learning model is\", total_time_training_dl)\n",
        "print(\"Total Time for inference of a Deep learning model is\", total_time_inference_dl)\n",
        "\n",
        "acc_dl = accuracy_score(y_val, y_pred)\n",
        "recall_dl = recall_score(y_val, y_pred)\n",
        "precision_dl = precision_score(y_val, y_pred)\n",
        "f1_dl = f1_score(y_val, y_pred)"
      ],
      "execution_count": 64,
      "outputs": [
        {
          "output_type": "stream",
          "text": [
            "Accuracy Score: 0.29324991098224734\n",
            "\n",
            "\n",
            "Confusion Matrix: \n",
            "[[29564 55345]\n",
            " [28019  5026]]\n",
            "\n",
            "\n",
            "Area Under Curve: 0.25014007706961294\n",
            "\n",
            "\n",
            "Recall score: 0.1520956271750643\n",
            "\n",
            "\n",
            "Precision score: 0.08325189246492522\n",
            "\n",
            "\n",
            "f1 score: 0.10760469298621221\n",
            "\n",
            "\n",
            "                precision    recall  f1-score   support\n",
            "\n",
            "Not Fraudulent       0.51      0.35      0.41     84909\n",
            "    Fraudulent       0.08      0.15      0.11     33045\n",
            "\n",
            "      accuracy                           0.29    117954\n",
            "     macro avg       0.30      0.25      0.26    117954\n",
            "  weighted avg       0.39      0.29      0.33    117954\n",
            "\n",
            "\n",
            "\n",
            "Total Time for training a Deep learning model is 106.1326162815094\n",
            "Total Time for inference of a Deep learning model is 3.0414979457855225\n"
          ],
          "name": "stdout"
        }
      ]
    },
    {
      "cell_type": "markdown",
      "metadata": {
        "id": "edFSqUrRZuDl"
      },
      "source": [
        "# Results"
      ]
    },
    {
      "cell_type": "code",
      "metadata": {
        "id": "6-Q8QNsrZuDl",
        "colab": {
          "base_uri": "https://localhost:8080/",
          "height": 300
        },
        "outputId": "a968d23c-386d-421a-b5e3-2d47623aaefa"
      },
      "source": [
        "models = pd.DataFrame({\n",
        "    'Model': ['Logistic Regression', \n",
        "              'XGBoost', 'Decision Trees', 'Random Forest Classifier', \n",
        "              'Bagging Decision Tree','Naive Bayes','KNN','Deep learning'],\n",
        "    'Accuracy': [acc_logreg, \n",
        "              acc_xgb, acc_tree, acc_rfc, \n",
        "              acc_bc, acc_nb, acc_knn, acc_dl],\n",
        "    'Recall': [recall_logreg, \n",
        "    recall_xgb, recall_tree, recall_rfc, \n",
        "    recall_bc, recall_nb, recall_knn, recall_dl],\n",
        "    'Precision': [precision_logreg, \n",
        "    precision_xgb, precision_tree, precision_rfc, \n",
        "    precision_bc, precision_nb, precision_knn, precision_dl],\n",
        "    'F1': [f1_logreg, \n",
        "     f1_xgb, f1_tree, f1_rfc, \n",
        "     f1_bc, f1_nb, f1_knn, f1_dl],\n",
        "     'Training Time': [total_time_training_log, \n",
        "      total_time_training_xgb, total_time_training_tree, total_time_training_rfc, \n",
        "      total_time_training_bc, total_time_training_nb, total_time_training_knn, total_time_training_dl],\n",
        "      'Inference Time': [total_time_inference_log, \n",
        "      total_time_inference_xgb, total_time_inference_tree, total_time_inference_rfc, \n",
        "      total_time_inference_bc, total_time_inference_nb, total_time_inference_knn, total_time_inference_dl]})\n",
        "models.sort_values(by='Recall', ascending=False)"
      ],
      "execution_count": 65,
      "outputs": [
        {
          "output_type": "execute_result",
          "data": {
            "text/html": [
              "<div>\n",
              "<style scoped>\n",
              "    .dataframe tbody tr th:only-of-type {\n",
              "        vertical-align: middle;\n",
              "    }\n",
              "\n",
              "    .dataframe tbody tr th {\n",
              "        vertical-align: top;\n",
              "    }\n",
              "\n",
              "    .dataframe thead th {\n",
              "        text-align: right;\n",
              "    }\n",
              "</style>\n",
              "<table border=\"1\" class=\"dataframe\">\n",
              "  <thead>\n",
              "    <tr style=\"text-align: right;\">\n",
              "      <th></th>\n",
              "      <th>Model</th>\n",
              "      <th>Accuracy</th>\n",
              "      <th>Recall</th>\n",
              "      <th>Precision</th>\n",
              "      <th>F1</th>\n",
              "      <th>Training Time</th>\n",
              "      <th>Inference Time</th>\n",
              "    </tr>\n",
              "  </thead>\n",
              "  <tbody>\n",
              "    <tr>\n",
              "      <th>5</th>\n",
              "      <td>Naive Bayes</td>\n",
              "      <td>0.753879</td>\n",
              "      <td>0.842094</td>\n",
              "      <td>0.538865</td>\n",
              "      <td>0.657188</td>\n",
              "      <td>0.831851</td>\n",
              "      <td>0.070863</td>\n",
              "    </tr>\n",
              "    <tr>\n",
              "      <th>1</th>\n",
              "      <td>XGBoost</td>\n",
              "      <td>0.801083</td>\n",
              "      <td>0.727251</td>\n",
              "      <td>0.624500</td>\n",
              "      <td>0.671970</td>\n",
              "      <td>264.726516</td>\n",
              "      <td>0.210646</td>\n",
              "    </tr>\n",
              "    <tr>\n",
              "      <th>0</th>\n",
              "      <td>Logistic Regression</td>\n",
              "      <td>0.678154</td>\n",
              "      <td>0.635651</td>\n",
              "      <td>0.031599</td>\n",
              "      <td>0.060205</td>\n",
              "      <td>23.751434</td>\n",
              "      <td>0.020319</td>\n",
              "    </tr>\n",
              "    <tr>\n",
              "      <th>7</th>\n",
              "      <td>Deep learning</td>\n",
              "      <td>0.293250</td>\n",
              "      <td>0.152096</td>\n",
              "      <td>0.083252</td>\n",
              "      <td>0.107605</td>\n",
              "      <td>106.132616</td>\n",
              "      <td>3.041498</td>\n",
              "    </tr>\n",
              "    <tr>\n",
              "      <th>2</th>\n",
              "      <td>Decision Trees</td>\n",
              "      <td>0.724545</td>\n",
              "      <td>0.036496</td>\n",
              "      <td>0.649085</td>\n",
              "      <td>0.069106</td>\n",
              "      <td>23.550332</td>\n",
              "      <td>0.057975</td>\n",
              "    </tr>\n",
              "    <tr>\n",
              "      <th>6</th>\n",
              "      <td>KNN</td>\n",
              "      <td>0.717466</td>\n",
              "      <td>0.023513</td>\n",
              "      <td>0.423433</td>\n",
              "      <td>0.044553</td>\n",
              "      <td>90.538713</td>\n",
              "      <td>10.353710</td>\n",
              "    </tr>\n",
              "    <tr>\n",
              "      <th>4</th>\n",
              "      <td>Bagging Decision Tree</td>\n",
              "      <td>0.720993</td>\n",
              "      <td>0.005598</td>\n",
              "      <td>0.787234</td>\n",
              "      <td>0.011118</td>\n",
              "      <td>1268.362283</td>\n",
              "      <td>5.144152</td>\n",
              "    </tr>\n",
              "    <tr>\n",
              "      <th>3</th>\n",
              "      <td>Random Forest Classifier</td>\n",
              "      <td>0.720289</td>\n",
              "      <td>0.001785</td>\n",
              "      <td>0.893939</td>\n",
              "      <td>0.003564</td>\n",
              "      <td>220.791920</td>\n",
              "      <td>2.915893</td>\n",
              "    </tr>\n",
              "  </tbody>\n",
              "</table>\n",
              "</div>"
            ],
            "text/plain": [
              "                      Model  Accuracy  ...  Training Time  Inference Time\n",
              "5               Naive Bayes  0.753879  ...       0.831851        0.070863\n",
              "1                   XGBoost  0.801083  ...     264.726516        0.210646\n",
              "0       Logistic Regression  0.678154  ...      23.751434        0.020319\n",
              "7             Deep learning  0.293250  ...     106.132616        3.041498\n",
              "2            Decision Trees  0.724545  ...      23.550332        0.057975\n",
              "6                       KNN  0.717466  ...      90.538713       10.353710\n",
              "4     Bagging Decision Tree  0.720993  ...    1268.362283        5.144152\n",
              "3  Random Forest Classifier  0.720289  ...     220.791920        2.915893\n",
              "\n",
              "[8 rows x 7 columns]"
            ]
          },
          "metadata": {
            "tags": []
          },
          "execution_count": 65
        }
      ]
    }
  ]
}