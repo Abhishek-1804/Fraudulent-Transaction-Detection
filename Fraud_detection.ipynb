{
  "nbformat": 4,
  "nbformat_minor": 0,
  "metadata": {
    "colab": {
      "name": "Fraud detection.ipynb",
      "provenance": [],
      "collapsed_sections": [],
      "include_colab_link": true
    },
    "kernelspec": {
      "display_name": "Python 3",
      "language": "python",
      "name": "python3"
    },
    "language_info": {
      "codemirror_mode": {
        "name": "ipython",
        "version": 3
      },
      "file_extension": ".py",
      "mimetype": "text/x-python",
      "name": "python",
      "nbconvert_exporter": "python",
      "pygments_lexer": "ipython3",
      "version": "3.8.3"
    },
    "accelerator": "GPU"
  },
  "cells": [
    {
      "cell_type": "markdown",
      "metadata": {
        "id": "view-in-github",
        "colab_type": "text"
      },
      "source": [
        "<a href=\"https://colab.research.google.com/github/abhidp55/Fraudulent-Transaction-Detection/blob/main/Fraud_detection.ipynb\" target=\"_parent\"><img src=\"https://colab.research.google.com/assets/colab-badge.svg\" alt=\"Open In Colab\"/></a>"
      ]
    },
    {
      "cell_type": "markdown",
      "metadata": {
        "id": "4a1O4Ramc4qD"
      },
      "source": [
        "This Jupyter Notebook is a comprehensive analysis of the dataset 'transactions.txt' and application of machine learning models for the task of boolean binary classification (isFraud)\n",
        "\n",
        "The objective is to develop a predictive machine learning model to classify new datapoints as fraudulent or not"
      ]
    },
    {
      "cell_type": "markdown",
      "metadata": {
        "id": "oJNR7o4OZuDV"
      },
      "source": [
        "# Loading The Dataset into a Pandas DataFrame "
      ]
    },
    {
      "cell_type": "code",
      "metadata": {
        "colab": {
          "base_uri": "https://localhost:8080/"
        },
        "id": "6Nwf5W96F7zA",
        "outputId": "656842ff-b1f0-408f-a3da-d37057e4e936"
      },
      "source": [
        "# transactions.zip is a repo in Google Drive\n",
        "# This cell mounts GDrive onto this Jupyter Notebook\n",
        "\n",
        "from google.colab import drive\n",
        "drive.mount('/content/gdrive/', force_remount=True)"
      ],
      "execution_count": null,
      "outputs": [
        {
          "output_type": "stream",
          "text": [
            "Mounted at /content/gdrive/\n"
          ],
          "name": "stdout"
        }
      ]
    },
    {
      "cell_type": "code",
      "metadata": {
        "colab": {
          "base_uri": "https://localhost:8080/"
        },
        "id": "Hicp68FcF_JZ",
        "outputId": "4c6e848c-f987-44dc-c8f0-d24dc740cbf5"
      },
      "source": [
        "!unzip \"/content/gdrive/MyDrive/Colab Notebooks/Git_ML/internship/transactions.zip\""
      ],
      "execution_count": null,
      "outputs": [
        {
          "output_type": "stream",
          "text": [
            "Archive:  /content/gdrive/MyDrive/Colab Notebooks/Git_ML/internship/transactions.zip\n",
            "  inflating: transactions.txt        \n"
          ],
          "name": "stdout"
        }
      ]
    },
    {
      "cell_type": "code",
      "metadata": {
        "id": "cq-JmuvPZuDX"
      },
      "source": [
        "# Importing the necessary libraries\n",
        "\n",
        "import pandas as pd\n",
        "import numpy as np\n",
        "import seaborn as sns\n",
        "import matplotlib.pyplot as plt\n",
        "%matplotlib inline"
      ],
      "execution_count": null,
      "outputs": []
    },
    {
      "cell_type": "code",
      "metadata": {
        "id": "9HMjOLweZuDY"
      },
      "source": [
        "# Loading the dataset\n",
        "\n",
        "df = pd.read_json('transactions.txt', lines=True)"
      ],
      "execution_count": null,
      "outputs": []
    },
    {
      "cell_type": "markdown",
      "metadata": {
        "id": "2kFQwcfeZuDZ"
      },
      "source": [
        "# Looking at the dataset and making some decisions before proceeding to exploratory data analysis"
      ]
    },
    {
      "cell_type": "code",
      "metadata": {
        "colab": {
          "base_uri": "https://localhost:8080/",
          "height": 973
        },
        "id": "T9lkG_80ZuDZ",
        "outputId": "6fbd729e-1c92-44dd-9ea1-994ff961124c"
      },
      "source": [
        "# Observing values of the first 10 rows (always a good idea to manually look at the data first)\n",
        "\n",
        "df.head(10).transpose()"
      ],
      "execution_count": null,
      "outputs": [
        {
          "output_type": "execute_result",
          "data": {
            "text/html": [
              "<div>\n",
              "<style scoped>\n",
              "    .dataframe tbody tr th:only-of-type {\n",
              "        vertical-align: middle;\n",
              "    }\n",
              "\n",
              "    .dataframe tbody tr th {\n",
              "        vertical-align: top;\n",
              "    }\n",
              "\n",
              "    .dataframe thead th {\n",
              "        text-align: right;\n",
              "    }\n",
              "</style>\n",
              "<table border=\"1\" class=\"dataframe\">\n",
              "  <thead>\n",
              "    <tr style=\"text-align: right;\">\n",
              "      <th></th>\n",
              "      <th>0</th>\n",
              "      <th>1</th>\n",
              "      <th>2</th>\n",
              "      <th>3</th>\n",
              "      <th>4</th>\n",
              "      <th>5</th>\n",
              "      <th>6</th>\n",
              "      <th>7</th>\n",
              "      <th>8</th>\n",
              "      <th>9</th>\n",
              "    </tr>\n",
              "  </thead>\n",
              "  <tbody>\n",
              "    <tr>\n",
              "      <th>accountNumber</th>\n",
              "      <td>737265056</td>\n",
              "      <td>737265056</td>\n",
              "      <td>737265056</td>\n",
              "      <td>737265056</td>\n",
              "      <td>830329091</td>\n",
              "      <td>830329091</td>\n",
              "      <td>830329091</td>\n",
              "      <td>830329091</td>\n",
              "      <td>830329091</td>\n",
              "      <td>830329091</td>\n",
              "    </tr>\n",
              "    <tr>\n",
              "      <th>customerId</th>\n",
              "      <td>737265056</td>\n",
              "      <td>737265056</td>\n",
              "      <td>737265056</td>\n",
              "      <td>737265056</td>\n",
              "      <td>830329091</td>\n",
              "      <td>830329091</td>\n",
              "      <td>830329091</td>\n",
              "      <td>830329091</td>\n",
              "      <td>830329091</td>\n",
              "      <td>830329091</td>\n",
              "    </tr>\n",
              "    <tr>\n",
              "      <th>creditLimit</th>\n",
              "      <td>5000</td>\n",
              "      <td>5000</td>\n",
              "      <td>5000</td>\n",
              "      <td>5000</td>\n",
              "      <td>5000</td>\n",
              "      <td>5000</td>\n",
              "      <td>5000</td>\n",
              "      <td>5000</td>\n",
              "      <td>5000</td>\n",
              "      <td>5000</td>\n",
              "    </tr>\n",
              "    <tr>\n",
              "      <th>availableMoney</th>\n",
              "      <td>5000</td>\n",
              "      <td>5000</td>\n",
              "      <td>5000</td>\n",
              "      <td>5000</td>\n",
              "      <td>5000</td>\n",
              "      <td>5000</td>\n",
              "      <td>5000</td>\n",
              "      <td>5000</td>\n",
              "      <td>4990.63</td>\n",
              "      <td>5000</td>\n",
              "    </tr>\n",
              "    <tr>\n",
              "      <th>transactionDateTime</th>\n",
              "      <td>2016-08-13T14:27:32</td>\n",
              "      <td>2016-10-11T05:05:54</td>\n",
              "      <td>2016-11-08T09:18:39</td>\n",
              "      <td>2016-12-10T02:14:50</td>\n",
              "      <td>2016-03-24T21:04:46</td>\n",
              "      <td>2016-04-19T16:24:27</td>\n",
              "      <td>2016-05-21T14:50:35</td>\n",
              "      <td>2016-06-03T00:31:21</td>\n",
              "      <td>2016-06-10T01:21:46</td>\n",
              "      <td>2016-07-11T10:47:16</td>\n",
              "    </tr>\n",
              "    <tr>\n",
              "      <th>transactionAmount</th>\n",
              "      <td>98.55</td>\n",
              "      <td>74.51</td>\n",
              "      <td>7.47</td>\n",
              "      <td>7.47</td>\n",
              "      <td>71.18</td>\n",
              "      <td>30.76</td>\n",
              "      <td>57.28</td>\n",
              "      <td>9.37</td>\n",
              "      <td>523.67</td>\n",
              "      <td>164.37</td>\n",
              "    </tr>\n",
              "    <tr>\n",
              "      <th>merchantName</th>\n",
              "      <td>Uber</td>\n",
              "      <td>AMC #191138</td>\n",
              "      <td>Play Store</td>\n",
              "      <td>Play Store</td>\n",
              "      <td>Tim Hortons #947751</td>\n",
              "      <td>In-N-Out #422833</td>\n",
              "      <td>Krispy Kreme #685312</td>\n",
              "      <td>Shake Shack #968081</td>\n",
              "      <td>Burger King #486122</td>\n",
              "      <td>Five Guys #510989</td>\n",
              "    </tr>\n",
              "    <tr>\n",
              "      <th>acqCountry</th>\n",
              "      <td>US</td>\n",
              "      <td>US</td>\n",
              "      <td>US</td>\n",
              "      <td>US</td>\n",
              "      <td>US</td>\n",
              "      <td>US</td>\n",
              "      <td>US</td>\n",
              "      <td>US</td>\n",
              "      <td></td>\n",
              "      <td>US</td>\n",
              "    </tr>\n",
              "    <tr>\n",
              "      <th>merchantCountryCode</th>\n",
              "      <td>US</td>\n",
              "      <td>US</td>\n",
              "      <td>US</td>\n",
              "      <td>US</td>\n",
              "      <td>US</td>\n",
              "      <td>US</td>\n",
              "      <td>US</td>\n",
              "      <td>US</td>\n",
              "      <td>US</td>\n",
              "      <td>US</td>\n",
              "    </tr>\n",
              "    <tr>\n",
              "      <th>posEntryMode</th>\n",
              "      <td>02</td>\n",
              "      <td>09</td>\n",
              "      <td>09</td>\n",
              "      <td>09</td>\n",
              "      <td>02</td>\n",
              "      <td>02</td>\n",
              "      <td>02</td>\n",
              "      <td>05</td>\n",
              "      <td>02</td>\n",
              "      <td>05</td>\n",
              "    </tr>\n",
              "    <tr>\n",
              "      <th>posConditionCode</th>\n",
              "      <td>01</td>\n",
              "      <td>01</td>\n",
              "      <td>01</td>\n",
              "      <td>01</td>\n",
              "      <td>01</td>\n",
              "      <td>01</td>\n",
              "      <td>01</td>\n",
              "      <td>01</td>\n",
              "      <td>01</td>\n",
              "      <td>08</td>\n",
              "    </tr>\n",
              "    <tr>\n",
              "      <th>merchantCategoryCode</th>\n",
              "      <td>rideshare</td>\n",
              "      <td>entertainment</td>\n",
              "      <td>mobileapps</td>\n",
              "      <td>mobileapps</td>\n",
              "      <td>fastfood</td>\n",
              "      <td>fastfood</td>\n",
              "      <td>fastfood</td>\n",
              "      <td>fastfood</td>\n",
              "      <td>fastfood</td>\n",
              "      <td>fastfood</td>\n",
              "    </tr>\n",
              "    <tr>\n",
              "      <th>currentExpDate</th>\n",
              "      <td>06/2023</td>\n",
              "      <td>02/2024</td>\n",
              "      <td>08/2025</td>\n",
              "      <td>08/2025</td>\n",
              "      <td>10/2029</td>\n",
              "      <td>01/2020</td>\n",
              "      <td>05/2020</td>\n",
              "      <td>01/2021</td>\n",
              "      <td>08/2032</td>\n",
              "      <td>04/2020</td>\n",
              "    </tr>\n",
              "    <tr>\n",
              "      <th>accountOpenDate</th>\n",
              "      <td>2015-03-14</td>\n",
              "      <td>2015-03-14</td>\n",
              "      <td>2015-03-14</td>\n",
              "      <td>2015-03-14</td>\n",
              "      <td>2015-08-06</td>\n",
              "      <td>2015-08-06</td>\n",
              "      <td>2015-08-06</td>\n",
              "      <td>2015-08-06</td>\n",
              "      <td>2015-08-06</td>\n",
              "      <td>2015-08-06</td>\n",
              "    </tr>\n",
              "    <tr>\n",
              "      <th>dateOfLastAddressChange</th>\n",
              "      <td>2015-03-14</td>\n",
              "      <td>2015-03-14</td>\n",
              "      <td>2015-03-14</td>\n",
              "      <td>2015-03-14</td>\n",
              "      <td>2015-08-06</td>\n",
              "      <td>2015-08-06</td>\n",
              "      <td>2015-08-06</td>\n",
              "      <td>2015-08-06</td>\n",
              "      <td>2015-08-06</td>\n",
              "      <td>2015-08-06</td>\n",
              "    </tr>\n",
              "    <tr>\n",
              "      <th>cardCVV</th>\n",
              "      <td>414</td>\n",
              "      <td>486</td>\n",
              "      <td>486</td>\n",
              "      <td>486</td>\n",
              "      <td>885</td>\n",
              "      <td>885</td>\n",
              "      <td>885</td>\n",
              "      <td>885</td>\n",
              "      <td>885</td>\n",
              "      <td>885</td>\n",
              "    </tr>\n",
              "    <tr>\n",
              "      <th>enteredCVV</th>\n",
              "      <td>414</td>\n",
              "      <td>486</td>\n",
              "      <td>486</td>\n",
              "      <td>486</td>\n",
              "      <td>885</td>\n",
              "      <td>885</td>\n",
              "      <td>885</td>\n",
              "      <td>885</td>\n",
              "      <td>885</td>\n",
              "      <td>885</td>\n",
              "    </tr>\n",
              "    <tr>\n",
              "      <th>cardLast4Digits</th>\n",
              "      <td>1803</td>\n",
              "      <td>767</td>\n",
              "      <td>767</td>\n",
              "      <td>767</td>\n",
              "      <td>3143</td>\n",
              "      <td>3143</td>\n",
              "      <td>3143</td>\n",
              "      <td>3143</td>\n",
              "      <td>3143</td>\n",
              "      <td>3143</td>\n",
              "    </tr>\n",
              "    <tr>\n",
              "      <th>transactionType</th>\n",
              "      <td>PURCHASE</td>\n",
              "      <td>PURCHASE</td>\n",
              "      <td>PURCHASE</td>\n",
              "      <td>PURCHASE</td>\n",
              "      <td>PURCHASE</td>\n",
              "      <td>PURCHASE</td>\n",
              "      <td>PURCHASE</td>\n",
              "      <td>PURCHASE</td>\n",
              "      <td>PURCHASE</td>\n",
              "      <td>PURCHASE</td>\n",
              "    </tr>\n",
              "    <tr>\n",
              "      <th>echoBuffer</th>\n",
              "      <td></td>\n",
              "      <td></td>\n",
              "      <td></td>\n",
              "      <td></td>\n",
              "      <td></td>\n",
              "      <td></td>\n",
              "      <td></td>\n",
              "      <td></td>\n",
              "      <td></td>\n",
              "      <td></td>\n",
              "    </tr>\n",
              "    <tr>\n",
              "      <th>currentBalance</th>\n",
              "      <td>0</td>\n",
              "      <td>0</td>\n",
              "      <td>0</td>\n",
              "      <td>0</td>\n",
              "      <td>0</td>\n",
              "      <td>0</td>\n",
              "      <td>0</td>\n",
              "      <td>0</td>\n",
              "      <td>9.37</td>\n",
              "      <td>0</td>\n",
              "    </tr>\n",
              "    <tr>\n",
              "      <th>merchantCity</th>\n",
              "      <td></td>\n",
              "      <td></td>\n",
              "      <td></td>\n",
              "      <td></td>\n",
              "      <td></td>\n",
              "      <td></td>\n",
              "      <td></td>\n",
              "      <td></td>\n",
              "      <td></td>\n",
              "      <td></td>\n",
              "    </tr>\n",
              "    <tr>\n",
              "      <th>merchantState</th>\n",
              "      <td></td>\n",
              "      <td></td>\n",
              "      <td></td>\n",
              "      <td></td>\n",
              "      <td></td>\n",
              "      <td></td>\n",
              "      <td></td>\n",
              "      <td></td>\n",
              "      <td></td>\n",
              "      <td></td>\n",
              "    </tr>\n",
              "    <tr>\n",
              "      <th>merchantZip</th>\n",
              "      <td></td>\n",
              "      <td></td>\n",
              "      <td></td>\n",
              "      <td></td>\n",
              "      <td></td>\n",
              "      <td></td>\n",
              "      <td></td>\n",
              "      <td></td>\n",
              "      <td></td>\n",
              "      <td></td>\n",
              "    </tr>\n",
              "    <tr>\n",
              "      <th>cardPresent</th>\n",
              "      <td>False</td>\n",
              "      <td>True</td>\n",
              "      <td>False</td>\n",
              "      <td>False</td>\n",
              "      <td>True</td>\n",
              "      <td>True</td>\n",
              "      <td>True</td>\n",
              "      <td>True</td>\n",
              "      <td>True</td>\n",
              "      <td>True</td>\n",
              "    </tr>\n",
              "    <tr>\n",
              "      <th>posOnPremises</th>\n",
              "      <td></td>\n",
              "      <td></td>\n",
              "      <td></td>\n",
              "      <td></td>\n",
              "      <td></td>\n",
              "      <td></td>\n",
              "      <td></td>\n",
              "      <td></td>\n",
              "      <td></td>\n",
              "      <td></td>\n",
              "    </tr>\n",
              "    <tr>\n",
              "      <th>recurringAuthInd</th>\n",
              "      <td></td>\n",
              "      <td></td>\n",
              "      <td></td>\n",
              "      <td></td>\n",
              "      <td></td>\n",
              "      <td></td>\n",
              "      <td></td>\n",
              "      <td></td>\n",
              "      <td></td>\n",
              "      <td></td>\n",
              "    </tr>\n",
              "    <tr>\n",
              "      <th>expirationDateKeyInMatch</th>\n",
              "      <td>False</td>\n",
              "      <td>False</td>\n",
              "      <td>False</td>\n",
              "      <td>False</td>\n",
              "      <td>False</td>\n",
              "      <td>False</td>\n",
              "      <td>False</td>\n",
              "      <td>False</td>\n",
              "      <td>False</td>\n",
              "      <td>False</td>\n",
              "    </tr>\n",
              "    <tr>\n",
              "      <th>isFraud</th>\n",
              "      <td>False</td>\n",
              "      <td>False</td>\n",
              "      <td>False</td>\n",
              "      <td>False</td>\n",
              "      <td>False</td>\n",
              "      <td>False</td>\n",
              "      <td>False</td>\n",
              "      <td>False</td>\n",
              "      <td>False</td>\n",
              "      <td>False</td>\n",
              "    </tr>\n",
              "  </tbody>\n",
              "</table>\n",
              "</div>"
            ],
            "text/plain": [
              "                                            0  ...                    9\n",
              "accountNumber                       737265056  ...            830329091\n",
              "customerId                          737265056  ...            830329091\n",
              "creditLimit                              5000  ...                 5000\n",
              "availableMoney                           5000  ...                 5000\n",
              "transactionDateTime       2016-08-13T14:27:32  ...  2016-07-11T10:47:16\n",
              "transactionAmount                       98.55  ...               164.37\n",
              "merchantName                             Uber  ...    Five Guys #510989\n",
              "acqCountry                                 US  ...                   US\n",
              "merchantCountryCode                        US  ...                   US\n",
              "posEntryMode                               02  ...                   05\n",
              "posConditionCode                           01  ...                   08\n",
              "merchantCategoryCode                rideshare  ...             fastfood\n",
              "currentExpDate                        06/2023  ...              04/2020\n",
              "accountOpenDate                    2015-03-14  ...           2015-08-06\n",
              "dateOfLastAddressChange            2015-03-14  ...           2015-08-06\n",
              "cardCVV                                   414  ...                  885\n",
              "enteredCVV                                414  ...                  885\n",
              "cardLast4Digits                          1803  ...                 3143\n",
              "transactionType                      PURCHASE  ...             PURCHASE\n",
              "echoBuffer                                     ...                     \n",
              "currentBalance                              0  ...                    0\n",
              "merchantCity                                   ...                     \n",
              "merchantState                                  ...                     \n",
              "merchantZip                                    ...                     \n",
              "cardPresent                             False  ...                 True\n",
              "posOnPremises                                  ...                     \n",
              "recurringAuthInd                               ...                     \n",
              "expirationDateKeyInMatch                False  ...                False\n",
              "isFraud                                 False  ...                False\n",
              "\n",
              "[29 rows x 10 columns]"
            ]
          },
          "metadata": {
            "tags": []
          },
          "execution_count": 5
        }
      ]
    },
    {
      "cell_type": "markdown",
      "metadata": {
        "id": "n4aCXWlRIOgQ"
      },
      "source": [
        "It looks like some of the columns are blank, and there's a collection of various datatypes:\n",
        "String, float, datetime, categorical, int, boolean, object"
      ]
    },
    {
      "cell_type": "code",
      "metadata": {
        "colab": {
          "base_uri": "https://localhost:8080/"
        },
        "id": "Sm4UNYNSZuDa",
        "outputId": "15ea42a1-fb46-4463-8229-95d99efd0adf"
      },
      "source": [
        "# Useful to check out the datatypes for each feature\n",
        "\n",
        "df.info()"
      ],
      "execution_count": null,
      "outputs": [
        {
          "output_type": "stream",
          "text": [
            "<class 'pandas.core.frame.DataFrame'>\n",
            "RangeIndex: 786363 entries, 0 to 786362\n",
            "Data columns (total 29 columns):\n",
            " #   Column                    Non-Null Count   Dtype  \n",
            "---  ------                    --------------   -----  \n",
            " 0   accountNumber             786363 non-null  int64  \n",
            " 1   customerId                786363 non-null  int64  \n",
            " 2   creditLimit               786363 non-null  int64  \n",
            " 3   availableMoney            786363 non-null  float64\n",
            " 4   transactionDateTime       786363 non-null  object \n",
            " 5   transactionAmount         786363 non-null  float64\n",
            " 6   merchantName              786363 non-null  object \n",
            " 7   acqCountry                786363 non-null  object \n",
            " 8   merchantCountryCode       786363 non-null  object \n",
            " 9   posEntryMode              786363 non-null  object \n",
            " 10  posConditionCode          786363 non-null  object \n",
            " 11  merchantCategoryCode      786363 non-null  object \n",
            " 12  currentExpDate            786363 non-null  object \n",
            " 13  accountOpenDate           786363 non-null  object \n",
            " 14  dateOfLastAddressChange   786363 non-null  object \n",
            " 15  cardCVV                   786363 non-null  int64  \n",
            " 16  enteredCVV                786363 non-null  int64  \n",
            " 17  cardLast4Digits           786363 non-null  int64  \n",
            " 18  transactionType           786363 non-null  object \n",
            " 19  echoBuffer                786363 non-null  object \n",
            " 20  currentBalance            786363 non-null  float64\n",
            " 21  merchantCity              786363 non-null  object \n",
            " 22  merchantState             786363 non-null  object \n",
            " 23  merchantZip               786363 non-null  object \n",
            " 24  cardPresent               786363 non-null  bool   \n",
            " 25  posOnPremises             786363 non-null  object \n",
            " 26  recurringAuthInd          786363 non-null  object \n",
            " 27  expirationDateKeyInMatch  786363 non-null  bool   \n",
            " 28  isFraud                   786363 non-null  bool   \n",
            "dtypes: bool(3), float64(3), int64(6), object(17)\n",
            "memory usage: 158.2+ MB\n"
          ],
          "name": "stdout"
        }
      ]
    },
    {
      "cell_type": "code",
      "metadata": {
        "colab": {
          "base_uri": "https://localhost:8080/"
        },
        "id": "bcNl-lPXZuDa",
        "outputId": "61a40d0a-5080-498e-a9bd-6dc313998b0d"
      },
      "source": [
        "# Useful to check out the number of Null values for each feature\n",
        "\n",
        "df.isnull().sum()"
      ],
      "execution_count": null,
      "outputs": [
        {
          "output_type": "execute_result",
          "data": {
            "text/plain": [
              "accountNumber               0\n",
              "customerId                  0\n",
              "creditLimit                 0\n",
              "availableMoney              0\n",
              "transactionDateTime         0\n",
              "transactionAmount           0\n",
              "merchantName                0\n",
              "acqCountry                  0\n",
              "merchantCountryCode         0\n",
              "posEntryMode                0\n",
              "posConditionCode            0\n",
              "merchantCategoryCode        0\n",
              "currentExpDate              0\n",
              "accountOpenDate             0\n",
              "dateOfLastAddressChange     0\n",
              "cardCVV                     0\n",
              "enteredCVV                  0\n",
              "cardLast4Digits             0\n",
              "transactionType             0\n",
              "echoBuffer                  0\n",
              "currentBalance              0\n",
              "merchantCity                0\n",
              "merchantState               0\n",
              "merchantZip                 0\n",
              "cardPresent                 0\n",
              "posOnPremises               0\n",
              "recurringAuthInd            0\n",
              "expirationDateKeyInMatch    0\n",
              "isFraud                     0\n",
              "dtype: int64"
            ]
          },
          "metadata": {
            "tags": []
          },
          "execution_count": 7
        }
      ]
    },
    {
      "cell_type": "code",
      "metadata": {
        "colab": {
          "base_uri": "https://localhost:8080/",
          "height": 294
        },
        "id": "C6tadLmdZuDb",
        "outputId": "6f99c94e-5576-41f6-a60e-53f58efa742d"
      },
      "source": [
        "# Useful to check out the distribution of all the continuous valued featured of the dataset\n",
        "\n",
        "df.describe()"
      ],
      "execution_count": null,
      "outputs": [
        {
          "output_type": "execute_result",
          "data": {
            "text/html": [
              "<div>\n",
              "<style scoped>\n",
              "    .dataframe tbody tr th:only-of-type {\n",
              "        vertical-align: middle;\n",
              "    }\n",
              "\n",
              "    .dataframe tbody tr th {\n",
              "        vertical-align: top;\n",
              "    }\n",
              "\n",
              "    .dataframe thead th {\n",
              "        text-align: right;\n",
              "    }\n",
              "</style>\n",
              "<table border=\"1\" class=\"dataframe\">\n",
              "  <thead>\n",
              "    <tr style=\"text-align: right;\">\n",
              "      <th></th>\n",
              "      <th>accountNumber</th>\n",
              "      <th>customerId</th>\n",
              "      <th>creditLimit</th>\n",
              "      <th>availableMoney</th>\n",
              "      <th>transactionAmount</th>\n",
              "      <th>cardCVV</th>\n",
              "      <th>enteredCVV</th>\n",
              "      <th>cardLast4Digits</th>\n",
              "      <th>currentBalance</th>\n",
              "    </tr>\n",
              "  </thead>\n",
              "  <tbody>\n",
              "    <tr>\n",
              "      <th>count</th>\n",
              "      <td>7.863630e+05</td>\n",
              "      <td>7.863630e+05</td>\n",
              "      <td>786363.000000</td>\n",
              "      <td>786363.000000</td>\n",
              "      <td>786363.000000</td>\n",
              "      <td>786363.000000</td>\n",
              "      <td>786363.000000</td>\n",
              "      <td>786363.000000</td>\n",
              "      <td>786363.000000</td>\n",
              "    </tr>\n",
              "    <tr>\n",
              "      <th>mean</th>\n",
              "      <td>5.372326e+08</td>\n",
              "      <td>5.372326e+08</td>\n",
              "      <td>10759.464459</td>\n",
              "      <td>6250.725369</td>\n",
              "      <td>136.985791</td>\n",
              "      <td>544.467338</td>\n",
              "      <td>544.183857</td>\n",
              "      <td>4757.417799</td>\n",
              "      <td>4508.739089</td>\n",
              "    </tr>\n",
              "    <tr>\n",
              "      <th>std</th>\n",
              "      <td>2.554211e+08</td>\n",
              "      <td>2.554211e+08</td>\n",
              "      <td>11636.174890</td>\n",
              "      <td>8880.783989</td>\n",
              "      <td>147.725569</td>\n",
              "      <td>261.524220</td>\n",
              "      <td>261.551254</td>\n",
              "      <td>2996.583810</td>\n",
              "      <td>6457.442068</td>\n",
              "    </tr>\n",
              "    <tr>\n",
              "      <th>min</th>\n",
              "      <td>1.000881e+08</td>\n",
              "      <td>1.000881e+08</td>\n",
              "      <td>250.000000</td>\n",
              "      <td>-1005.630000</td>\n",
              "      <td>0.000000</td>\n",
              "      <td>100.000000</td>\n",
              "      <td>0.000000</td>\n",
              "      <td>0.000000</td>\n",
              "      <td>0.000000</td>\n",
              "    </tr>\n",
              "    <tr>\n",
              "      <th>25%</th>\n",
              "      <td>3.301333e+08</td>\n",
              "      <td>3.301333e+08</td>\n",
              "      <td>5000.000000</td>\n",
              "      <td>1077.420000</td>\n",
              "      <td>33.650000</td>\n",
              "      <td>310.000000</td>\n",
              "      <td>310.000000</td>\n",
              "      <td>2178.000000</td>\n",
              "      <td>689.910000</td>\n",
              "    </tr>\n",
              "    <tr>\n",
              "      <th>50%</th>\n",
              "      <td>5.074561e+08</td>\n",
              "      <td>5.074561e+08</td>\n",
              "      <td>7500.000000</td>\n",
              "      <td>3184.860000</td>\n",
              "      <td>87.900000</td>\n",
              "      <td>535.000000</td>\n",
              "      <td>535.000000</td>\n",
              "      <td>4733.000000</td>\n",
              "      <td>2451.760000</td>\n",
              "    </tr>\n",
              "    <tr>\n",
              "      <th>75%</th>\n",
              "      <td>7.676200e+08</td>\n",
              "      <td>7.676200e+08</td>\n",
              "      <td>15000.000000</td>\n",
              "      <td>7500.000000</td>\n",
              "      <td>191.480000</td>\n",
              "      <td>785.000000</td>\n",
              "      <td>785.000000</td>\n",
              "      <td>7338.000000</td>\n",
              "      <td>5291.095000</td>\n",
              "    </tr>\n",
              "    <tr>\n",
              "      <th>max</th>\n",
              "      <td>9.993896e+08</td>\n",
              "      <td>9.993896e+08</td>\n",
              "      <td>50000.000000</td>\n",
              "      <td>50000.000000</td>\n",
              "      <td>2011.540000</td>\n",
              "      <td>998.000000</td>\n",
              "      <td>998.000000</td>\n",
              "      <td>9998.000000</td>\n",
              "      <td>47498.810000</td>\n",
              "    </tr>\n",
              "  </tbody>\n",
              "</table>\n",
              "</div>"
            ],
            "text/plain": [
              "       accountNumber    customerId  ...  cardLast4Digits  currentBalance\n",
              "count   7.863630e+05  7.863630e+05  ...    786363.000000   786363.000000\n",
              "mean    5.372326e+08  5.372326e+08  ...      4757.417799     4508.739089\n",
              "std     2.554211e+08  2.554211e+08  ...      2996.583810     6457.442068\n",
              "min     1.000881e+08  1.000881e+08  ...         0.000000        0.000000\n",
              "25%     3.301333e+08  3.301333e+08  ...      2178.000000      689.910000\n",
              "50%     5.074561e+08  5.074561e+08  ...      4733.000000     2451.760000\n",
              "75%     7.676200e+08  7.676200e+08  ...      7338.000000     5291.095000\n",
              "max     9.993896e+08  9.993896e+08  ...      9998.000000    47498.810000\n",
              "\n",
              "[8 rows x 9 columns]"
            ]
          },
          "metadata": {
            "tags": []
          },
          "execution_count": 8
        }
      ]
    },
    {
      "cell_type": "code",
      "metadata": {
        "colab": {
          "base_uri": "https://localhost:8080/"
        },
        "id": "DLoIUgQqZuDb",
        "outputId": "e7c21022-0fe0-4a0a-8111-58693d6354d6"
      },
      "source": [
        "# Total number of records and features\n",
        "\n",
        "print(\"Number of records: {}, number of fields: {}\\n\".format(df.shape[0], df.shape[1]))"
      ],
      "execution_count": null,
      "outputs": [
        {
          "output_type": "stream",
          "text": [
            "Number of records: 786363, number of fields: 29\n",
            "\n"
          ],
          "name": "stdout"
        }
      ]
    },
    {
      "cell_type": "code",
      "metadata": {
        "colab": {
          "base_uri": "https://localhost:8080/"
        },
        "id": "zDhNj7C1ZuDc",
        "outputId": "79e49e8c-bfed-4bb7-99ff-e4da46f470c2"
      },
      "source": [
        "# Distributions of the categories of the various categorical features\n",
        "\n",
        "print('acqCountry: \\n', df['acqCountry'].value_counts())\n",
        "print('\\n')\n",
        "print('merchantCountryCode:\\n', df['merchantCountryCode'].value_counts())\n",
        "print('\\n')\n",
        "print('cardPresent:\\n', df['cardPresent'].value_counts())\n",
        "print('\\n')\n",
        "print('creditLimit:\\n', df['creditLimit'].unique())\n",
        "print('\\n')\n",
        "print('expirationDateKeyInMatch:\\n', df['expirationDateKeyInMatch'].value_counts())\n",
        "print('\\n')\n",
        "print('merchantCategoryCode:', df['merchantCategoryCode'].unique())\n",
        "print('\\n')\n",
        "print('transactionType:\\n', df['transactionType'].value_counts())\n",
        "print('\\n')\n",
        "print('posEntryMode:', df['posEntryMode'].unique())\n",
        "print('\\n')\n",
        "print('posConditionCode:', df['posConditionCode'].unique())\n",
        "print('\\n')\n",
        "print('isFraud:\\n', df['isFraud'].value_counts())\n"
      ],
      "execution_count": null,
      "outputs": [
        {
          "output_type": "stream",
          "text": [
            "acqCountry: \n",
            " US     774709\n",
            "         4562\n",
            "MEX      3130\n",
            "CAN      2424\n",
            "PR       1538\n",
            "Name: acqCountry, dtype: int64\n",
            "\n",
            "\n",
            "merchantCountryCode:\n",
            " US     778511\n",
            "MEX      3143\n",
            "CAN      2426\n",
            "PR       1559\n",
            "          724\n",
            "Name: merchantCountryCode, dtype: int64\n",
            "\n",
            "\n",
            "cardPresent:\n",
            " False    433495\n",
            "True     352868\n",
            "Name: cardPresent, dtype: int64\n",
            "\n",
            "\n",
            "creditLimit:\n",
            " [ 5000  2500 50000 15000 10000   250   500  1000  7500 20000]\n",
            "\n",
            "\n",
            "expirationDateKeyInMatch:\n",
            " False    785320\n",
            "True       1043\n",
            "Name: expirationDateKeyInMatch, dtype: int64\n",
            "\n",
            "\n",
            "merchantCategoryCode: ['rideshare' 'entertainment' 'mobileapps' 'fastfood' 'food_delivery'\n",
            " 'auto' 'online_retail' 'gym' 'health' 'personal care' 'food' 'fuel'\n",
            " 'online_subscriptions' 'online_gifts' 'hotels' 'airline' 'furniture'\n",
            " 'subscriptions' 'cable/phone']\n",
            "\n",
            "\n",
            "transactionType:\n",
            " PURCHASE                745193\n",
            "REVERSAL                 20303\n",
            "ADDRESS_VERIFICATION     20169\n",
            "                           698\n",
            "Name: transactionType, dtype: int64\n",
            "\n",
            "\n",
            "posEntryMode: ['02' '09' '05' '80' '90' '']\n",
            "\n",
            "\n",
            "posConditionCode: ['01' '08' '99' '']\n",
            "\n",
            "\n",
            "isFraud:\n",
            " False    773946\n",
            "True      12417\n",
            "Name: isFraud, dtype: int64\n"
          ],
          "name": "stdout"
        }
      ]
    },
    {
      "cell_type": "code",
      "metadata": {
        "id": "hzyONpGEZuDc"
      },
      "source": [
        "# Some of the features are not useful for our models, so it's a good idea to drop them completely\n",
        "\n",
        "df = df.drop(['echoBuffer', 'merchantCity', 'merchantState',\n",
        "                  'merchantZip', 'posOnPremises', 'recurringAuthInd','accountNumber','customerId','merchantName'], axis=1)"
      ],
      "execution_count": null,
      "outputs": []
    },
    {
      "cell_type": "markdown",
      "metadata": {
        "id": "LUilOY5KZuDd"
      },
      "source": [
        "# Exploratory Data Analysis"
      ]
    },
    {
      "cell_type": "code",
      "metadata": {
        "colab": {
          "base_uri": "https://localhost:8080/",
          "height": 375
        },
        "id": "PGbFAt0mZuDd",
        "outputId": "ea9bcdf2-7ed3-4c89-ad2f-55fce11baee7"
      },
      "source": [
        "# Correlation matrix is a good idea to figure out the correlation between the independent features and the dependent (target = isFraud) feature\n",
        "\n",
        "df.corr().drop('isFraud',axis=1)"
      ],
      "execution_count": null,
      "outputs": [
        {
          "output_type": "execute_result",
          "data": {
            "text/html": [
              "<div>\n",
              "<style scoped>\n",
              "    .dataframe tbody tr th:only-of-type {\n",
              "        vertical-align: middle;\n",
              "    }\n",
              "\n",
              "    .dataframe tbody tr th {\n",
              "        vertical-align: top;\n",
              "    }\n",
              "\n",
              "    .dataframe thead th {\n",
              "        text-align: right;\n",
              "    }\n",
              "</style>\n",
              "<table border=\"1\" class=\"dataframe\">\n",
              "  <thead>\n",
              "    <tr style=\"text-align: right;\">\n",
              "      <th></th>\n",
              "      <th>creditLimit</th>\n",
              "      <th>availableMoney</th>\n",
              "      <th>transactionAmount</th>\n",
              "      <th>cardCVV</th>\n",
              "      <th>enteredCVV</th>\n",
              "      <th>cardLast4Digits</th>\n",
              "      <th>currentBalance</th>\n",
              "      <th>cardPresent</th>\n",
              "      <th>expirationDateKeyInMatch</th>\n",
              "    </tr>\n",
              "  </thead>\n",
              "  <tbody>\n",
              "    <tr>\n",
              "      <th>creditLimit</th>\n",
              "      <td>1.000000</td>\n",
              "      <td>0.834977</td>\n",
              "      <td>0.005581</td>\n",
              "      <td>0.051006</td>\n",
              "      <td>0.051088</td>\n",
              "      <td>0.125611</td>\n",
              "      <td>0.653652</td>\n",
              "      <td>-0.003929</td>\n",
              "      <td>0.002391</td>\n",
              "    </tr>\n",
              "    <tr>\n",
              "      <th>availableMoney</th>\n",
              "      <td>0.834977</td>\n",
              "      <td>1.000000</td>\n",
              "      <td>-0.010070</td>\n",
              "      <td>0.016253</td>\n",
              "      <td>0.016323</td>\n",
              "      <td>0.073879</td>\n",
              "      <td>0.129332</td>\n",
              "      <td>0.002508</td>\n",
              "      <td>0.004067</td>\n",
              "    </tr>\n",
              "    <tr>\n",
              "      <th>transactionAmount</th>\n",
              "      <td>0.005581</td>\n",
              "      <td>-0.010070</td>\n",
              "      <td>1.000000</td>\n",
              "      <td>-0.000233</td>\n",
              "      <td>-0.000141</td>\n",
              "      <td>-0.001513</td>\n",
              "      <td>0.023905</td>\n",
              "      <td>0.037361</td>\n",
              "      <td>0.001751</td>\n",
              "    </tr>\n",
              "    <tr>\n",
              "      <th>cardCVV</th>\n",
              "      <td>0.051006</td>\n",
              "      <td>0.016253</td>\n",
              "      <td>-0.000233</td>\n",
              "      <td>1.000000</td>\n",
              "      <td>0.996008</td>\n",
              "      <td>-0.011608</td>\n",
              "      <td>0.069559</td>\n",
              "      <td>-0.045319</td>\n",
              "      <td>-0.000416</td>\n",
              "    </tr>\n",
              "    <tr>\n",
              "      <th>enteredCVV</th>\n",
              "      <td>0.051088</td>\n",
              "      <td>0.016323</td>\n",
              "      <td>-0.000141</td>\n",
              "      <td>0.996008</td>\n",
              "      <td>1.000000</td>\n",
              "      <td>-0.011485</td>\n",
              "      <td>0.069610</td>\n",
              "      <td>-0.045113</td>\n",
              "      <td>-0.000200</td>\n",
              "    </tr>\n",
              "    <tr>\n",
              "      <th>cardLast4Digits</th>\n",
              "      <td>0.125611</td>\n",
              "      <td>0.073879</td>\n",
              "      <td>-0.001513</td>\n",
              "      <td>-0.011608</td>\n",
              "      <td>-0.011485</td>\n",
              "      <td>1.000000</td>\n",
              "      <td>0.124745</td>\n",
              "      <td>0.040726</td>\n",
              "      <td>0.002087</td>\n",
              "    </tr>\n",
              "    <tr>\n",
              "      <th>currentBalance</th>\n",
              "      <td>0.653652</td>\n",
              "      <td>0.129332</td>\n",
              "      <td>0.023905</td>\n",
              "      <td>0.069559</td>\n",
              "      <td>0.069610</td>\n",
              "      <td>0.124745</td>\n",
              "      <td>1.000000</td>\n",
              "      <td>-0.010529</td>\n",
              "      <td>-0.001285</td>\n",
              "    </tr>\n",
              "    <tr>\n",
              "      <th>cardPresent</th>\n",
              "      <td>-0.003929</td>\n",
              "      <td>0.002508</td>\n",
              "      <td>0.037361</td>\n",
              "      <td>-0.045319</td>\n",
              "      <td>-0.045113</td>\n",
              "      <td>0.040726</td>\n",
              "      <td>-0.010529</td>\n",
              "      <td>1.000000</td>\n",
              "      <td>0.040393</td>\n",
              "    </tr>\n",
              "    <tr>\n",
              "      <th>expirationDateKeyInMatch</th>\n",
              "      <td>0.002391</td>\n",
              "      <td>0.004067</td>\n",
              "      <td>0.001751</td>\n",
              "      <td>-0.000416</td>\n",
              "      <td>-0.000200</td>\n",
              "      <td>0.002087</td>\n",
              "      <td>-0.001285</td>\n",
              "      <td>0.040393</td>\n",
              "      <td>1.000000</td>\n",
              "    </tr>\n",
              "    <tr>\n",
              "      <th>isFraud</th>\n",
              "      <td>0.003108</td>\n",
              "      <td>-0.001538</td>\n",
              "      <td>0.075651</td>\n",
              "      <td>0.008652</td>\n",
              "      <td>0.008655</td>\n",
              "      <td>0.000886</td>\n",
              "      <td>0.007715</td>\n",
              "      <td>-0.043418</td>\n",
              "      <td>-0.000972</td>\n",
              "    </tr>\n",
              "  </tbody>\n",
              "</table>\n",
              "</div>"
            ],
            "text/plain": [
              "                          creditLimit  ...  expirationDateKeyInMatch\n",
              "creditLimit                  1.000000  ...                  0.002391\n",
              "availableMoney               0.834977  ...                  0.004067\n",
              "transactionAmount            0.005581  ...                  0.001751\n",
              "cardCVV                      0.051006  ...                 -0.000416\n",
              "enteredCVV                   0.051088  ...                 -0.000200\n",
              "cardLast4Digits              0.125611  ...                  0.002087\n",
              "currentBalance               0.653652  ...                 -0.001285\n",
              "cardPresent                 -0.003929  ...                  0.040393\n",
              "expirationDateKeyInMatch     0.002391  ...                  1.000000\n",
              "isFraud                      0.003108  ...                 -0.000972\n",
              "\n",
              "[10 rows x 9 columns]"
            ]
          },
          "metadata": {
            "tags": []
          },
          "execution_count": 12
        }
      ]
    },
    {
      "cell_type": "code",
      "metadata": {
        "colab": {
          "base_uri": "https://localhost:8080/",
          "height": 627
        },
        "id": "L4cr4pL_ZuDd",
        "outputId": "9e43cf31-d844-49bd-d7eb-ebe582c06243"
      },
      "source": [
        "# Drawing a heatmap to visualize the correlation\n",
        "\n",
        "plt.figure(figsize=(12,8))\n",
        "sns.heatmap(df.corr(), cmap='coolwarm')"
      ],
      "execution_count": null,
      "outputs": [
        {
          "output_type": "execute_result",
          "data": {
            "text/plain": [
              "<matplotlib.axes._subplots.AxesSubplot at 0x7fb6629a5590>"
            ]
          },
          "metadata": {
            "tags": []
          },
          "execution_count": 13
        },
        {
          "output_type": "display_data",
          "data": {
            "image/png": "[encoded data removed]",
            "text/plain": [
              "<Figure size 864x576 with 2 Axes>"
            ]
          },
          "metadata": {
            "tags": [],
            "needs_background": "light"
          }
        }
      ]
    },
    {
      "cell_type": "code",
      "metadata": {
        "colab": {
          "base_uri": "https://localhost:8080/",
          "height": 352
        },
        "id": "rSf59tILZuDe",
        "outputId": "ce28312c-f341-4e90-c2e9-b07f08c62ba1"
      },
      "source": [
        "# Distribution of the target\n",
        "\n",
        "sns.countplot(df['isFraud'])"
      ],
      "execution_count": null,
      "outputs": [
        {
          "output_type": "stream",
          "text": [
            "/usr/local/lib/python3.7/dist-packages/seaborn/_decorators.py:43: FutureWarning: Pass the following variable as a keyword arg: x. From version 0.12, the only valid positional argument will be `data`, and passing other arguments without an explicit keyword will result in an error or misinterpretation.\n",
            "  FutureWarning\n"
          ],
          "name": "stderr"
        },
        {
          "output_type": "execute_result",
          "data": {
            "text/plain": [
              "<matplotlib.axes._subplots.AxesSubplot at 0x7fb662953a10>"
            ]
          },
          "metadata": {
            "tags": []
          },
          "execution_count": 14
        },
        {
          "output_type": "display_data",
          "data": {
            "image/png": "[encoded data removed]",
            "text/plain": [
              "<Figure size 432x288 with 1 Axes>"
            ]
          },
          "metadata": {
            "tags": [],
            "needs_background": "light"
          }
        }
      ]
    },
    {
      "cell_type": "markdown",
      "metadata": {
        "id": "zAz3DAuDJG-6"
      },
      "source": [
        "It looks like the dataset is heavily skewed (imbalanced classes) and some technique needs to be applied, such as oversampling, to balance the distribution before proceeding to modeling"
      ]
    },
    {
      "cell_type": "code",
      "metadata": {
        "colab": {
          "base_uri": "https://localhost:8080/",
          "height": 297
        },
        "id": "p193yhk7ZuDe",
        "outputId": "319210ee-0d01-464b-fa2e-22eae5838b07"
      },
      "source": [
        "# Transaction amount histogram\n",
        "\n",
        "transaction_amount = df['transactionAmount']\n",
        "trans_data = transaction_amount[transaction_amount <= 800]\n",
        "trans_data.hist(bins=10)\n",
        "plt.tight_layout()\n",
        "plt.show()"
      ],
      "execution_count": null,
      "outputs": [
        {
          "output_type": "display_data",
          "data": {
            "image/png": "[encoded data removed]",
            "text/plain": [
              "<Figure size 432x288 with 1 Axes>"
            ]
          },
          "metadata": {
            "tags": [],
            "needs_background": "light"
          }
        }
      ]
    },
    {
      "cell_type": "code",
      "metadata": {
        "colab": {
          "base_uri": "https://localhost:8080/",
          "height": 297
        },
        "id": "tEHpYKvlZuDe",
        "outputId": "8cf67de9-b650-4c71-8d19-b7569ca0af1a"
      },
      "source": [
        "# Credit history histogram\n",
        "\n",
        "credit_data = df['creditLimit']\n",
        "credit_data.hist(bins=100)\n",
        "plt.tight_layout()\n",
        "plt.show()"
      ],
      "execution_count": null,
      "outputs": [
        {
          "output_type": "display_data",
          "data": {
            "image/png": "[encoded data removed]",
            "text/plain": [
              "<Figure size 432x288 with 1 Axes>"
            ]
          },
          "metadata": {
            "tags": [],
            "needs_background": "light"
          }
        }
      ]
    },
    {
      "cell_type": "code",
      "metadata": {
        "colab": {
          "base_uri": "https://localhost:8080/",
          "height": 297
        },
        "id": "Fti1xbqEZuDf",
        "outputId": "b6d4ce9d-b347-4717-b495-3a9545c08642"
      },
      "source": [
        "# Merchant Category Code distribution using a pie chart\n",
        "\n",
        "merch = df.groupby('merchantCategoryCode').size()\n",
        "merch.plot(kind='pie')\n",
        "plt.tight_layout()\n",
        "plt.show()"
      ],
      "execution_count": null,
      "outputs": [
        {
          "output_type": "display_data",
          "data": {
            "image/png": "[encoded data removed]",
            "text/plain": [
              "<Figure size 432x288 with 1 Axes>"
            ]
          },
          "metadata": {
            "tags": []
          }
        }
      ]
    },
    {
      "cell_type": "code",
      "metadata": {
        "colab": {
          "base_uri": "https://localhost:8080/",
          "height": 297
        },
        "id": "ysqOFs8ZZuDf",
        "outputId": "1e09c8e0-5309-43b5-ac58-9d0cbd19c3aa"
      },
      "source": [
        "# Distribition\n",
        "\n",
        "from collections import Counter\n",
        "transaction_time = df['transactionDateTime']\n",
        "trans_counter = Counter()\n",
        "for i in transaction_time.values:\n",
        "    month = i.split('-')[1]\n",
        "    trans_counter[month] += 1\n",
        "trans = pd.DataFrame.from_dict(trans_counter, orient='index').reset_index()\n",
        "trans.plot(legend=False, xticks=None)\n",
        "plt.tight_layout()\n",
        "plt.show()"
      ],
      "execution_count": null,
      "outputs": [
        {
          "output_type": "display_data",
          "data": {
            "image/png": "[encoded data removed]",
            "text/plain": [
              "<Figure size 432x288 with 1 Axes>"
            ]
          },
          "metadata": {
            "tags": [],
            "needs_background": "light"
          }
        }
      ]
    },
    {
      "cell_type": "markdown",
      "metadata": {
        "id": "FcB999ODZuDf"
      },
      "source": [
        "\n",
        "\n",
        "\n",
        "\n",
        "# Next Step - Data Cleaning"
      ]
    },
    {
      "cell_type": "markdown",
      "metadata": {
        "id": "0XZA1-ikZuDf"
      },
      "source": [
        "## Some of the columns are objects which need to be converted to pandas datetime data type"
      ]
    },
    {
      "cell_type": "code",
      "metadata": {
        "id": "_rZ89FgUZuDf"
      },
      "source": [
        "df['transactionDateTime'] = pd.to_datetime(df['transactionDateTime'])\n",
        "df['currentExpDate'] = pd.to_datetime(df['currentExpDate'])\n",
        "df['accountOpenDate'] = pd.to_datetime(df['accountOpenDate'])\n",
        "df['dateOfLastAddressChange'] = pd.to_datetime(df['dateOfLastAddressChange'])"
      ],
      "execution_count": null,
      "outputs": []
    },
    {
      "cell_type": "code",
      "metadata": {
        "colab": {
          "base_uri": "https://localhost:8080/",
          "height": 222
        },
        "id": "fNCUXt2TZuDg",
        "outputId": "a066b0f2-939f-4dfb-87a1-1d28ba56f226"
      },
      "source": [
        "df.head()"
      ],
      "execution_count": null,
      "outputs": [
        {
          "output_type": "execute_result",
          "data": {
            "text/html": [
              "<div>\n",
              "<style scoped>\n",
              "    .dataframe tbody tr th:only-of-type {\n",
              "        vertical-align: middle;\n",
              "    }\n",
              "\n",
              "    .dataframe tbody tr th {\n",
              "        vertical-align: top;\n",
              "    }\n",
              "\n",
              "    .dataframe thead th {\n",
              "        text-align: right;\n",
              "    }\n",
              "</style>\n",
              "<table border=\"1\" class=\"dataframe\">\n",
              "  <thead>\n",
              "    <tr style=\"text-align: right;\">\n",
              "      <th></th>\n",
              "      <th>creditLimit</th>\n",
              "      <th>availableMoney</th>\n",
              "      <th>transactionDateTime</th>\n",
              "      <th>transactionAmount</th>\n",
              "      <th>acqCountry</th>\n",
              "      <th>merchantCountryCode</th>\n",
              "      <th>posEntryMode</th>\n",
              "      <th>posConditionCode</th>\n",
              "      <th>merchantCategoryCode</th>\n",
              "      <th>currentExpDate</th>\n",
              "      <th>accountOpenDate</th>\n",
              "      <th>dateOfLastAddressChange</th>\n",
              "      <th>cardCVV</th>\n",
              "      <th>enteredCVV</th>\n",
              "      <th>cardLast4Digits</th>\n",
              "      <th>transactionType</th>\n",
              "      <th>currentBalance</th>\n",
              "      <th>cardPresent</th>\n",
              "      <th>expirationDateKeyInMatch</th>\n",
              "      <th>isFraud</th>\n",
              "    </tr>\n",
              "  </thead>\n",
              "  <tbody>\n",
              "    <tr>\n",
              "      <th>0</th>\n",
              "      <td>5000</td>\n",
              "      <td>5000.0</td>\n",
              "      <td>2016-08-13 14:27:32</td>\n",
              "      <td>98.55</td>\n",
              "      <td>US</td>\n",
              "      <td>US</td>\n",
              "      <td>02</td>\n",
              "      <td>01</td>\n",
              "      <td>rideshare</td>\n",
              "      <td>2023-06-01</td>\n",
              "      <td>2015-03-14</td>\n",
              "      <td>2015-03-14</td>\n",
              "      <td>414</td>\n",
              "      <td>414</td>\n",
              "      <td>1803</td>\n",
              "      <td>PURCHASE</td>\n",
              "      <td>0.0</td>\n",
              "      <td>False</td>\n",
              "      <td>False</td>\n",
              "      <td>False</td>\n",
              "    </tr>\n",
              "    <tr>\n",
              "      <th>1</th>\n",
              "      <td>5000</td>\n",
              "      <td>5000.0</td>\n",
              "      <td>2016-10-11 05:05:54</td>\n",
              "      <td>74.51</td>\n",
              "      <td>US</td>\n",
              "      <td>US</td>\n",
              "      <td>09</td>\n",
              "      <td>01</td>\n",
              "      <td>entertainment</td>\n",
              "      <td>2024-02-01</td>\n",
              "      <td>2015-03-14</td>\n",
              "      <td>2015-03-14</td>\n",
              "      <td>486</td>\n",
              "      <td>486</td>\n",
              "      <td>767</td>\n",
              "      <td>PURCHASE</td>\n",
              "      <td>0.0</td>\n",
              "      <td>True</td>\n",
              "      <td>False</td>\n",
              "      <td>False</td>\n",
              "    </tr>\n",
              "    <tr>\n",
              "      <th>2</th>\n",
              "      <td>5000</td>\n",
              "      <td>5000.0</td>\n",
              "      <td>2016-11-08 09:18:39</td>\n",
              "      <td>7.47</td>\n",
              "      <td>US</td>\n",
              "      <td>US</td>\n",
              "      <td>09</td>\n",
              "      <td>01</td>\n",
              "      <td>mobileapps</td>\n",
              "      <td>2025-08-01</td>\n",
              "      <td>2015-03-14</td>\n",
              "      <td>2015-03-14</td>\n",
              "      <td>486</td>\n",
              "      <td>486</td>\n",
              "      <td>767</td>\n",
              "      <td>PURCHASE</td>\n",
              "      <td>0.0</td>\n",
              "      <td>False</td>\n",
              "      <td>False</td>\n",
              "      <td>False</td>\n",
              "    </tr>\n",
              "    <tr>\n",
              "      <th>3</th>\n",
              "      <td>5000</td>\n",
              "      <td>5000.0</td>\n",
              "      <td>2016-12-10 02:14:50</td>\n",
              "      <td>7.47</td>\n",
              "      <td>US</td>\n",
              "      <td>US</td>\n",
              "      <td>09</td>\n",
              "      <td>01</td>\n",
              "      <td>mobileapps</td>\n",
              "      <td>2025-08-01</td>\n",
              "      <td>2015-03-14</td>\n",
              "      <td>2015-03-14</td>\n",
              "      <td>486</td>\n",
              "      <td>486</td>\n",
              "      <td>767</td>\n",
              "      <td>PURCHASE</td>\n",
              "      <td>0.0</td>\n",
              "      <td>False</td>\n",
              "      <td>False</td>\n",
              "      <td>False</td>\n",
              "    </tr>\n",
              "    <tr>\n",
              "      <th>4</th>\n",
              "      <td>5000</td>\n",
              "      <td>5000.0</td>\n",
              "      <td>2016-03-24 21:04:46</td>\n",
              "      <td>71.18</td>\n",
              "      <td>US</td>\n",
              "      <td>US</td>\n",
              "      <td>02</td>\n",
              "      <td>01</td>\n",
              "      <td>fastfood</td>\n",
              "      <td>2029-10-01</td>\n",
              "      <td>2015-08-06</td>\n",
              "      <td>2015-08-06</td>\n",
              "      <td>885</td>\n",
              "      <td>885</td>\n",
              "      <td>3143</td>\n",
              "      <td>PURCHASE</td>\n",
              "      <td>0.0</td>\n",
              "      <td>True</td>\n",
              "      <td>False</td>\n",
              "      <td>False</td>\n",
              "    </tr>\n",
              "  </tbody>\n",
              "</table>\n",
              "</div>"
            ],
            "text/plain": [
              "   creditLimit  availableMoney  ... expirationDateKeyInMatch  isFraud\n",
              "0         5000          5000.0  ...                    False    False\n",
              "1         5000          5000.0  ...                    False    False\n",
              "2         5000          5000.0  ...                    False    False\n",
              "3         5000          5000.0  ...                    False    False\n",
              "4         5000          5000.0  ...                    False    False\n",
              "\n",
              "[5 rows x 20 columns]"
            ]
          },
          "metadata": {
            "tags": []
          },
          "execution_count": 20
        }
      ]
    },
    {
      "cell_type": "markdown",
      "metadata": {
        "id": "lFqE2C-dJ9ig"
      },
      "source": [
        "## Feature Engineering - hypothesis is that there may be a stronger relationship between the target and the columns in year, month format"
      ]
    },
    {
      "cell_type": "code",
      "metadata": {
        "id": "ttYAAbuMZuDg"
      },
      "source": [
        "df['transactionDateTime_year'] = pd.DatetimeIndex(df['transactionDateTime']).year\n",
        "df['transactionDateTime_month'] = pd.DatetimeIndex(df['transactionDateTime']).month\n",
        "\n",
        "df['currentExpDate_year'] = pd.DatetimeIndex(df['currentExpDate']).year\n",
        "df['currentExpDate_month'] = pd.DatetimeIndex(df['currentExpDate']).month\n",
        "\n",
        "df['accountOpenDate_year'] = pd.DatetimeIndex(df['accountOpenDate']).year\n",
        "df['accountOpenDate_month'] = pd.DatetimeIndex(df['accountOpenDate']).month\n",
        "\n",
        "df['dateOfLastAddressChange_year'] = pd.DatetimeIndex(df['dateOfLastAddressChange']).year\n",
        "df['dateOfLastAddressChange_month'] = pd.DatetimeIndex(df['dateOfLastAddressChange']).month"
      ],
      "execution_count": null,
      "outputs": []
    },
    {
      "cell_type": "code",
      "metadata": {
        "colab": {
          "base_uri": "https://localhost:8080/"
        },
        "id": "g-SqBhVYZuDg",
        "outputId": "a841dffc-8898-4a45-87a5-104ea73e8b3e"
      },
      "source": [
        "data_raw = df[['availableMoney', 'currentBalance', 'transactionAmount', 'creditLimit','transactionDateTime_year'\n",
        "              ,'transactionDateTime_month','currentExpDate_year','currentExpDate_month','accountOpenDate_year'\n",
        "              ,'accountOpenDate_month','dateOfLastAddressChange_year','dateOfLastAddressChange_month']]\n",
        "\n",
        "data_raw['cvvMatch'] = df['enteredCVV'] == df['cardCVV']"
      ],
      "execution_count": null,
      "outputs": [
        {
          "output_type": "stream",
          "text": [
            "/usr/local/lib/python3.7/dist-packages/ipykernel_launcher.py:5: SettingWithCopyWarning: \n",
            "A value is trying to be set on a copy of a slice from a DataFrame.\n",
            "Try using .loc[row_indexer,col_indexer] = value instead\n",
            "\n",
            "See the caveats in the documentation: https://pandas.pydata.org/pandas-docs/stable/user_guide/indexing.html#returning-a-view-versus-a-copy\n",
            "  \"\"\"\n"
          ],
          "name": "stderr"
        }
      ]
    },
    {
      "cell_type": "markdown",
      "metadata": {
        "id": "KpKDYwSuZuDh"
      },
      "source": [
        "## One Hot Encoding Categorical Data"
      ]
    },
    {
      "cell_type": "code",
      "metadata": {
        "colab": {
          "base_uri": "https://localhost:8080/"
        },
        "id": "imFY3y8rZuDh",
        "outputId": "029ff642-1740-4d81-8b1f-ece05c38d8a1"
      },
      "source": [
        "new_expirationDateKeyInMatch = pd.get_dummies(df['expirationDateKeyInMatch'], drop_first=True)\n",
        "new_cardPresent = pd.get_dummies(df['cardPresent'],drop_first=True)\n",
        "new_posConditionCode = pd.get_dummies(df['posConditionCode'],drop_first=True)\n",
        "new_posEntryMode = pd.get_dummies(df['posEntryMode'],drop_first=True)\n",
        "new_transactionType = pd.get_dummies(df['transactionType'],drop_first=True)\n",
        "new_merchantCategoryCode = pd.get_dummies(df['merchantCategoryCode'],drop_first=True)\n",
        "new_merchantCountryCode = pd.get_dummies(df['merchantCountryCode'],drop_first=True)\n",
        "is_fraud = df['isFraud'].apply(int)\n",
        "data_raw['cvvMatch'] = data_raw['cvvMatch'].apply(int)"
      ],
      "execution_count": null,
      "outputs": [
        {
          "output_type": "stream",
          "text": [
            "/usr/local/lib/python3.7/dist-packages/ipykernel_launcher.py:9: SettingWithCopyWarning: \n",
            "A value is trying to be set on a copy of a slice from a DataFrame.\n",
            "Try using .loc[row_indexer,col_indexer] = value instead\n",
            "\n",
            "See the caveats in the documentation: https://pandas.pydata.org/pandas-docs/stable/user_guide/indexing.html#returning-a-view-versus-a-copy\n",
            "  if __name__ == '__main__':\n"
          ],
          "name": "stderr"
        }
      ]
    },
    {
      "cell_type": "code",
      "metadata": {
        "id": "YykNRsSXZuDh"
      },
      "source": [
        "data_raw = pd.concat([data_raw, new_expirationDateKeyInMatch, new_cardPresent, new_posConditionCode,\n",
        "                          new_merchantCategoryCode,new_merchantCountryCode, new_posEntryMode, new_transactionType, is_fraud], axis=1)"
      ],
      "execution_count": null,
      "outputs": []
    },
    {
      "cell_type": "code",
      "metadata": {
        "colab": {
          "base_uri": "https://localhost:8080/",
          "height": 239
        },
        "id": "pe6Mz2ttZuDh",
        "outputId": "1f048e68-6ce2-44d2-de78-9f50d06589c3"
      },
      "source": [
        "data_raw.head()"
      ],
      "execution_count": null,
      "outputs": [
        {
          "output_type": "execute_result",
          "data": {
            "text/html": [
              "<div>\n",
              "<style scoped>\n",
              "    .dataframe tbody tr th:only-of-type {\n",
              "        vertical-align: middle;\n",
              "    }\n",
              "\n",
              "    .dataframe tbody tr th {\n",
              "        vertical-align: top;\n",
              "    }\n",
              "\n",
              "    .dataframe thead th {\n",
              "        text-align: right;\n",
              "    }\n",
              "</style>\n",
              "<table border=\"1\" class=\"dataframe\">\n",
              "  <thead>\n",
              "    <tr style=\"text-align: right;\">\n",
              "      <th></th>\n",
              "      <th>availableMoney</th>\n",
              "      <th>currentBalance</th>\n",
              "      <th>transactionAmount</th>\n",
              "      <th>creditLimit</th>\n",
              "      <th>transactionDateTime_year</th>\n",
              "      <th>transactionDateTime_month</th>\n",
              "      <th>currentExpDate_year</th>\n",
              "      <th>currentExpDate_month</th>\n",
              "      <th>accountOpenDate_year</th>\n",
              "      <th>accountOpenDate_month</th>\n",
              "      <th>dateOfLastAddressChange_year</th>\n",
              "      <th>dateOfLastAddressChange_month</th>\n",
              "      <th>cvvMatch</th>\n",
              "      <th>True</th>\n",
              "      <th>True</th>\n",
              "      <th>01</th>\n",
              "      <th>08</th>\n",
              "      <th>99</th>\n",
              "      <th>auto</th>\n",
              "      <th>cable/phone</th>\n",
              "      <th>entertainment</th>\n",
              "      <th>fastfood</th>\n",
              "      <th>food</th>\n",
              "      <th>food_delivery</th>\n",
              "      <th>fuel</th>\n",
              "      <th>furniture</th>\n",
              "      <th>gym</th>\n",
              "      <th>health</th>\n",
              "      <th>hotels</th>\n",
              "      <th>mobileapps</th>\n",
              "      <th>online_gifts</th>\n",
              "      <th>online_retail</th>\n",
              "      <th>online_subscriptions</th>\n",
              "      <th>personal care</th>\n",
              "      <th>rideshare</th>\n",
              "      <th>subscriptions</th>\n",
              "      <th>CAN</th>\n",
              "      <th>MEX</th>\n",
              "      <th>PR</th>\n",
              "      <th>US</th>\n",
              "      <th>02</th>\n",
              "      <th>05</th>\n",
              "      <th>09</th>\n",
              "      <th>80</th>\n",
              "      <th>90</th>\n",
              "      <th>ADDRESS_VERIFICATION</th>\n",
              "      <th>PURCHASE</th>\n",
              "      <th>REVERSAL</th>\n",
              "      <th>isFraud</th>\n",
              "    </tr>\n",
              "  </thead>\n",
              "  <tbody>\n",
              "    <tr>\n",
              "      <th>0</th>\n",
              "      <td>5000.0</td>\n",
              "      <td>0.0</td>\n",
              "      <td>98.55</td>\n",
              "      <td>5000</td>\n",
              "      <td>2016</td>\n",
              "      <td>8</td>\n",
              "      <td>2023</td>\n",
              "      <td>6</td>\n",
              "      <td>2015</td>\n",
              "      <td>3</td>\n",
              "      <td>2015</td>\n",
              "      <td>3</td>\n",
              "      <td>1</td>\n",
              "      <td>0</td>\n",
              "      <td>0</td>\n",
              "      <td>1</td>\n",
              "      <td>0</td>\n",
              "      <td>0</td>\n",
              "      <td>0</td>\n",
              "      <td>0</td>\n",
              "      <td>0</td>\n",
              "      <td>0</td>\n",
              "      <td>0</td>\n",
              "      <td>0</td>\n",
              "      <td>0</td>\n",
              "      <td>0</td>\n",
              "      <td>0</td>\n",
              "      <td>0</td>\n",
              "      <td>0</td>\n",
              "      <td>0</td>\n",
              "      <td>0</td>\n",
              "      <td>0</td>\n",
              "      <td>0</td>\n",
              "      <td>0</td>\n",
              "      <td>1</td>\n",
              "      <td>0</td>\n",
              "      <td>0</td>\n",
              "      <td>0</td>\n",
              "      <td>0</td>\n",
              "      <td>1</td>\n",
              "      <td>1</td>\n",
              "      <td>0</td>\n",
              "      <td>0</td>\n",
              "      <td>0</td>\n",
              "      <td>0</td>\n",
              "      <td>0</td>\n",
              "      <td>1</td>\n",
              "      <td>0</td>\n",
              "      <td>0</td>\n",
              "    </tr>\n",
              "    <tr>\n",
              "      <th>1</th>\n",
              "      <td>5000.0</td>\n",
              "      <td>0.0</td>\n",
              "      <td>74.51</td>\n",
              "      <td>5000</td>\n",
              "      <td>2016</td>\n",
              "      <td>10</td>\n",
              "      <td>2024</td>\n",
              "      <td>2</td>\n",
              "      <td>2015</td>\n",
              "      <td>3</td>\n",
              "      <td>2015</td>\n",
              "      <td>3</td>\n",
              "      <td>1</td>\n",
              "      <td>0</td>\n",
              "      <td>1</td>\n",
              "      <td>1</td>\n",
              "      <td>0</td>\n",
              "      <td>0</td>\n",
              "      <td>0</td>\n",
              "      <td>0</td>\n",
              "      <td>1</td>\n",
              "      <td>0</td>\n",
              "      <td>0</td>\n",
              "      <td>0</td>\n",
              "      <td>0</td>\n",
              "      <td>0</td>\n",
              "      <td>0</td>\n",
              "      <td>0</td>\n",
              "      <td>0</td>\n",
              "      <td>0</td>\n",
              "      <td>0</td>\n",
              "      <td>0</td>\n",
              "      <td>0</td>\n",
              "      <td>0</td>\n",
              "      <td>0</td>\n",
              "      <td>0</td>\n",
              "      <td>0</td>\n",
              "      <td>0</td>\n",
              "      <td>0</td>\n",
              "      <td>1</td>\n",
              "      <td>0</td>\n",
              "      <td>0</td>\n",
              "      <td>1</td>\n",
              "      <td>0</td>\n",
              "      <td>0</td>\n",
              "      <td>0</td>\n",
              "      <td>1</td>\n",
              "      <td>0</td>\n",
              "      <td>0</td>\n",
              "    </tr>\n",
              "    <tr>\n",
              "      <th>2</th>\n",
              "      <td>5000.0</td>\n",
              "      <td>0.0</td>\n",
              "      <td>7.47</td>\n",
              "      <td>5000</td>\n",
              "      <td>2016</td>\n",
              "      <td>11</td>\n",
              "      <td>2025</td>\n",
              "      <td>8</td>\n",
              "      <td>2015</td>\n",
              "      <td>3</td>\n",
              "      <td>2015</td>\n",
              "      <td>3</td>\n",
              "      <td>1</td>\n",
              "      <td>0</td>\n",
              "      <td>0</td>\n",
              "      <td>1</td>\n",
              "      <td>0</td>\n",
              "      <td>0</td>\n",
              "      <td>0</td>\n",
              "      <td>0</td>\n",
              "      <td>0</td>\n",
              "      <td>0</td>\n",
              "      <td>0</td>\n",
              "      <td>0</td>\n",
              "      <td>0</td>\n",
              "      <td>0</td>\n",
              "      <td>0</td>\n",
              "      <td>0</td>\n",
              "      <td>0</td>\n",
              "      <td>1</td>\n",
              "      <td>0</td>\n",
              "      <td>0</td>\n",
              "      <td>0</td>\n",
              "      <td>0</td>\n",
              "      <td>0</td>\n",
              "      <td>0</td>\n",
              "      <td>0</td>\n",
              "      <td>0</td>\n",
              "      <td>0</td>\n",
              "      <td>1</td>\n",
              "      <td>0</td>\n",
              "      <td>0</td>\n",
              "      <td>1</td>\n",
              "      <td>0</td>\n",
              "      <td>0</td>\n",
              "      <td>0</td>\n",
              "      <td>1</td>\n",
              "      <td>0</td>\n",
              "      <td>0</td>\n",
              "    </tr>\n",
              "    <tr>\n",
              "      <th>3</th>\n",
              "      <td>5000.0</td>\n",
              "      <td>0.0</td>\n",
              "      <td>7.47</td>\n",
              "      <td>5000</td>\n",
              "      <td>2016</td>\n",
              "      <td>12</td>\n",
              "      <td>2025</td>\n",
              "      <td>8</td>\n",
              "      <td>2015</td>\n",
              "      <td>3</td>\n",
              "      <td>2015</td>\n",
              "      <td>3</td>\n",
              "      <td>1</td>\n",
              "      <td>0</td>\n",
              "      <td>0</td>\n",
              "      <td>1</td>\n",
              "      <td>0</td>\n",
              "      <td>0</td>\n",
              "      <td>0</td>\n",
              "      <td>0</td>\n",
              "      <td>0</td>\n",
              "      <td>0</td>\n",
              "      <td>0</td>\n",
              "      <td>0</td>\n",
              "      <td>0</td>\n",
              "      <td>0</td>\n",
              "      <td>0</td>\n",
              "      <td>0</td>\n",
              "      <td>0</td>\n",
              "      <td>1</td>\n",
              "      <td>0</td>\n",
              "      <td>0</td>\n",
              "      <td>0</td>\n",
              "      <td>0</td>\n",
              "      <td>0</td>\n",
              "      <td>0</td>\n",
              "      <td>0</td>\n",
              "      <td>0</td>\n",
              "      <td>0</td>\n",
              "      <td>1</td>\n",
              "      <td>0</td>\n",
              "      <td>0</td>\n",
              "      <td>1</td>\n",
              "      <td>0</td>\n",
              "      <td>0</td>\n",
              "      <td>0</td>\n",
              "      <td>1</td>\n",
              "      <td>0</td>\n",
              "      <td>0</td>\n",
              "    </tr>\n",
              "    <tr>\n",
              "      <th>4</th>\n",
              "      <td>5000.0</td>\n",
              "      <td>0.0</td>\n",
              "      <td>71.18</td>\n",
              "      <td>5000</td>\n",
              "      <td>2016</td>\n",
              "      <td>3</td>\n",
              "      <td>2029</td>\n",
              "      <td>10</td>\n",
              "      <td>2015</td>\n",
              "      <td>8</td>\n",
              "      <td>2015</td>\n",
              "      <td>8</td>\n",
              "      <td>1</td>\n",
              "      <td>0</td>\n",
              "      <td>1</td>\n",
              "      <td>1</td>\n",
              "      <td>0</td>\n",
              "      <td>0</td>\n",
              "      <td>0</td>\n",
              "      <td>0</td>\n",
              "      <td>0</td>\n",
              "      <td>1</td>\n",
              "      <td>0</td>\n",
              "      <td>0</td>\n",
              "      <td>0</td>\n",
              "      <td>0</td>\n",
              "      <td>0</td>\n",
              "      <td>0</td>\n",
              "      <td>0</td>\n",
              "      <td>0</td>\n",
              "      <td>0</td>\n",
              "      <td>0</td>\n",
              "      <td>0</td>\n",
              "      <td>0</td>\n",
              "      <td>0</td>\n",
              "      <td>0</td>\n",
              "      <td>0</td>\n",
              "      <td>0</td>\n",
              "      <td>0</td>\n",
              "      <td>1</td>\n",
              "      <td>1</td>\n",
              "      <td>0</td>\n",
              "      <td>0</td>\n",
              "      <td>0</td>\n",
              "      <td>0</td>\n",
              "      <td>0</td>\n",
              "      <td>1</td>\n",
              "      <td>0</td>\n",
              "      <td>0</td>\n",
              "    </tr>\n",
              "  </tbody>\n",
              "</table>\n",
              "</div>"
            ],
            "text/plain": [
              "   availableMoney  currentBalance  ...  REVERSAL  isFraud\n",
              "0          5000.0             0.0  ...         0        0\n",
              "1          5000.0             0.0  ...         0        0\n",
              "2          5000.0             0.0  ...         0        0\n",
              "3          5000.0             0.0  ...         0        0\n",
              "4          5000.0             0.0  ...         0        0\n",
              "\n",
              "[5 rows x 49 columns]"
            ]
          },
          "metadata": {
            "tags": []
          },
          "execution_count": 25
        }
      ]
    },
    {
      "cell_type": "code",
      "metadata": {
        "colab": {
          "base_uri": "https://localhost:8080/"
        },
        "id": "ZfV8GdPpZuDi",
        "outputId": "f52744e5-d0b3-49fa-fad0-c2a8e57fc1dc"
      },
      "source": [
        "data_raw.info()"
      ],
      "execution_count": null,
      "outputs": [
        {
          "output_type": "stream",
          "text": [
            "<class 'pandas.core.frame.DataFrame'>\n",
            "RangeIndex: 786363 entries, 0 to 786362\n",
            "Data columns (total 49 columns):\n",
            " #   Column                         Non-Null Count   Dtype  \n",
            "---  ------                         --------------   -----  \n",
            " 0   availableMoney                 786363 non-null  float64\n",
            " 1   currentBalance                 786363 non-null  float64\n",
            " 2   transactionAmount              786363 non-null  float64\n",
            " 3   creditLimit                    786363 non-null  int64  \n",
            " 4   transactionDateTime_year       786363 non-null  int64  \n",
            " 5   transactionDateTime_month      786363 non-null  int64  \n",
            " 6   currentExpDate_year            786363 non-null  int64  \n",
            " 7   currentExpDate_month           786363 non-null  int64  \n",
            " 8   accountOpenDate_year           786363 non-null  int64  \n",
            " 9   accountOpenDate_month          786363 non-null  int64  \n",
            " 10  dateOfLastAddressChange_year   786363 non-null  int64  \n",
            " 11  dateOfLastAddressChange_month  786363 non-null  int64  \n",
            " 12  cvvMatch                       786363 non-null  int64  \n",
            " 13  True                           786363 non-null  uint8  \n",
            " 14  True                           786363 non-null  uint8  \n",
            " 15  01                             786363 non-null  uint8  \n",
            " 16  08                             786363 non-null  uint8  \n",
            " 17  99                             786363 non-null  uint8  \n",
            " 18  auto                           786363 non-null  uint8  \n",
            " 19  cable/phone                    786363 non-null  uint8  \n",
            " 20  entertainment                  786363 non-null  uint8  \n",
            " 21  fastfood                       786363 non-null  uint8  \n",
            " 22  food                           786363 non-null  uint8  \n",
            " 23  food_delivery                  786363 non-null  uint8  \n",
            " 24  fuel                           786363 non-null  uint8  \n",
            " 25  furniture                      786363 non-null  uint8  \n",
            " 26  gym                            786363 non-null  uint8  \n",
            " 27  health                         786363 non-null  uint8  \n",
            " 28  hotels                         786363 non-null  uint8  \n",
            " 29  mobileapps                     786363 non-null  uint8  \n",
            " 30  online_gifts                   786363 non-null  uint8  \n",
            " 31  online_retail                  786363 non-null  uint8  \n",
            " 32  online_subscriptions           786363 non-null  uint8  \n",
            " 33  personal care                  786363 non-null  uint8  \n",
            " 34  rideshare                      786363 non-null  uint8  \n",
            " 35  subscriptions                  786363 non-null  uint8  \n",
            " 36  CAN                            786363 non-null  uint8  \n",
            " 37  MEX                            786363 non-null  uint8  \n",
            " 38  PR                             786363 non-null  uint8  \n",
            " 39  US                             786363 non-null  uint8  \n",
            " 40  02                             786363 non-null  uint8  \n",
            " 41  05                             786363 non-null  uint8  \n",
            " 42  09                             786363 non-null  uint8  \n",
            " 43  80                             786363 non-null  uint8  \n",
            " 44  90                             786363 non-null  uint8  \n",
            " 45  ADDRESS_VERIFICATION           786363 non-null  uint8  \n",
            " 46  PURCHASE                       786363 non-null  uint8  \n",
            " 47  REVERSAL                       786363 non-null  uint8  \n",
            " 48  isFraud                        786363 non-null  int64  \n",
            "dtypes: float64(3), int64(11), uint8(35)\n",
            "memory usage: 110.2 MB\n"
          ],
          "name": "stdout"
        }
      ]
    },
    {
      "cell_type": "markdown",
      "metadata": {
        "id": "oLD0G95GZuDi"
      },
      "source": [
        "# Train Val Test Split"
      ]
    },
    {
      "cell_type": "markdown",
      "metadata": {
        "id": "RI2zhQRPK6L6"
      },
      "source": [
        "The dataset is split into training, validation and testing (75:15:10 ratio)\n",
        "\n",
        "The training subset is used for training Machine Learning models\n",
        "The validation subset is used for hyperparameter tuning the ML models\n",
        "\n",
        "The testing subset is evaluated on in the very end to ensure that no bias has been added to the models while tuning using the validation subset (since the tuning we may do for increasing performance would work well on validation subset but may end up decreasing generalization)"
      ]
    },
    {
      "cell_type": "code",
      "metadata": {
        "id": "o4NK9DsDKv_E"
      },
      "source": [
        "X = data_raw.drop('isFraud', axis=1)\n",
        "y = data_raw['isFraud']"
      ],
      "execution_count": null,
      "outputs": []
    },
    {
      "cell_type": "code",
      "metadata": {
        "id": "LI0gSZXziTBP"
      },
      "source": [
        "from sklearn.model_selection import train_test_split\n",
        "import time"
      ],
      "execution_count": null,
      "outputs": []
    },
    {
      "cell_type": "code",
      "metadata": {
        "id": "yx9uuOjmK0sW"
      },
      "source": [
        "train_ratio = 0.75\n",
        "validation_ratio = 0.15\n",
        "test_ratio = 0.10\n",
        "\n",
        "# train is now 75% of the entire data set\n",
        "X_train, X_test, y_train, y_test = train_test_split(X, y, test_size = 1 - train_ratio)\n",
        "\n",
        "# test is now 10% of the initial data set\n",
        "# validation is now 15% of the initial data set\n",
        "X_val, X_test, y_val, y_test = train_test_split(X_test, y_test, test_size=test_ratio/(test_ratio + validation_ratio))"
      ],
      "execution_count": null,
      "outputs": []
    },
    {
      "cell_type": "code",
      "metadata": {
        "colab": {
          "base_uri": "https://localhost:8080/",
          "height": 239
        },
        "id": "EPgWukmCK1t_",
        "outputId": "5d7263b8-43e6-42b6-91f8-c9edcfd82ff5"
      },
      "source": [
        "new_df = pd.concat([X_train, y_train],\n",
        "                   axis=1)\n",
        "new_df.head()"
      ],
      "execution_count": null,
      "outputs": [
        {
          "output_type": "execute_result",
          "data": {
            "text/html": [
              "<div>\n",
              "<style scoped>\n",
              "    .dataframe tbody tr th:only-of-type {\n",
              "        vertical-align: middle;\n",
              "    }\n",
              "\n",
              "    .dataframe tbody tr th {\n",
              "        vertical-align: top;\n",
              "    }\n",
              "\n",
              "    .dataframe thead th {\n",
              "        text-align: right;\n",
              "    }\n",
              "</style>\n",
              "<table border=\"1\" class=\"dataframe\">\n",
              "  <thead>\n",
              "    <tr style=\"text-align: right;\">\n",
              "      <th></th>\n",
              "      <th>availableMoney</th>\n",
              "      <th>currentBalance</th>\n",
              "      <th>transactionAmount</th>\n",
              "      <th>creditLimit</th>\n",
              "      <th>transactionDateTime_year</th>\n",
              "      <th>transactionDateTime_month</th>\n",
              "      <th>currentExpDate_year</th>\n",
              "      <th>currentExpDate_month</th>\n",
              "      <th>accountOpenDate_year</th>\n",
              "      <th>accountOpenDate_month</th>\n",
              "      <th>dateOfLastAddressChange_year</th>\n",
              "      <th>dateOfLastAddressChange_month</th>\n",
              "      <th>cvvMatch</th>\n",
              "      <th>True</th>\n",
              "      <th>True</th>\n",
              "      <th>01</th>\n",
              "      <th>08</th>\n",
              "      <th>99</th>\n",
              "      <th>auto</th>\n",
              "      <th>cable/phone</th>\n",
              "      <th>entertainment</th>\n",
              "      <th>fastfood</th>\n",
              "      <th>food</th>\n",
              "      <th>food_delivery</th>\n",
              "      <th>fuel</th>\n",
              "      <th>furniture</th>\n",
              "      <th>gym</th>\n",
              "      <th>health</th>\n",
              "      <th>hotels</th>\n",
              "      <th>mobileapps</th>\n",
              "      <th>online_gifts</th>\n",
              "      <th>online_retail</th>\n",
              "      <th>online_subscriptions</th>\n",
              "      <th>personal care</th>\n",
              "      <th>rideshare</th>\n",
              "      <th>subscriptions</th>\n",
              "      <th>CAN</th>\n",
              "      <th>MEX</th>\n",
              "      <th>PR</th>\n",
              "      <th>US</th>\n",
              "      <th>02</th>\n",
              "      <th>05</th>\n",
              "      <th>09</th>\n",
              "      <th>80</th>\n",
              "      <th>90</th>\n",
              "      <th>ADDRESS_VERIFICATION</th>\n",
              "      <th>PURCHASE</th>\n",
              "      <th>REVERSAL</th>\n",
              "      <th>isFraud</th>\n",
              "    </tr>\n",
              "  </thead>\n",
              "  <tbody>\n",
              "    <tr>\n",
              "      <th>422064</th>\n",
              "      <td>990.58</td>\n",
              "      <td>1509.42</td>\n",
              "      <td>436.92</td>\n",
              "      <td>2500</td>\n",
              "      <td>2016</td>\n",
              "      <td>3</td>\n",
              "      <td>2022</td>\n",
              "      <td>2</td>\n",
              "      <td>2010</td>\n",
              "      <td>3</td>\n",
              "      <td>2016</td>\n",
              "      <td>1</td>\n",
              "      <td>1</td>\n",
              "      <td>0</td>\n",
              "      <td>1</td>\n",
              "      <td>0</td>\n",
              "      <td>1</td>\n",
              "      <td>0</td>\n",
              "      <td>0</td>\n",
              "      <td>0</td>\n",
              "      <td>0</td>\n",
              "      <td>1</td>\n",
              "      <td>0</td>\n",
              "      <td>0</td>\n",
              "      <td>0</td>\n",
              "      <td>0</td>\n",
              "      <td>0</td>\n",
              "      <td>0</td>\n",
              "      <td>0</td>\n",
              "      <td>0</td>\n",
              "      <td>0</td>\n",
              "      <td>0</td>\n",
              "      <td>0</td>\n",
              "      <td>0</td>\n",
              "      <td>0</td>\n",
              "      <td>0</td>\n",
              "      <td>0</td>\n",
              "      <td>0</td>\n",
              "      <td>0</td>\n",
              "      <td>1</td>\n",
              "      <td>0</td>\n",
              "      <td>1</td>\n",
              "      <td>0</td>\n",
              "      <td>0</td>\n",
              "      <td>0</td>\n",
              "      <td>0</td>\n",
              "      <td>1</td>\n",
              "      <td>0</td>\n",
              "      <td>0</td>\n",
              "    </tr>\n",
              "    <tr>\n",
              "      <th>209949</th>\n",
              "      <td>40731.26</td>\n",
              "      <td>9268.74</td>\n",
              "      <td>42.67</td>\n",
              "      <td>50000</td>\n",
              "      <td>2016</td>\n",
              "      <td>6</td>\n",
              "      <td>2024</td>\n",
              "      <td>7</td>\n",
              "      <td>2014</td>\n",
              "      <td>11</td>\n",
              "      <td>2014</td>\n",
              "      <td>11</td>\n",
              "      <td>1</td>\n",
              "      <td>0</td>\n",
              "      <td>1</td>\n",
              "      <td>1</td>\n",
              "      <td>0</td>\n",
              "      <td>0</td>\n",
              "      <td>1</td>\n",
              "      <td>0</td>\n",
              "      <td>0</td>\n",
              "      <td>0</td>\n",
              "      <td>0</td>\n",
              "      <td>0</td>\n",
              "      <td>0</td>\n",
              "      <td>0</td>\n",
              "      <td>0</td>\n",
              "      <td>0</td>\n",
              "      <td>0</td>\n",
              "      <td>0</td>\n",
              "      <td>0</td>\n",
              "      <td>0</td>\n",
              "      <td>0</td>\n",
              "      <td>0</td>\n",
              "      <td>0</td>\n",
              "      <td>0</td>\n",
              "      <td>0</td>\n",
              "      <td>0</td>\n",
              "      <td>0</td>\n",
              "      <td>1</td>\n",
              "      <td>0</td>\n",
              "      <td>1</td>\n",
              "      <td>0</td>\n",
              "      <td>0</td>\n",
              "      <td>0</td>\n",
              "      <td>0</td>\n",
              "      <td>1</td>\n",
              "      <td>0</td>\n",
              "      <td>0</td>\n",
              "    </tr>\n",
              "    <tr>\n",
              "      <th>277440</th>\n",
              "      <td>14477.83</td>\n",
              "      <td>5522.17</td>\n",
              "      <td>101.64</td>\n",
              "      <td>20000</td>\n",
              "      <td>2016</td>\n",
              "      <td>2</td>\n",
              "      <td>2025</td>\n",
              "      <td>4</td>\n",
              "      <td>2011</td>\n",
              "      <td>12</td>\n",
              "      <td>2011</td>\n",
              "      <td>12</td>\n",
              "      <td>1</td>\n",
              "      <td>0</td>\n",
              "      <td>0</td>\n",
              "      <td>1</td>\n",
              "      <td>0</td>\n",
              "      <td>0</td>\n",
              "      <td>0</td>\n",
              "      <td>0</td>\n",
              "      <td>0</td>\n",
              "      <td>0</td>\n",
              "      <td>0</td>\n",
              "      <td>0</td>\n",
              "      <td>0</td>\n",
              "      <td>0</td>\n",
              "      <td>0</td>\n",
              "      <td>0</td>\n",
              "      <td>0</td>\n",
              "      <td>0</td>\n",
              "      <td>0</td>\n",
              "      <td>1</td>\n",
              "      <td>0</td>\n",
              "      <td>0</td>\n",
              "      <td>0</td>\n",
              "      <td>0</td>\n",
              "      <td>0</td>\n",
              "      <td>0</td>\n",
              "      <td>0</td>\n",
              "      <td>1</td>\n",
              "      <td>0</td>\n",
              "      <td>0</td>\n",
              "      <td>1</td>\n",
              "      <td>0</td>\n",
              "      <td>0</td>\n",
              "      <td>0</td>\n",
              "      <td>1</td>\n",
              "      <td>0</td>\n",
              "      <td>0</td>\n",
              "    </tr>\n",
              "    <tr>\n",
              "      <th>691313</th>\n",
              "      <td>55.88</td>\n",
              "      <td>194.12</td>\n",
              "      <td>274.87</td>\n",
              "      <td>250</td>\n",
              "      <td>2016</td>\n",
              "      <td>3</td>\n",
              "      <td>2021</td>\n",
              "      <td>1</td>\n",
              "      <td>2015</td>\n",
              "      <td>6</td>\n",
              "      <td>2016</td>\n",
              "      <td>1</td>\n",
              "      <td>1</td>\n",
              "      <td>0</td>\n",
              "      <td>1</td>\n",
              "      <td>1</td>\n",
              "      <td>0</td>\n",
              "      <td>0</td>\n",
              "      <td>0</td>\n",
              "      <td>0</td>\n",
              "      <td>1</td>\n",
              "      <td>0</td>\n",
              "      <td>0</td>\n",
              "      <td>0</td>\n",
              "      <td>0</td>\n",
              "      <td>0</td>\n",
              "      <td>0</td>\n",
              "      <td>0</td>\n",
              "      <td>0</td>\n",
              "      <td>0</td>\n",
              "      <td>0</td>\n",
              "      <td>0</td>\n",
              "      <td>0</td>\n",
              "      <td>0</td>\n",
              "      <td>0</td>\n",
              "      <td>0</td>\n",
              "      <td>0</td>\n",
              "      <td>0</td>\n",
              "      <td>0</td>\n",
              "      <td>1</td>\n",
              "      <td>1</td>\n",
              "      <td>0</td>\n",
              "      <td>0</td>\n",
              "      <td>0</td>\n",
              "      <td>0</td>\n",
              "      <td>0</td>\n",
              "      <td>1</td>\n",
              "      <td>0</td>\n",
              "      <td>0</td>\n",
              "    </tr>\n",
              "    <tr>\n",
              "      <th>288038</th>\n",
              "      <td>2046.31</td>\n",
              "      <td>2953.69</td>\n",
              "      <td>73.47</td>\n",
              "      <td>5000</td>\n",
              "      <td>2016</td>\n",
              "      <td>6</td>\n",
              "      <td>2022</td>\n",
              "      <td>8</td>\n",
              "      <td>2015</td>\n",
              "      <td>11</td>\n",
              "      <td>2016</td>\n",
              "      <td>5</td>\n",
              "      <td>1</td>\n",
              "      <td>0</td>\n",
              "      <td>1</td>\n",
              "      <td>1</td>\n",
              "      <td>0</td>\n",
              "      <td>0</td>\n",
              "      <td>0</td>\n",
              "      <td>0</td>\n",
              "      <td>0</td>\n",
              "      <td>0</td>\n",
              "      <td>1</td>\n",
              "      <td>0</td>\n",
              "      <td>0</td>\n",
              "      <td>0</td>\n",
              "      <td>0</td>\n",
              "      <td>0</td>\n",
              "      <td>0</td>\n",
              "      <td>0</td>\n",
              "      <td>0</td>\n",
              "      <td>0</td>\n",
              "      <td>0</td>\n",
              "      <td>0</td>\n",
              "      <td>0</td>\n",
              "      <td>0</td>\n",
              "      <td>0</td>\n",
              "      <td>0</td>\n",
              "      <td>0</td>\n",
              "      <td>1</td>\n",
              "      <td>1</td>\n",
              "      <td>0</td>\n",
              "      <td>0</td>\n",
              "      <td>0</td>\n",
              "      <td>0</td>\n",
              "      <td>0</td>\n",
              "      <td>1</td>\n",
              "      <td>0</td>\n",
              "      <td>0</td>\n",
              "    </tr>\n",
              "  </tbody>\n",
              "</table>\n",
              "</div>"
            ],
            "text/plain": [
              "        availableMoney  currentBalance  ...  REVERSAL  isFraud\n",
              "422064          990.58         1509.42  ...         0        0\n",
              "209949        40731.26         9268.74  ...         0        0\n",
              "277440        14477.83         5522.17  ...         0        0\n",
              "691313           55.88          194.12  ...         0        0\n",
              "288038         2046.31         2953.69  ...         0        0\n",
              "\n",
              "[5 rows x 49 columns]"
            ]
          },
          "metadata": {
            "tags": []
          },
          "execution_count": 30
        }
      ]
    },
    {
      "cell_type": "markdown",
      "metadata": {
        "id": "IlfjRrCePDAa"
      },
      "source": [
        "##Due to class imbalance, we use oversampling of the minority class (isFraud = True)\n",
        "\n",
        "\n"
      ]
    },
    {
      "cell_type": "code",
      "metadata": {
        "id": "nlNmiqgAh8Dx",
        "colab": {
          "base_uri": "https://localhost:8080/",
          "height": 352
        },
        "outputId": "b966b20e-a28a-467f-d733-053cd4865131"
      },
      "source": [
        "max_size = new_df['isFraud'].value_counts().max()\n",
        "\n",
        "lst = [new_df]\n",
        "for class_index, group in new_df.groupby('isFraud'):\n",
        "    lst.append(group.sample(max_size-len(group), replace=True))\n",
        "frame_new = pd.concat(lst)\n",
        "sns.countplot(frame_new['isFraud'])"
      ],
      "execution_count": null,
      "outputs": [
        {
          "output_type": "stream",
          "text": [
            "/usr/local/lib/python3.7/dist-packages/seaborn/_decorators.py:43: FutureWarning: Pass the following variable as a keyword arg: x. From version 0.12, the only valid positional argument will be `data`, and passing other arguments without an explicit keyword will result in an error or misinterpretation.\n",
            "  FutureWarning\n"
          ],
          "name": "stderr"
        },
        {
          "output_type": "execute_result",
          "data": {
            "text/plain": [
              "<matplotlib.axes._subplots.AxesSubplot at 0x7fb6628ab9d0>"
            ]
          },
          "metadata": {
            "tags": []
          },
          "execution_count": 31
        },
        {
          "output_type": "display_data",
          "data": {
            "image/png": "[encoded data removed]",
            "text/plain": [
              "<Figure size 432x288 with 1 Axes>"
            ]
          },
          "metadata": {
            "tags": [],
            "needs_background": "light"
          }
        }
      ]
    },
    {
      "cell_type": "code",
      "metadata": {
        "id": "nXt0jonRM4fg"
      },
      "source": [
        "X_train = frame_new.drop('isFraud', axis=1)\n",
        "y_train = frame_new['isFraud']"
      ],
      "execution_count": null,
      "outputs": []
    },
    {
      "cell_type": "markdown",
      "metadata": {
        "id": "nQipMopAZuDj"
      },
      "source": [
        "# Logistic Regression"
      ]
    },
    {
      "cell_type": "code",
      "metadata": {
        "id": "wLmAogcPZuDj"
      },
      "source": [
        "from sklearn.linear_model import LogisticRegression\n",
        "from sklearn.svm import SVC\n",
        "from sklearn.tree import DecisionTreeClassifier\n",
        "from sklearn.ensemble import RandomForestClassifier\n",
        "from sklearn.neighbors import KNeighborsClassifier\n",
        "from sklearn.metrics import accuracy_score, confusion_matrix, classification_report"
      ],
      "execution_count": null,
      "outputs": []
    },
    {
      "cell_type": "code",
      "metadata": {
        "colab": {
          "base_uri": "https://localhost:8080/"
        },
        "id": "oiC8JQxkZuDj",
        "outputId": "1cde8552-5006-4409-d0dd-dcbb1adb41e4"
      },
      "source": [
        "log = LogisticRegression()\n",
        "log.fit(X_train, y_train)\n",
        "y_pred = log.predict(X_val)\n",
        "acc_logreg = accuracy_score(y_val,y_pred)\n",
        "print(\"Accuracy\", acc_logreg)"
      ],
      "execution_count": null,
      "outputs": [
        {
          "output_type": "stream",
          "text": [
            "Accuracy 0.6794682672906387\n"
          ],
          "name": "stdout"
        },
        {
          "output_type": "stream",
          "text": [
            "/usr/local/lib/python3.7/dist-packages/sklearn/linear_model/_logistic.py:940: ConvergenceWarning: lbfgs failed to converge (status=1):\n",
            "STOP: TOTAL NO. of ITERATIONS REACHED LIMIT.\n",
            "\n",
            "Increase the number of iterations (max_iter) or scale the data as shown in:\n",
            "    https://scikit-learn.org/stable/modules/preprocessing.html\n",
            "Please also refer to the documentation for alternative solver options:\n",
            "    https://scikit-learn.org/stable/modules/linear_model.html#logistic-regression\n",
            "  extra_warning_msg=_LOGISTIC_SOLVER_CONVERGENCE_MSG)\n"
          ],
          "name": "stderr"
        }
      ]
    },
    {
      "cell_type": "code",
      "metadata": {
        "colab": {
          "base_uri": "https://localhost:8080/"
        },
        "id": "UI2Sx5YPPgH7",
        "outputId": "39a9ee70-7dc5-4010-ec51-9414a0a13f98"
      },
      "source": [
        "from sklearn.metrics import accuracy_score, confusion_matrix,roc_curve, roc_auc_score, precision_score, recall_score, precision_recall_curve\n",
        "from sklearn.metrics import f1_score\n",
        "\n",
        "print(f'Accuracy Score: {accuracy_score(y_val, y_pred)}')\n",
        "print(f'Confusion Matrix: \\n{confusion_matrix(y_val, y_pred)}')\n",
        "print(f'Area Under Curve: {roc_auc_score(y_val, y_pred)}')\n",
        "print(f'Recall score: {recall_score(y_val, y_pred)}')\n",
        "print(f'Precision score: {precision_score(y_val, y_pred)}')\n",
        "print(f'f1 score: {f1_score(y_val, y_pred)}')\n",
        "recall_logreg = recall_score(y_val,y_pred)\n",
        "precision_logreg = precision_score(y_val,y_pred)\n",
        "f1_logreg = f1_score(y_val,y_pred)"
      ],
      "execution_count": null,
      "outputs": [
        {
          "output_type": "stream",
          "text": [
            "Accuracy Score: 0.6794682672906387\n",
            "Confusion Matrix: \n",
            "[[78958 37142]\n",
            " [  666  1188]]\n",
            "Area Under Curve: 0.6604314158366993\n",
            "Recall score: 0.6407766990291263\n",
            "Precision score: 0.030993999478215496\n",
            "f1 score: 0.05912801114871591\n"
          ],
          "name": "stdout"
        }
      ]
    },
    {
      "cell_type": "code",
      "metadata": {
        "colab": {
          "base_uri": "https://localhost:8080/"
        },
        "id": "6_2s5Rwwccuh",
        "outputId": "af92a115-d97d-4c9f-a232-f609a6bc8deb"
      },
      "source": [
        "from sklearn.metrics import classification_report\n",
        "\n",
        "print(classification_report(y_val, y_pred, target_names=['Not Fraudulent', 'Fraudulent']))"
      ],
      "execution_count": null,
      "outputs": [
        {
          "output_type": "stream",
          "text": [
            "                precision    recall  f1-score   support\n",
            "\n",
            "Not Fraudulent       0.99      0.68      0.81    116100\n",
            "    Fraudulent       0.03      0.64      0.06      1854\n",
            "\n",
            "      accuracy                           0.68    117954\n",
            "     macro avg       0.51      0.66      0.43    117954\n",
            "  weighted avg       0.98      0.68      0.80    117954\n",
            "\n"
          ],
          "name": "stdout"
        }
      ]
    },
    {
      "cell_type": "markdown",
      "metadata": {
        "id": "fvLL7zMJZuDj"
      },
      "source": [
        "# SVC (Takes Time to Run)"
      ]
    },
    {
      "cell_type": "code",
      "metadata": {
        "id": "QNzWkAD1ZuDk"
      },
      "source": [
        "# svc = SVC()\n",
        "# svc.fit(X_train, y_train)\n",
        "# y_pred = svc.predict(X_val)\n",
        "# acc_svc = accuracy_score(y_val, y_pred)\n",
        "# print(confusion_matrix(y_val, y_pred))"
      ],
      "execution_count": null,
      "outputs": []
    },
    {
      "cell_type": "code",
      "metadata": {
        "id": "UfMvgwBnQl4P"
      },
      "source": [
        "# print(f'Accuracy Score: {accuracy_score(y_val, y_pred)}')\n",
        "# print(f'Confusion Matrix: \\n{confusion_matrix(y_val, y_pred)}')\n",
        "# print(f'Area Under Curve: {roc_auc_score(y_val, y_pred)}')\n",
        "# print(f'Recall score: {recall_score(y_val, y_pred)}')\n",
        "# print(f'Precision score: {precision_score(y_val, y_pred)}')\n",
        "# print(f'f1 score: {f1_score(y_val, y_pred)}')\n",
        "\n",
        "# recall_svc = recall_score(y_val, y_pred)\n",
        "# precision_svc = precision_score(y_val, y_pred)\n",
        "# f1_svc = f1_score(y_val, y_pred)\n"
      ],
      "execution_count": null,
      "outputs": []
    },
    {
      "cell_type": "code",
      "metadata": {
        "id": "RHDdXdtrdC9w"
      },
      "source": [
        "# print(classification_report(y_val, y_pred, target_names=['Not Fraudulent', 'Fraudulent']))"
      ],
      "execution_count": null,
      "outputs": []
    },
    {
      "cell_type": "markdown",
      "metadata": {
        "id": "PBnAolFUQmVr"
      },
      "source": [
        "# XGBoost (Boosting Decision Trees)"
      ]
    },
    {
      "cell_type": "code",
      "metadata": {
        "id": "X14EPjc1Qnit"
      },
      "source": [
        "from sklearn.ensemble import GradientBoostingClassifier\n",
        "\n",
        "clf = GradientBoostingClassifier(n_estimators=100, learning_rate=1.0, max_depth=2, random_state=0).fit(X_train, y_train)"
      ],
      "execution_count": null,
      "outputs": []
    },
    {
      "cell_type": "code",
      "metadata": {
        "colab": {
          "base_uri": "https://localhost:8080/"
        },
        "id": "YNzu5FZ_Qobc",
        "outputId": "4d87e376-81a0-419d-def5-00f107cc2004"
      },
      "source": [
        "y_val = clf.predict(X_val)\n",
        "print(f'Accuracy Score: {accuracy_score(y_val, y_pred)}')\n",
        "print(f'Confusion Matrix: \\n{confusion_matrix(y_val, y_pred)}')\n",
        "print(f'Area Under Curve: {roc_auc_score(y_val, y_pred)}')\n",
        "print(f'Recall score: {recall_score(y_val, y_pred)}')\n",
        "print(f'Precision score: {precision_score(y_val, y_pred)}')\n",
        "print(f'f1 score: {f1_score(y_val, y_pred)}')\n",
        "\n",
        "acc_xgb = accuracy_score(y_val, y_pred)\n",
        "recall_xgb = recall_score(y_val, y_pred)\n",
        "precision_xgb = precision_score(y_val, y_pred)\n",
        "f1_xgb = f1_score(y_val, y_pred)\n",
        "\n"
      ],
      "execution_count": null,
      "outputs": [
        {
          "output_type": "stream",
          "text": [
            "Accuracy Score: 0.7961154348305272\n",
            "Confusion Matrix: \n",
            "[[69632 14057]\n",
            " [ 9992 24273]]\n",
            "Area Under Curve: 0.7702116847855732\n",
            "Recall score: 0.7083904859185758\n",
            "Precision score: 0.6332637620662667\n",
            "f1 score: 0.6687237413044975\n"
          ],
          "name": "stdout"
        }
      ]
    },
    {
      "cell_type": "code",
      "metadata": {
        "colab": {
          "base_uri": "https://localhost:8080/"
        },
        "id": "8meELSBGcf6p",
        "outputId": "19038fbb-4e93-4607-f955-4e12f2288c16"
      },
      "source": [
        "print(classification_report(y_val, y_pred, target_names=['Not Fraudulent', 'Fraudulent']))"
      ],
      "execution_count": null,
      "outputs": [
        {
          "output_type": "stream",
          "text": [
            "                precision    recall  f1-score   support\n",
            "\n",
            "Not Fraudulent       0.87      0.83      0.85     83689\n",
            "    Fraudulent       0.63      0.71      0.67     34265\n",
            "\n",
            "      accuracy                           0.80    117954\n",
            "     macro avg       0.75      0.77      0.76    117954\n",
            "  weighted avg       0.80      0.80      0.80    117954\n",
            "\n"
          ],
          "name": "stdout"
        }
      ]
    },
    {
      "cell_type": "markdown",
      "metadata": {
        "id": "7ewy7GrxZuDk"
      },
      "source": [
        "# Decision Tree"
      ]
    },
    {
      "cell_type": "code",
      "metadata": {
        "id": "A3mqO15mZuDk",
        "colab": {
          "base_uri": "https://localhost:8080/"
        },
        "outputId": "b52d173f-fc57-4c1f-d775-2fb104f1534d"
      },
      "source": [
        "tree = DecisionTreeClassifier()\n",
        "tree.fit(X_train, y_train)\n",
        "y_pred = tree.predict(X_val)\n",
        "acc_tree = accuracy_score(y_val, y_pred)\n",
        "acc_tree"
      ],
      "execution_count": null,
      "outputs": [
        {
          "output_type": "execute_result",
          "data": {
            "text/plain": [
              "0.7142191023619378"
            ]
          },
          "metadata": {
            "tags": []
          },
          "execution_count": 43
        }
      ]
    },
    {
      "cell_type": "code",
      "metadata": {
        "colab": {
          "base_uri": "https://localhost:8080/"
        },
        "id": "OeMu26ocY4Ie",
        "outputId": "f0d96795-2b5b-4b14-f3f2-1a6d79e6ece7"
      },
      "source": [
        "print(f'Accuracy Score: {accuracy_score(y_val, y_pred)}')\n",
        "print(f'Confusion Matrix: \\n{confusion_matrix(y_val, y_pred)}')\n",
        "print(f'Area Under Curve: {roc_auc_score(y_val, y_pred)}')\n",
        "print(f'Recall score: {recall_score(y_val, y_pred)}')\n",
        "print(f'Precision score: {precision_score(y_val, y_pred)}')\n",
        "print(f'f1 score: {f1_score(y_val, y_pred)}')\n",
        "\n",
        "recall_tree = recall_score(y_val, y_pred)\n",
        "precision_tree = precision_score(y_val, y_pred)\n",
        "f1_tree = f1_score(y_val, y_pred)"
      ],
      "execution_count": null,
      "outputs": [
        {
          "output_type": "stream",
          "text": [
            "Accuracy Score: 0.7142191023619378\n",
            "Confusion Matrix: \n",
            "[[83041   648]\n",
            " [33061  1204]]\n",
            "Area Under Curve: 0.5136974713678913\n",
            "Recall score: 0.035137895812053115\n",
            "Precision score: 0.6501079913606912\n",
            "f1 score: 0.06667220422515714\n"
          ],
          "name": "stdout"
        }
      ]
    },
    {
      "cell_type": "code",
      "metadata": {
        "colab": {
          "base_uri": "https://localhost:8080/"
        },
        "id": "BQAzxKeDdMug",
        "outputId": "1b0c547a-bdd6-4a68-9b71-a097a2b4c345"
      },
      "source": [
        "print(classification_report(y_val, y_pred, target_names=['Not Fraudulent', 'Fraudulent']))"
      ],
      "execution_count": null,
      "outputs": [
        {
          "output_type": "stream",
          "text": [
            "                precision    recall  f1-score   support\n",
            "\n",
            "Not Fraudulent       0.72      0.99      0.83     83689\n",
            "    Fraudulent       0.65      0.04      0.07     34265\n",
            "\n",
            "      accuracy                           0.71    117954\n",
            "     macro avg       0.68      0.51      0.45    117954\n",
            "  weighted avg       0.70      0.71      0.61    117954\n",
            "\n"
          ],
          "name": "stdout"
        }
      ]
    },
    {
      "cell_type": "markdown",
      "metadata": {
        "id": "Aa4r4vadZuDk"
      },
      "source": [
        "# Random Forest "
      ]
    },
    {
      "cell_type": "code",
      "metadata": {
        "id": "lxptP7ZPZuDk",
        "colab": {
          "base_uri": "https://localhost:8080/"
        },
        "outputId": "a3153589-6ea8-41f9-bc48-244277d772b1"
      },
      "source": [
        "rfc = RandomForestClassifier(n_estimators=75)\n",
        "rfc.fit(X_train, y_train)\n",
        "y_pred = rfc.predict(X_val)\n",
        "acc_rfc = accuracy_score(y_val, y_pred)\n",
        "acc_rfc"
      ],
      "execution_count": null,
      "outputs": [
        {
          "output_type": "execute_result",
          "data": {
            "text/plain": [
              "0.7099886396391814"
            ]
          },
          "metadata": {
            "tags": []
          },
          "execution_count": 46
        }
      ]
    },
    {
      "cell_type": "code",
      "metadata": {
        "id": "O-JnT6C4ZA-E",
        "colab": {
          "base_uri": "https://localhost:8080/"
        },
        "outputId": "8974d53a-9eee-4070-90e0-0d719eb64e32"
      },
      "source": [
        "print(f'Accuracy Score: {accuracy_score(y_val, y_pred)}')\n",
        "print(f'Confusion Matrix: \\n{confusion_matrix(y_val, y_pred)}')\n",
        "print(f'Area Under Curve: {roc_auc_score(y_val, y_pred)}')\n",
        "print(f'Recall score: {recall_score(y_val, y_pred)}')\n",
        "print(f'Precision score: {precision_score(y_val, y_pred)}')\n",
        "print(f'f1 score: {f1_score(y_val, y_pred)}')\n",
        "\n",
        "recall_rfc = recall_score(y_val, y_pred)\n",
        "precision_rfc = precision_score(y_val, y_pred)\n",
        "f1_rfc = f1_score(y_val, y_pred)"
      ],
      "execution_count": null,
      "outputs": [
        {
          "output_type": "stream",
          "text": [
            "Accuracy Score: 0.7099886396391814\n",
            "Confusion Matrix: \n",
            "[[83680     9]\n",
            " [34199    66]]\n",
            "Area Under Curve: 0.5009093113544841\n",
            "Recall score: 0.0019261637239165329\n",
            "Precision score: 0.88\n",
            "f1 score: 0.00384391380314502\n"
          ],
          "name": "stdout"
        }
      ]
    },
    {
      "cell_type": "code",
      "metadata": {
        "id": "tqLwOzlwcRKZ",
        "colab": {
          "base_uri": "https://localhost:8080/"
        },
        "outputId": "dd4a6215-6146-4113-a04d-bba709d89bd0"
      },
      "source": [
        "print(classification_report(y_val, y_pred, target_names=['Not Fraudulent', 'Fraudulent']))"
      ],
      "execution_count": null,
      "outputs": [
        {
          "output_type": "stream",
          "text": [
            "                precision    recall  f1-score   support\n",
            "\n",
            "Not Fraudulent       0.71      1.00      0.83     83689\n",
            "    Fraudulent       0.88      0.00      0.00     34265\n",
            "\n",
            "      accuracy                           0.71    117954\n",
            "     macro avg       0.79      0.50      0.42    117954\n",
            "  weighted avg       0.76      0.71      0.59    117954\n",
            "\n"
          ],
          "name": "stdout"
        }
      ]
    },
    {
      "cell_type": "markdown",
      "metadata": {
        "id": "eTCJTvvaa-We"
      },
      "source": [
        "# Bagging Decision Tree"
      ]
    },
    {
      "cell_type": "code",
      "metadata": {
        "id": "2dkq-vI3bAkB",
        "colab": {
          "base_uri": "https://localhost:8080/"
        },
        "outputId": "8adf028b-3dd8-4794-cd4a-9af1d77969c2"
      },
      "source": [
        "from sklearn.ensemble import BaggingClassifier\n",
        "import sklearn\n",
        "\n",
        "kfold = sklearn.model_selection.KFold(n_splits=10, random_state=7)\n",
        "cart = DecisionTreeClassifier()\n",
        "num_trees = 100\n",
        "model = BaggingClassifier(base_estimator=cart, n_estimators=num_trees, random_state=7)\n",
        "model.fit(X_train, y_train)\n",
        "y_pred = model.predict(X_val)"
      ],
      "execution_count": null,
      "outputs": [
        {
          "output_type": "stream",
          "text": [
            "/usr/local/lib/python3.7/dist-packages/sklearn/model_selection/_split.py:296: FutureWarning: Setting a random_state has no effect since shuffle is False. This will raise an error in 0.24. You should leave random_state to its default (None), or set shuffle=True.\n",
            "  FutureWarning\n"
          ],
          "name": "stderr"
        }
      ]
    },
    {
      "cell_type": "code",
      "metadata": {
        "id": "FXzBb8b8b7JQ",
        "colab": {
          "base_uri": "https://localhost:8080/"
        },
        "outputId": "72de6418-a7ad-410d-cac8-e5542d50c51d"
      },
      "source": [
        "print(f'Accuracy Score: {accuracy_score(y_val, y_pred)}')\n",
        "print(f'Confusion Matrix: \\n{confusion_matrix(y_val, y_pred)}')\n",
        "print(f'Area Under Curve: {roc_auc_score(y_val, y_pred)}')\n",
        "print(f'Recall score: {recall_score(y_val, y_pred)}')\n",
        "print(f'Precision score: {precision_score(y_val, y_pred)}')\n",
        "print(f'f1 score: {f1_score(y_val, y_pred)}')\n",
        "\n",
        "acc_bc = accuracy_score(y_val, y_pred)\n",
        "recall_bc = recall_score(y_val, y_pred)\n",
        "precision_bc = precision_score(y_val, y_pred)\n",
        "f1_bc = f1_score(y_val, y_pred)\n"
      ],
      "execution_count": null,
      "outputs": [
        {
          "output_type": "stream",
          "text": [
            "Accuracy Score: 0.7104294894619937\n",
            "Confusion Matrix: \n",
            "[[83625    64]\n",
            " [34092   173]]\n",
            "Area Under Curve: 0.5021420737971354\n",
            "Recall score: 0.005048883700569094\n",
            "Precision score: 0.729957805907173\n",
            "f1 score: 0.01002840415048403\n"
          ],
          "name": "stdout"
        }
      ]
    },
    {
      "cell_type": "code",
      "metadata": {
        "id": "DXR1okBwdTzq",
        "colab": {
          "base_uri": "https://localhost:8080/"
        },
        "outputId": "8b327727-78fd-45de-861d-37b39ef5b443"
      },
      "source": [
        "print(classification_report(y_val, y_pred, target_names=['Not Fraudulent', 'Fraudulent']))"
      ],
      "execution_count": null,
      "outputs": [
        {
          "output_type": "stream",
          "text": [
            "                precision    recall  f1-score   support\n",
            "\n",
            "Not Fraudulent       0.71      1.00      0.83     83689\n",
            "    Fraudulent       0.73      0.01      0.01     34265\n",
            "\n",
            "      accuracy                           0.71    117954\n",
            "     macro avg       0.72      0.50      0.42    117954\n",
            "  weighted avg       0.72      0.71      0.59    117954\n",
            "\n"
          ],
          "name": "stdout"
        }
      ]
    },
    {
      "cell_type": "markdown",
      "metadata": {
        "id": "SUEZeloLcBCz"
      },
      "source": [
        "# Naive Bayes"
      ]
    },
    {
      "cell_type": "code",
      "metadata": {
        "id": "fkaUT6NHcADL"
      },
      "source": [
        "from sklearn.naive_bayes import GaussianNB\n",
        "\n",
        "clf = GaussianNB()"
      ],
      "execution_count": null,
      "outputs": []
    },
    {
      "cell_type": "code",
      "metadata": {
        "colab": {
          "base_uri": "https://localhost:8080/"
        },
        "id": "j2af50tXrWbV",
        "outputId": "1c03e1ef-cdcc-41f6-8d90-357a61464bae"
      },
      "source": [
        "start_time = time.time()\n",
        "clf = clf.fit(X_train, y_train)\n",
        "total_time = time.time() - start_time\n",
        "print(\"Total Time for training a Naive Bayes Classifier is\", total_time)"
      ],
      "execution_count": null,
      "outputs": [
        {
          "output_type": "stream",
          "text": [
            "Total Time for training a Naive Bayes Classifier is 0.8258199691772461\n"
          ],
          "name": "stdout"
        }
      ]
    },
    {
      "cell_type": "code",
      "metadata": {
        "colab": {
          "base_uri": "https://localhost:8080/"
        },
        "id": "6Kmxr0PlrYxs",
        "outputId": "5f043e54-fc96-4f8e-f18b-7d043ff82828"
      },
      "source": [
        "start_time = time.time()\n",
        "y_pred = clf.predict(X_val)\n",
        "total_time = time.time() - start_time\n",
        "print(\"Total Time for inference of a Naive Bayes Classifier is\", total_time)"
      ],
      "execution_count": null,
      "outputs": [
        {
          "output_type": "stream",
          "text": [
            "Total Time for inference of a Naive Bayes Classifier is 0.07331252098083496\n"
          ],
          "name": "stdout"
        }
      ]
    },
    {
      "cell_type": "code",
      "metadata": {
        "colab": {
          "base_uri": "https://localhost:8080/"
        },
        "id": "zfk2X7r6cFJZ",
        "outputId": "54d9a791-e5a8-4211-d90b-56c9cdc530ea"
      },
      "source": [
        "print(f'Accuracy Score: {accuracy_score(y_val, y_pred)}')\n",
        "print(f'Confusion Matrix: \\n{confusion_matrix(y_val, y_pred)}')\n",
        "print(f'Area Under Curve: {roc_auc_score(y_val, y_pred)}')\n",
        "print(f'Recall score: {recall_score(y_val, y_pred)}')\n",
        "print(f'Precision score: {precision_score(y_val, y_pred)}')\n",
        "print(f'f1 score: {f1_score(y_val, y_pred)}')\n",
        "\n",
        "acc_nb = accuracy_score(y_val, y_pred)\n",
        "recall_nb = recall_score(y_val, y_pred)\n",
        "precision_nb = precision_score(y_val, y_pred)\n",
        "f1_nb = f1_score(y_val, y_pred)\n"
      ],
      "execution_count": null,
      "outputs": [
        {
          "output_type": "stream",
          "text": [
            "Accuracy Score: 0.7527510724519728\n",
            "Confusion Matrix: \n",
            "[[59751 23938]\n",
            " [ 5226 29039]]\n",
            "Area Under Curve: 0.7807238262327671\n",
            "Recall score: 0.8474828542244273\n",
            "Precision score: 0.548143533986447\n",
            "f1 score: 0.665711469246464\n"
          ],
          "name": "stdout"
        }
      ]
    },
    {
      "cell_type": "code",
      "metadata": {
        "colab": {
          "base_uri": "https://localhost:8080/"
        },
        "id": "jpz5gTpWdaNa",
        "outputId": "cd1dedf6-dcd3-4a65-fda2-e4871207bac1"
      },
      "source": [
        "print(classification_report(y_val, y_pred, target_names=['Not Fraudulent', 'Fraudulent']))"
      ],
      "execution_count": null,
      "outputs": [
        {
          "output_type": "stream",
          "text": [
            "                precision    recall  f1-score   support\n",
            "\n",
            "Not Fraudulent       0.92      0.71      0.80     83689\n",
            "    Fraudulent       0.55      0.85      0.67     34265\n",
            "\n",
            "      accuracy                           0.75    117954\n",
            "     macro avg       0.73      0.78      0.73    117954\n",
            "  weighted avg       0.81      0.75      0.76    117954\n",
            "\n"
          ],
          "name": "stdout"
        }
      ]
    },
    {
      "cell_type": "markdown",
      "metadata": {
        "id": "G8Ote_lbZuDl"
      },
      "source": [
        "# K-Nearest Neighbors"
      ]
    },
    {
      "cell_type": "code",
      "metadata": {
        "id": "gG4o3VrrZuDl",
        "colab": {
          "base_uri": "https://localhost:8080/"
        },
        "outputId": "7bc874c3-f38e-49d8-d736-40738a5abd62"
      },
      "source": [
        "knn = KNeighborsClassifier(n_neighbors=3)\n",
        "knn.fit(X_train, y_train)\n",
        "y_pred = knn.predict(X_val)\n",
        "acc_knn = accuracy_score(y_val, y_pred)\n",
        "acc_knn"
      ],
      "execution_count": null,
      "outputs": [
        {
          "output_type": "execute_result",
          "data": {
            "text/plain": [
              "0.7050714685385828"
            ]
          },
          "metadata": {
            "tags": []
          },
          "execution_count": 57
        }
      ]
    },
    {
      "cell_type": "code",
      "metadata": {
        "colab": {
          "base_uri": "https://localhost:8080/"
        },
        "id": "oAzlpz3aZGyv",
        "outputId": "2dd9f1a5-4203-4389-b86d-3665ef8569c7"
      },
      "source": [
        "print(f'Accuracy Score: {accuracy_score(y_val, y_pred)}')\n",
        "print(f'Confusion Matrix: \\n{confusion_matrix(y_val, y_pred)}')\n",
        "print(f'Area Under Curve: {roc_auc_score(y_val, y_pred)}')\n",
        "print(f'Recall score: {recall_score(y_val, y_pred)}')\n",
        "print(f'Precision score: {precision_score(y_val, y_pred)}')\n",
        "print(f'f1 score: {f1_score(y_val, y_pred)}')\n",
        "\n",
        "acc_knn = accuracy_score(y_val, y_pred)\n",
        "recall_knn = recall_score(y_val, y_pred)\n",
        "precision_knn = precision_score(y_val, y_pred)\n",
        "f1_knn = f1_score(y_val, y_pred)\n"
      ],
      "execution_count": null,
      "outputs": [
        {
          "output_type": "stream",
          "text": [
            "Accuracy Score: 0.7050714685385828\n",
            "Confusion Matrix: \n",
            "[[81644  2045]\n",
            " [32743  1522]]\n",
            "Area Under Curve: 0.5099913972244529\n",
            "Recall score: 0.04441850284546914\n",
            "Precision score: 0.42668909447715164\n",
            "f1 score: 0.08046098540917741\n"
          ],
          "name": "stdout"
        }
      ]
    },
    {
      "cell_type": "code",
      "metadata": {
        "colab": {
          "base_uri": "https://localhost:8080/"
        },
        "id": "OH9Y1EdhddoH",
        "outputId": "c745335b-da14-47ba-cc2e-808cb206842b"
      },
      "source": [
        "print(classification_report(y_val, y_pred, target_names=['Not Fraudulent', 'Fraudulent']))"
      ],
      "execution_count": null,
      "outputs": [
        {
          "output_type": "stream",
          "text": [
            "                precision    recall  f1-score   support\n",
            "\n",
            "Not Fraudulent       0.71      0.98      0.82     83689\n",
            "    Fraudulent       0.43      0.04      0.08     34265\n",
            "\n",
            "      accuracy                           0.71    117954\n",
            "     macro avg       0.57      0.51      0.45    117954\n",
            "  weighted avg       0.63      0.71      0.61    117954\n",
            "\n"
          ],
          "name": "stdout"
        }
      ]
    },
    {
      "cell_type": "markdown",
      "metadata": {
        "id": "J9osUXaOZuDl"
      },
      "source": [
        "##Elbow Method\n"
      ]
    },
    {
      "cell_type": "code",
      "metadata": {
        "id": "dIYvtTXcZuDl",
        "colab": {
          "base_uri": "https://localhost:8080/",
          "height": 283
        },
        "outputId": "7e7a77be-cec6-4142-ed27-80213aa0c952"
      },
      "source": [
        "error_rate = []\n",
        "range_knn = range(1,10)\n",
        "for i in range_knn:\n",
        "    classifier = KNeighborsClassifier(n_neighbors=i)\n",
        "    classifier.fit(X_train, y_train)\n",
        "    pred_i = classifier.predict(X_val)\n",
        "    error_rate.append(np.mean(pred_i != y_val))\n",
        "plt.plot(range_knn, error_rate)"
      ],
      "execution_count": null,
      "outputs": [
        {
          "output_type": "execute_result",
          "data": {
            "text/plain": [
              "[<matplotlib.lines.Line2D at 0x7fb66270b1d0>]"
            ]
          },
          "metadata": {
            "tags": []
          },
          "execution_count": 60
        },
        {
          "output_type": "display_data",
          "data": {
            "image/png": "[encoded data removed]",
            "text/plain": [
              "<Figure size 432x288 with 1 Axes>"
            ]
          },
          "metadata": {
            "tags": [],
            "needs_background": "light"
          }
        }
      ]
    },
    {
      "cell_type": "markdown",
      "metadata": {
        "id": "GmjOSxj0eBIu"
      },
      "source": [
        "# Deep Learning"
      ]
    },
    {
      "cell_type": "code",
      "metadata": {
        "id": "hNSOVpopeDcH"
      },
      "source": [
        "import keras\n",
        "from keras.layers import Dense\n",
        "from keras.models import Sequential\n",
        "from keras.optimizers import SGD, Adam"
      ],
      "execution_count": null,
      "outputs": []
    },
    {
      "cell_type": "code",
      "metadata": {
        "id": "Q9k6qqA1ekj-"
      },
      "source": [
        "y_train = np.reshape(y_train.values, (len(y_train), 1))"
      ],
      "execution_count": null,
      "outputs": []
    },
    {
      "cell_type": "code",
      "metadata": {
        "id": "TQNyCE7ueubX"
      },
      "source": [
        "model = Sequential()\n",
        "model.add(Dense(64, input_shape=[X_train.shape[1]], activation='relu'))\n",
        "model.add(Dense(32, activation='relu'))\n",
        "model.add(Dense(1, activation='sigmoid'))\n",
        "model.compile(optimizer=Adam(learning_rate=0.0001), loss='binary_crossentropy', metrics=['accuracy'])"
      ],
      "execution_count": null,
      "outputs": []
    },
    {
      "cell_type": "code",
      "metadata": {
        "colab": {
          "base_uri": "https://localhost:8080/"
        },
        "id": "OgkrYPVjiIID",
        "outputId": "d2a2df2d-d504-4fd0-d696-b59f49b46c67"
      },
      "source": [
        "model.summary()"
      ],
      "execution_count": null,
      "outputs": [
        {
          "output_type": "stream",
          "text": [
            "Model: \"sequential\"\n",
            "_________________________________________________________________\n",
            "Layer (type)                 Output Shape              Param #   \n",
            "=================================================================\n",
            "dense (Dense)                (None, 64)                3136      \n",
            "_________________________________________________________________\n",
            "dense_1 (Dense)              (None, 32)                2080      \n",
            "_________________________________________________________________\n",
            "dense_2 (Dense)              (None, 1)                 33        \n",
            "=================================================================\n",
            "Total params: 5,249\n",
            "Trainable params: 5,249\n",
            "Non-trainable params: 0\n",
            "_________________________________________________________________\n"
          ],
          "name": "stdout"
        }
      ]
    },
    {
      "cell_type": "code",
      "metadata": {
        "colab": {
          "base_uri": "https://localhost:8080/"
        },
        "id": "4000XVHPfBxb",
        "outputId": "b2cee0ac-1d38-4224-fcde-91d6d17968c6"
      },
      "source": [
        "number_of_iterations = 20\n",
        "batch_size = 512\n",
        "model.fit(X_train, y_train, batch_size=batch_size, epochs=number_of_iterations, verbose=2, validation_data=(X_val, y_val))"
      ],
      "execution_count": null,
      "outputs": [
        {
          "output_type": "stream",
          "text": [
            "Epoch 1/20\n",
            "2268/2268 - 19s - loss: 33.7067 - accuracy: 0.5395 - val_loss: 2.0114 - val_accuracy: 0.5487\n",
            "Epoch 2/20\n",
            "2268/2268 - 4s - loss: 1.6616 - accuracy: 0.5752 - val_loss: 0.9709 - val_accuracy: 0.6798\n",
            "Epoch 3/20\n",
            "2268/2268 - 4s - loss: 1.3088 - accuracy: 0.5927 - val_loss: 0.8905 - val_accuracy: 0.6920\n",
            "Epoch 4/20\n",
            "2268/2268 - 4s - loss: 1.1446 - accuracy: 0.6053 - val_loss: 0.7469 - val_accuracy: 0.7009\n",
            "Epoch 5/20\n",
            "2268/2268 - 4s - loss: 1.0491 - accuracy: 0.6115 - val_loss: 0.6651 - val_accuracy: 0.7185\n",
            "Epoch 6/20\n",
            "2268/2268 - 4s - loss: 0.9659 - accuracy: 0.6188 - val_loss: 2.4013 - val_accuracy: 0.4275\n",
            "Epoch 7/20\n",
            "2268/2268 - 4s - loss: 0.9437 - accuracy: 0.6219 - val_loss: 0.5284 - val_accuracy: 0.7723\n",
            "Epoch 8/20\n",
            "2268/2268 - 4s - loss: 0.9242 - accuracy: 0.6234 - val_loss: 0.5649 - val_accuracy: 0.7674\n",
            "Epoch 9/20\n",
            "2268/2268 - 5s - loss: 0.9015 - accuracy: 0.6261 - val_loss: 0.6392 - val_accuracy: 0.7394\n",
            "Epoch 10/20\n",
            "2268/2268 - 5s - loss: 0.8801 - accuracy: 0.6279 - val_loss: 0.4797 - val_accuracy: 0.7871\n",
            "Epoch 11/20\n",
            "2268/2268 - 5s - loss: 0.8655 - accuracy: 0.6311 - val_loss: 0.9290 - val_accuracy: 0.6569\n",
            "Epoch 12/20\n",
            "2268/2268 - 5s - loss: 0.8631 - accuracy: 0.6313 - val_loss: 0.4977 - val_accuracy: 0.7817\n",
            "Epoch 13/20\n",
            "2268/2268 - 5s - loss: 0.8552 - accuracy: 0.6324 - val_loss: 0.7497 - val_accuracy: 0.6888\n",
            "Epoch 14/20\n",
            "2268/2268 - 5s - loss: 0.8462 - accuracy: 0.6331 - val_loss: 0.4821 - val_accuracy: 0.7957\n",
            "Epoch 15/20\n",
            "2268/2268 - 5s - loss: 0.8356 - accuracy: 0.6345 - val_loss: 1.3276 - val_accuracy: 0.5640\n",
            "Epoch 16/20\n",
            "2268/2268 - 4s - loss: 0.8337 - accuracy: 0.6339 - val_loss: 0.5182 - val_accuracy: 0.7438\n",
            "Epoch 17/20\n",
            "2268/2268 - 4s - loss: 0.8298 - accuracy: 0.6358 - val_loss: 0.5754 - val_accuracy: 0.7752\n",
            "Epoch 18/20\n",
            "2268/2268 - 4s - loss: 0.8253 - accuracy: 0.6354 - val_loss: 0.6582 - val_accuracy: 0.7490\n",
            "Epoch 19/20\n",
            "2268/2268 - 4s - loss: 0.8204 - accuracy: 0.6378 - val_loss: 0.5060 - val_accuracy: 0.7709\n",
            "Epoch 20/20\n",
            "2268/2268 - 4s - loss: 0.8092 - accuracy: 0.6391 - val_loss: 0.5468 - val_accuracy: 0.7150\n"
          ],
          "name": "stdout"
        },
        {
          "output_type": "execute_result",
          "data": {
            "text/plain": [
              "<keras.callbacks.History at 0x7fb661619cd0>"
            ]
          },
          "metadata": {
            "tags": []
          },
          "execution_count": 65
        }
      ]
    },
    {
      "cell_type": "code",
      "metadata": {
        "colab": {
          "base_uri": "https://localhost:8080/"
        },
        "id": "8J8wDCEKpRyB",
        "outputId": "ac1faee8-8a47-4d57-9b01-1efe0e91ede6"
      },
      "source": [
        "y_pred_value = model.predict(X_val)\n",
        "y_pred = [0 if each > 0.5 else 1 for each in y_pred_value]\n",
        "print(f'Accuracy Score: {accuracy_score(y_val, y_pred)}')\n",
        "print(f'Confusion Matrix: \\n{confusion_matrix(y_val, y_pred)}')\n",
        "print(f'Area Under Curve: {roc_auc_score(y_val, y_pred)}')\n",
        "print(f'Recall score: {recall_score(y_val, y_pred)}')\n",
        "print(f'Precision score: {precision_score(y_val, y_pred)}')\n",
        "print(f'f1 score: {f1_score(y_val, y_pred)}')\n",
        "print(classification_report(y_val, y_pred, target_names=['Not Fraudulent', 'Fraudulent']))\n",
        "\n",
        "acc_dl = accuracy_score(y_val, y_pred)\n",
        "recall_dl = recall_score(y_val, y_pred)\n",
        "precision_dl = precision_score(y_val, y_pred)\n",
        "f1_dl = f1_score(y_val, y_pred)\n"
      ],
      "execution_count": null,
      "outputs": [
        {
          "output_type": "stream",
          "text": [
            "Accuracy Score: 0.28495854316089325\n",
            "Confusion Matrix: \n",
            "[[30055 53634]\n",
            " [30708  3557]]\n",
            "Area Under Curve: 0.23146789795912467\n",
            "Recall score: 0.10380855099956224\n",
            "Precision score: 0.06219510062772114\n",
            "f1 score: 0.07778603918824353\n",
            "                precision    recall  f1-score   support\n",
            "\n",
            "Not Fraudulent       0.49      0.36      0.42     83689\n",
            "    Fraudulent       0.06      0.10      0.08     34265\n",
            "\n",
            "      accuracy                           0.28    117954\n",
            "     macro avg       0.28      0.23      0.25    117954\n",
            "  weighted avg       0.37      0.28      0.32    117954\n",
            "\n"
          ],
          "name": "stdout"
        }
      ]
    },
    {
      "cell_type": "markdown",
      "metadata": {
        "id": "edFSqUrRZuDl"
      },
      "source": [
        "# Results"
      ]
    },
    {
      "cell_type": "code",
      "metadata": {
        "id": "6-Q8QNsrZuDl",
        "colab": {
          "base_uri": "https://localhost:8080/",
          "height": 294
        },
        "outputId": "9eef91af-8b61-4c4b-b858-257289226d41"
      },
      "source": [
        "models = pd.DataFrame({\n",
        "    'Model': ['Logistic Regression', \n",
        "              'XGBoost', 'Decision Trees', 'Random Forest Classifier', \n",
        "              'Bagging Decision Tree','Naive Bayes','KNN','Deep learning'],\n",
        "    'Accuracy': [acc_logreg, \n",
        "              acc_xgb, acc_tree, acc_rfc, \n",
        "              acc_bc, acc_nb, acc_knn, acc_dl],\n",
        "    'Recall': [recall_logreg, \n",
        "    recall_xgb, recall_tree, recall_rfc, \n",
        "    recall_bc, recall_nb, recall_knn, recall_dl],\n",
        "    'Precision': [precision_logreg, \n",
        "    precision_xgb, precision_tree, precision_rfc, \n",
        "    precision_bc, precision_nb, precision_knn, precision_dl],\n",
        "    'F1': [f1_logreg, \n",
        "     f1_xgb, f1_tree, f1_rfc, \n",
        "     f1_bc, f1_nb, f1_knn, f1_dl]})\n",
        "models.sort_values(by='Recall', ascending=False)"
      ],
      "execution_count": null,
      "outputs": [
        {
          "output_type": "execute_result",
          "data": {
            "text/html": [
              "<div>\n",
              "<style scoped>\n",
              "    .dataframe tbody tr th:only-of-type {\n",
              "        vertical-align: middle;\n",
              "    }\n",
              "\n",
              "    .dataframe tbody tr th {\n",
              "        vertical-align: top;\n",
              "    }\n",
              "\n",
              "    .dataframe thead th {\n",
              "        text-align: right;\n",
              "    }\n",
              "</style>\n",
              "<table border=\"1\" class=\"dataframe\">\n",
              "  <thead>\n",
              "    <tr style=\"text-align: right;\">\n",
              "      <th></th>\n",
              "      <th>Model</th>\n",
              "      <th>Accuracy</th>\n",
              "      <th>Recall</th>\n",
              "      <th>Precision</th>\n",
              "      <th>F1</th>\n",
              "    </tr>\n",
              "  </thead>\n",
              "  <tbody>\n",
              "    <tr>\n",
              "      <th>5</th>\n",
              "      <td>Naive Bayes</td>\n",
              "      <td>0.752751</td>\n",
              "      <td>0.847483</td>\n",
              "      <td>0.548144</td>\n",
              "      <td>0.665711</td>\n",
              "    </tr>\n",
              "    <tr>\n",
              "      <th>1</th>\n",
              "      <td>XGBoost</td>\n",
              "      <td>0.796115</td>\n",
              "      <td>0.708390</td>\n",
              "      <td>0.633264</td>\n",
              "      <td>0.668724</td>\n",
              "    </tr>\n",
              "    <tr>\n",
              "      <th>0</th>\n",
              "      <td>Logistic Regression</td>\n",
              "      <td>0.679468</td>\n",
              "      <td>0.640777</td>\n",
              "      <td>0.030994</td>\n",
              "      <td>0.059128</td>\n",
              "    </tr>\n",
              "    <tr>\n",
              "      <th>7</th>\n",
              "      <td>Deep learning</td>\n",
              "      <td>0.284959</td>\n",
              "      <td>0.103809</td>\n",
              "      <td>0.062195</td>\n",
              "      <td>0.077786</td>\n",
              "    </tr>\n",
              "    <tr>\n",
              "      <th>6</th>\n",
              "      <td>KNN</td>\n",
              "      <td>0.705071</td>\n",
              "      <td>0.044419</td>\n",
              "      <td>0.426689</td>\n",
              "      <td>0.080461</td>\n",
              "    </tr>\n",
              "    <tr>\n",
              "      <th>2</th>\n",
              "      <td>Decision Trees</td>\n",
              "      <td>0.714219</td>\n",
              "      <td>0.035138</td>\n",
              "      <td>0.650108</td>\n",
              "      <td>0.066672</td>\n",
              "    </tr>\n",
              "    <tr>\n",
              "      <th>4</th>\n",
              "      <td>Bagging Decision Tree</td>\n",
              "      <td>0.710429</td>\n",
              "      <td>0.005049</td>\n",
              "      <td>0.729958</td>\n",
              "      <td>0.010028</td>\n",
              "    </tr>\n",
              "    <tr>\n",
              "      <th>3</th>\n",
              "      <td>Random Forest Classifier</td>\n",
              "      <td>0.709989</td>\n",
              "      <td>0.001926</td>\n",
              "      <td>0.880000</td>\n",
              "      <td>0.003844</td>\n",
              "    </tr>\n",
              "  </tbody>\n",
              "</table>\n",
              "</div>"
            ],
            "text/plain": [
              "                      Model  Accuracy    Recall  Precision        F1\n",
              "5               Naive Bayes  0.752751  0.847483   0.548144  0.665711\n",
              "1                   XGBoost  0.796115  0.708390   0.633264  0.668724\n",
              "0       Logistic Regression  0.679468  0.640777   0.030994  0.059128\n",
              "7             Deep learning  0.284959  0.103809   0.062195  0.077786\n",
              "6                       KNN  0.705071  0.044419   0.426689  0.080461\n",
              "2            Decision Trees  0.714219  0.035138   0.650108  0.066672\n",
              "4     Bagging Decision Tree  0.710429  0.005049   0.729958  0.010028\n",
              "3  Random Forest Classifier  0.709989  0.001926   0.880000  0.003844"
            ]
          },
          "metadata": {
            "tags": []
          },
          "execution_count": 67
        }
      ]
    }
  ]
}